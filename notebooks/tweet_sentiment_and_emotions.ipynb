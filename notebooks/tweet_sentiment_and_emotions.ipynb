{
  "nbformat": 4,
  "nbformat_minor": 0,
  "metadata": {
    "colab": {
      "provenance": [],
      "toc_visible": true,
      "gpuType": "T4",
      "authorship_tag": "ABX9TyM2VW7NXoaEamPHxxjQRD3R",
      "include_colab_link": true
    },
    "kernelspec": {
      "name": "python3",
      "display_name": "Python 3"
    },
    "language_info": {
      "name": "python"
    },
    "accelerator": "GPU"
  },
  "cells": [
    {
      "cell_type": "markdown",
      "metadata": {
        "id": "view-in-github",
        "colab_type": "text"
      },
      "source": [
        "<a href=\"https://colab.research.google.com/github/beratcmn/tweet-sentiment-emotion/blob/main/notebooks/tweet_sentiment_and_emotions.ipynb\" target=\"_parent\"><img src=\"https://colab.research.google.com/assets/colab-badge.svg\" alt=\"Open In Colab\"/></a>"
      ]
    },
    {
      "cell_type": "markdown",
      "source": [
        "### Getting the data"
      ],
      "metadata": {
        "id": "b_N2HgOUfQqZ"
      }
    },
    {
      "cell_type": "code",
      "execution_count": null,
      "metadata": {
        "colab": {
          "base_uri": "https://localhost:8080/"
        },
        "id": "gjdR6ztVdMxO",
        "outputId": "20b53cf3-6bd9-40db-9e47-3a231e901f1c"
      },
      "outputs": [
        {
          "output_type": "stream",
          "name": "stdout",
          "text": [
            "--2023-07-04 21:24:33--  https://transfer.sh/yrO6hoF2f5/archive%20%283%29.zip\n",
            "Resolving transfer.sh (transfer.sh)... 144.76.136.153, 2a01:4f8:200:1097::2\n",
            "Connecting to transfer.sh (transfer.sh)|144.76.136.153|:443... connected.\n",
            "HTTP request sent, awaiting response... 200 OK\n",
            "Length: 3095050 (3.0M) [application/zip]\n",
            "Saving to: ‘./data/data.zip’\n",
            "\n",
            "./data/data.zip     100%[===================>]   2.95M  3.61MB/s    in 0.8s    \n",
            "\n",
            "2023-07-04 21:24:34 (3.61 MB/s) - ‘./data/data.zip’ saved [3095050/3095050]\n",
            "\n",
            "Archive:  ./data/data.zip\n",
            "  inflating: ./data/sentiment-emotion-labelled_Dell_tweets.csv  \n"
          ]
        }
      ],
      "source": [
        "!mkdir data\n",
        "!wget https://transfer.sh/yrO6hoF2f5/archive%20%283%29.zip -O ./data/data.zip\n",
        "!unzip ./data/data.zip -d ./data"
      ]
    },
    {
      "cell_type": "markdown",
      "source": [
        "### Loading the data"
      ],
      "metadata": {
        "id": "EmjnIRAOgWTQ"
      }
    },
    {
      "cell_type": "code",
      "source": [
        "import tensorflow as tf\n",
        "import pandas as pd\n",
        "import numpy as np\n",
        "import matplotlib.pyplot as plt"
      ],
      "metadata": {
        "id": "2QnrIHRYgXbJ"
      },
      "execution_count": null,
      "outputs": []
    },
    {
      "cell_type": "code",
      "source": [
        "tweet_data_df = pd.read_csv(\"./data/sentiment-emotion-labelled_Dell_tweets.csv\")"
      ],
      "metadata": {
        "id": "mivmnuMBgdpz"
      },
      "execution_count": null,
      "outputs": []
    },
    {
      "cell_type": "code",
      "source": [
        "tweet_data_df.head()"
      ],
      "metadata": {
        "colab": {
          "base_uri": "https://localhost:8080/",
          "height": 478
        },
        "id": "IF9fsiWPgm0i",
        "outputId": "18c2f66a-880d-4221-e211-6231032d1b62"
      },
      "execution_count": null,
      "outputs": [
        {
          "output_type": "execute_result",
          "data": {
            "text/plain": [
              "   Unnamed: 0                   Datetime             Tweet Id  \\\n",
              "0           0  2022-09-30 23:29:15+00:00  1575991191170342912   \n",
              "1           1  2022-09-30 21:46:35+00:00  1575965354425131008   \n",
              "2           2  2022-09-30 21:18:02+00:00  1575958171423752203   \n",
              "3           3  2022-09-30 20:05:24+00:00  1575939891485032450   \n",
              "4           4  2022-09-30 20:03:17+00:00  1575939359160750080   \n",
              "\n",
              "                                                Text        Username  \\\n",
              "0  @Logitech @apple @Google @Microsoft @Dell @Len...  ManjuSreedaran   \n",
              "1  @MK_habit_addict @official_stier @MortalKombat...      MiKeMcDnet   \n",
              "2  As @CRN celebrates its 40th anniversary, Bob F...        jfollett   \n",
              "3  @dell your customer service is horrible especi...       daveccarr   \n",
              "4  @zacokalo @Dell @DellCares @Dell give the man ...      heycamella   \n",
              "\n",
              "  sentiment  sentiment_score       emotion  emotion_score  \n",
              "0   neutral         0.853283  anticipation       0.587121  \n",
              "1   neutral         0.519470           joy       0.886913  \n",
              "2  positive         0.763791           joy       0.960347  \n",
              "3  negative         0.954023         anger       0.983203  \n",
              "4   neutral         0.529170         anger       0.776124  "
            ],
            "text/html": [
              "\n",
              "  <div id=\"df-7cbd0623-cdd8-4d82-9cdc-bba0baeb4579\">\n",
              "    <div class=\"colab-df-container\">\n",
              "      <div>\n",
              "<style scoped>\n",
              "    .dataframe tbody tr th:only-of-type {\n",
              "        vertical-align: middle;\n",
              "    }\n",
              "\n",
              "    .dataframe tbody tr th {\n",
              "        vertical-align: top;\n",
              "    }\n",
              "\n",
              "    .dataframe thead th {\n",
              "        text-align: right;\n",
              "    }\n",
              "</style>\n",
              "<table border=\"1\" class=\"dataframe\">\n",
              "  <thead>\n",
              "    <tr style=\"text-align: right;\">\n",
              "      <th></th>\n",
              "      <th>Unnamed: 0</th>\n",
              "      <th>Datetime</th>\n",
              "      <th>Tweet Id</th>\n",
              "      <th>Text</th>\n",
              "      <th>Username</th>\n",
              "      <th>sentiment</th>\n",
              "      <th>sentiment_score</th>\n",
              "      <th>emotion</th>\n",
              "      <th>emotion_score</th>\n",
              "    </tr>\n",
              "  </thead>\n",
              "  <tbody>\n",
              "    <tr>\n",
              "      <th>0</th>\n",
              "      <td>0</td>\n",
              "      <td>2022-09-30 23:29:15+00:00</td>\n",
              "      <td>1575991191170342912</td>\n",
              "      <td>@Logitech @apple @Google @Microsoft @Dell @Len...</td>\n",
              "      <td>ManjuSreedaran</td>\n",
              "      <td>neutral</td>\n",
              "      <td>0.853283</td>\n",
              "      <td>anticipation</td>\n",
              "      <td>0.587121</td>\n",
              "    </tr>\n",
              "    <tr>\n",
              "      <th>1</th>\n",
              "      <td>1</td>\n",
              "      <td>2022-09-30 21:46:35+00:00</td>\n",
              "      <td>1575965354425131008</td>\n",
              "      <td>@MK_habit_addict @official_stier @MortalKombat...</td>\n",
              "      <td>MiKeMcDnet</td>\n",
              "      <td>neutral</td>\n",
              "      <td>0.519470</td>\n",
              "      <td>joy</td>\n",
              "      <td>0.886913</td>\n",
              "    </tr>\n",
              "    <tr>\n",
              "      <th>2</th>\n",
              "      <td>2</td>\n",
              "      <td>2022-09-30 21:18:02+00:00</td>\n",
              "      <td>1575958171423752203</td>\n",
              "      <td>As @CRN celebrates its 40th anniversary, Bob F...</td>\n",
              "      <td>jfollett</td>\n",
              "      <td>positive</td>\n",
              "      <td>0.763791</td>\n",
              "      <td>joy</td>\n",
              "      <td>0.960347</td>\n",
              "    </tr>\n",
              "    <tr>\n",
              "      <th>3</th>\n",
              "      <td>3</td>\n",
              "      <td>2022-09-30 20:05:24+00:00</td>\n",
              "      <td>1575939891485032450</td>\n",
              "      <td>@dell your customer service is horrible especi...</td>\n",
              "      <td>daveccarr</td>\n",
              "      <td>negative</td>\n",
              "      <td>0.954023</td>\n",
              "      <td>anger</td>\n",
              "      <td>0.983203</td>\n",
              "    </tr>\n",
              "    <tr>\n",
              "      <th>4</th>\n",
              "      <td>4</td>\n",
              "      <td>2022-09-30 20:03:17+00:00</td>\n",
              "      <td>1575939359160750080</td>\n",
              "      <td>@zacokalo @Dell @DellCares @Dell give the man ...</td>\n",
              "      <td>heycamella</td>\n",
              "      <td>neutral</td>\n",
              "      <td>0.529170</td>\n",
              "      <td>anger</td>\n",
              "      <td>0.776124</td>\n",
              "    </tr>\n",
              "  </tbody>\n",
              "</table>\n",
              "</div>\n",
              "      <button class=\"colab-df-convert\" onclick=\"convertToInteractive('df-7cbd0623-cdd8-4d82-9cdc-bba0baeb4579')\"\n",
              "              title=\"Convert this dataframe to an interactive table.\"\n",
              "              style=\"display:none;\">\n",
              "        \n",
              "  <svg xmlns=\"http://www.w3.org/2000/svg\" height=\"24px\"viewBox=\"0 0 24 24\"\n",
              "       width=\"24px\">\n",
              "    <path d=\"M0 0h24v24H0V0z\" fill=\"none\"/>\n",
              "    <path d=\"M18.56 5.44l.94 2.06.94-2.06 2.06-.94-2.06-.94-.94-2.06-.94 2.06-2.06.94zm-11 1L8.5 8.5l.94-2.06 2.06-.94-2.06-.94L8.5 2.5l-.94 2.06-2.06.94zm10 10l.94 2.06.94-2.06 2.06-.94-2.06-.94-.94-2.06-.94 2.06-2.06.94z\"/><path d=\"M17.41 7.96l-1.37-1.37c-.4-.4-.92-.59-1.43-.59-.52 0-1.04.2-1.43.59L10.3 9.45l-7.72 7.72c-.78.78-.78 2.05 0 2.83L4 21.41c.39.39.9.59 1.41.59.51 0 1.02-.2 1.41-.59l7.78-7.78 2.81-2.81c.8-.78.8-2.07 0-2.86zM5.41 20L4 18.59l7.72-7.72 1.47 1.35L5.41 20z\"/>\n",
              "  </svg>\n",
              "      </button>\n",
              "      \n",
              "  <style>\n",
              "    .colab-df-container {\n",
              "      display:flex;\n",
              "      flex-wrap:wrap;\n",
              "      gap: 12px;\n",
              "    }\n",
              "\n",
              "    .colab-df-convert {\n",
              "      background-color: #E8F0FE;\n",
              "      border: none;\n",
              "      border-radius: 50%;\n",
              "      cursor: pointer;\n",
              "      display: none;\n",
              "      fill: #1967D2;\n",
              "      height: 32px;\n",
              "      padding: 0 0 0 0;\n",
              "      width: 32px;\n",
              "    }\n",
              "\n",
              "    .colab-df-convert:hover {\n",
              "      background-color: #E2EBFA;\n",
              "      box-shadow: 0px 1px 2px rgba(60, 64, 67, 0.3), 0px 1px 3px 1px rgba(60, 64, 67, 0.15);\n",
              "      fill: #174EA6;\n",
              "    }\n",
              "\n",
              "    [theme=dark] .colab-df-convert {\n",
              "      background-color: #3B4455;\n",
              "      fill: #D2E3FC;\n",
              "    }\n",
              "\n",
              "    [theme=dark] .colab-df-convert:hover {\n",
              "      background-color: #434B5C;\n",
              "      box-shadow: 0px 1px 3px 1px rgba(0, 0, 0, 0.15);\n",
              "      filter: drop-shadow(0px 1px 2px rgba(0, 0, 0, 0.3));\n",
              "      fill: #FFFFFF;\n",
              "    }\n",
              "  </style>\n",
              "\n",
              "      <script>\n",
              "        const buttonEl =\n",
              "          document.querySelector('#df-7cbd0623-cdd8-4d82-9cdc-bba0baeb4579 button.colab-df-convert');\n",
              "        buttonEl.style.display =\n",
              "          google.colab.kernel.accessAllowed ? 'block' : 'none';\n",
              "\n",
              "        async function convertToInteractive(key) {\n",
              "          const element = document.querySelector('#df-7cbd0623-cdd8-4d82-9cdc-bba0baeb4579');\n",
              "          const dataTable =\n",
              "            await google.colab.kernel.invokeFunction('convertToInteractive',\n",
              "                                                     [key], {});\n",
              "          if (!dataTable) return;\n",
              "\n",
              "          const docLinkHtml = 'Like what you see? Visit the ' +\n",
              "            '<a target=\"_blank\" href=https://colab.research.google.com/notebooks/data_table.ipynb>data table notebook</a>'\n",
              "            + ' to learn more about interactive tables.';\n",
              "          element.innerHTML = '';\n",
              "          dataTable['output_type'] = 'display_data';\n",
              "          await google.colab.output.renderOutput(dataTable, element);\n",
              "          const docLink = document.createElement('div');\n",
              "          docLink.innerHTML = docLinkHtml;\n",
              "          element.appendChild(docLink);\n",
              "        }\n",
              "      </script>\n",
              "    </div>\n",
              "  </div>\n",
              "  "
            ]
          },
          "metadata": {},
          "execution_count": 3
        }
      ]
    },
    {
      "cell_type": "markdown",
      "source": [
        "### Cleaning the data"
      ],
      "metadata": {
        "id": "-BHh9Na0hRyD"
      }
    },
    {
      "cell_type": "code",
      "source": [
        "tweet_data_df.columns"
      ],
      "metadata": {
        "colab": {
          "base_uri": "https://localhost:8080/"
        },
        "id": "u_FkSxQDg7s6",
        "outputId": "485535fa-2296-471a-8b25-6d9d51636146"
      },
      "execution_count": null,
      "outputs": [
        {
          "output_type": "execute_result",
          "data": {
            "text/plain": [
              "Index(['Unnamed: 0', 'Datetime', 'Tweet Id', 'Text', 'Username', 'sentiment',\n",
              "       'sentiment_score', 'emotion', 'emotion_score'],\n",
              "      dtype='object')"
            ]
          },
          "metadata": {},
          "execution_count": 4
        }
      ]
    },
    {
      "cell_type": "code",
      "source": [
        "tweet_data_df = tweet_data_df.drop([\"Unnamed: 0\", \"Datetime\", \"Tweet Id\", \"Username\"], axis=1)"
      ],
      "metadata": {
        "id": "XP8qxbHghACm"
      },
      "execution_count": null,
      "outputs": []
    },
    {
      "cell_type": "code",
      "source": [
        "tweet_data_df.head(n=10)"
      ],
      "metadata": {
        "colab": {
          "base_uri": "https://localhost:8080/",
          "height": 363
        },
        "id": "eTyGdSs7hOLr",
        "outputId": "dda57918-2921-4b72-98ac-0532ac8258a9"
      },
      "execution_count": null,
      "outputs": [
        {
          "output_type": "execute_result",
          "data": {
            "text/plain": [
              "                                                Text sentiment  \\\n",
              "0  @Logitech @apple @Google @Microsoft @Dell @Len...   neutral   \n",
              "1  @MK_habit_addict @official_stier @MortalKombat...   neutral   \n",
              "2  As @CRN celebrates its 40th anniversary, Bob F...  positive   \n",
              "3  @dell your customer service is horrible especi...  negative   \n",
              "4  @zacokalo @Dell @DellCares @Dell give the man ...   neutral   \n",
              "5  The screenshot is acting up from the website o...  negative   \n",
              "6  @emijuju_ @Alienware @Dell @IntelGaming alien ...   neutral   \n",
              "7  COOKING STREAM DAY!!! Ty to @Alienware for spo...  positive   \n",
              "8   @emijuju_ @Alienware @Dell @intel Beautiful 😍❤️😻  positive   \n",
              "9  What's your biggest data management challenge?...   neutral   \n",
              "\n",
              "   sentiment_score       emotion  emotion_score  \n",
              "0         0.853283  anticipation       0.587121  \n",
              "1         0.519470           joy       0.886913  \n",
              "2         0.763791           joy       0.960347  \n",
              "3         0.954023         anger       0.983203  \n",
              "4         0.529170         anger       0.776124  \n",
              "5         0.936235       sadness       0.968651  \n",
              "6         0.733473          fear       0.370504  \n",
              "7         0.974963           joy       0.961772  \n",
              "8         0.974661           joy       0.986383  \n",
              "9         0.718806      optimism       0.894296  "
            ],
            "text/html": [
              "\n",
              "  <div id=\"df-6d2522e5-1b95-4e1b-9710-3c4986537cc7\">\n",
              "    <div class=\"colab-df-container\">\n",
              "      <div>\n",
              "<style scoped>\n",
              "    .dataframe tbody tr th:only-of-type {\n",
              "        vertical-align: middle;\n",
              "    }\n",
              "\n",
              "    .dataframe tbody tr th {\n",
              "        vertical-align: top;\n",
              "    }\n",
              "\n",
              "    .dataframe thead th {\n",
              "        text-align: right;\n",
              "    }\n",
              "</style>\n",
              "<table border=\"1\" class=\"dataframe\">\n",
              "  <thead>\n",
              "    <tr style=\"text-align: right;\">\n",
              "      <th></th>\n",
              "      <th>Text</th>\n",
              "      <th>sentiment</th>\n",
              "      <th>sentiment_score</th>\n",
              "      <th>emotion</th>\n",
              "      <th>emotion_score</th>\n",
              "    </tr>\n",
              "  </thead>\n",
              "  <tbody>\n",
              "    <tr>\n",
              "      <th>0</th>\n",
              "      <td>@Logitech @apple @Google @Microsoft @Dell @Len...</td>\n",
              "      <td>neutral</td>\n",
              "      <td>0.853283</td>\n",
              "      <td>anticipation</td>\n",
              "      <td>0.587121</td>\n",
              "    </tr>\n",
              "    <tr>\n",
              "      <th>1</th>\n",
              "      <td>@MK_habit_addict @official_stier @MortalKombat...</td>\n",
              "      <td>neutral</td>\n",
              "      <td>0.519470</td>\n",
              "      <td>joy</td>\n",
              "      <td>0.886913</td>\n",
              "    </tr>\n",
              "    <tr>\n",
              "      <th>2</th>\n",
              "      <td>As @CRN celebrates its 40th anniversary, Bob F...</td>\n",
              "      <td>positive</td>\n",
              "      <td>0.763791</td>\n",
              "      <td>joy</td>\n",
              "      <td>0.960347</td>\n",
              "    </tr>\n",
              "    <tr>\n",
              "      <th>3</th>\n",
              "      <td>@dell your customer service is horrible especi...</td>\n",
              "      <td>negative</td>\n",
              "      <td>0.954023</td>\n",
              "      <td>anger</td>\n",
              "      <td>0.983203</td>\n",
              "    </tr>\n",
              "    <tr>\n",
              "      <th>4</th>\n",
              "      <td>@zacokalo @Dell @DellCares @Dell give the man ...</td>\n",
              "      <td>neutral</td>\n",
              "      <td>0.529170</td>\n",
              "      <td>anger</td>\n",
              "      <td>0.776124</td>\n",
              "    </tr>\n",
              "    <tr>\n",
              "      <th>5</th>\n",
              "      <td>The screenshot is acting up from the website o...</td>\n",
              "      <td>negative</td>\n",
              "      <td>0.936235</td>\n",
              "      <td>sadness</td>\n",
              "      <td>0.968651</td>\n",
              "    </tr>\n",
              "    <tr>\n",
              "      <th>6</th>\n",
              "      <td>@emijuju_ @Alienware @Dell @IntelGaming alien ...</td>\n",
              "      <td>neutral</td>\n",
              "      <td>0.733473</td>\n",
              "      <td>fear</td>\n",
              "      <td>0.370504</td>\n",
              "    </tr>\n",
              "    <tr>\n",
              "      <th>7</th>\n",
              "      <td>COOKING STREAM DAY!!! Ty to @Alienware for spo...</td>\n",
              "      <td>positive</td>\n",
              "      <td>0.974963</td>\n",
              "      <td>joy</td>\n",
              "      <td>0.961772</td>\n",
              "    </tr>\n",
              "    <tr>\n",
              "      <th>8</th>\n",
              "      <td>@emijuju_ @Alienware @Dell @intel Beautiful 😍❤️😻</td>\n",
              "      <td>positive</td>\n",
              "      <td>0.974661</td>\n",
              "      <td>joy</td>\n",
              "      <td>0.986383</td>\n",
              "    </tr>\n",
              "    <tr>\n",
              "      <th>9</th>\n",
              "      <td>What's your biggest data management challenge?...</td>\n",
              "      <td>neutral</td>\n",
              "      <td>0.718806</td>\n",
              "      <td>optimism</td>\n",
              "      <td>0.894296</td>\n",
              "    </tr>\n",
              "  </tbody>\n",
              "</table>\n",
              "</div>\n",
              "      <button class=\"colab-df-convert\" onclick=\"convertToInteractive('df-6d2522e5-1b95-4e1b-9710-3c4986537cc7')\"\n",
              "              title=\"Convert this dataframe to an interactive table.\"\n",
              "              style=\"display:none;\">\n",
              "        \n",
              "  <svg xmlns=\"http://www.w3.org/2000/svg\" height=\"24px\"viewBox=\"0 0 24 24\"\n",
              "       width=\"24px\">\n",
              "    <path d=\"M0 0h24v24H0V0z\" fill=\"none\"/>\n",
              "    <path d=\"M18.56 5.44l.94 2.06.94-2.06 2.06-.94-2.06-.94-.94-2.06-.94 2.06-2.06.94zm-11 1L8.5 8.5l.94-2.06 2.06-.94-2.06-.94L8.5 2.5l-.94 2.06-2.06.94zm10 10l.94 2.06.94-2.06 2.06-.94-2.06-.94-.94-2.06-.94 2.06-2.06.94z\"/><path d=\"M17.41 7.96l-1.37-1.37c-.4-.4-.92-.59-1.43-.59-.52 0-1.04.2-1.43.59L10.3 9.45l-7.72 7.72c-.78.78-.78 2.05 0 2.83L4 21.41c.39.39.9.59 1.41.59.51 0 1.02-.2 1.41-.59l7.78-7.78 2.81-2.81c.8-.78.8-2.07 0-2.86zM5.41 20L4 18.59l7.72-7.72 1.47 1.35L5.41 20z\"/>\n",
              "  </svg>\n",
              "      </button>\n",
              "      \n",
              "  <style>\n",
              "    .colab-df-container {\n",
              "      display:flex;\n",
              "      flex-wrap:wrap;\n",
              "      gap: 12px;\n",
              "    }\n",
              "\n",
              "    .colab-df-convert {\n",
              "      background-color: #E8F0FE;\n",
              "      border: none;\n",
              "      border-radius: 50%;\n",
              "      cursor: pointer;\n",
              "      display: none;\n",
              "      fill: #1967D2;\n",
              "      height: 32px;\n",
              "      padding: 0 0 0 0;\n",
              "      width: 32px;\n",
              "    }\n",
              "\n",
              "    .colab-df-convert:hover {\n",
              "      background-color: #E2EBFA;\n",
              "      box-shadow: 0px 1px 2px rgba(60, 64, 67, 0.3), 0px 1px 3px 1px rgba(60, 64, 67, 0.15);\n",
              "      fill: #174EA6;\n",
              "    }\n",
              "\n",
              "    [theme=dark] .colab-df-convert {\n",
              "      background-color: #3B4455;\n",
              "      fill: #D2E3FC;\n",
              "    }\n",
              "\n",
              "    [theme=dark] .colab-df-convert:hover {\n",
              "      background-color: #434B5C;\n",
              "      box-shadow: 0px 1px 3px 1px rgba(0, 0, 0, 0.15);\n",
              "      filter: drop-shadow(0px 1px 2px rgba(0, 0, 0, 0.3));\n",
              "      fill: #FFFFFF;\n",
              "    }\n",
              "  </style>\n",
              "\n",
              "      <script>\n",
              "        const buttonEl =\n",
              "          document.querySelector('#df-6d2522e5-1b95-4e1b-9710-3c4986537cc7 button.colab-df-convert');\n",
              "        buttonEl.style.display =\n",
              "          google.colab.kernel.accessAllowed ? 'block' : 'none';\n",
              "\n",
              "        async function convertToInteractive(key) {\n",
              "          const element = document.querySelector('#df-6d2522e5-1b95-4e1b-9710-3c4986537cc7');\n",
              "          const dataTable =\n",
              "            await google.colab.kernel.invokeFunction('convertToInteractive',\n",
              "                                                     [key], {});\n",
              "          if (!dataTable) return;\n",
              "\n",
              "          const docLinkHtml = 'Like what you see? Visit the ' +\n",
              "            '<a target=\"_blank\" href=https://colab.research.google.com/notebooks/data_table.ipynb>data table notebook</a>'\n",
              "            + ' to learn more about interactive tables.';\n",
              "          element.innerHTML = '';\n",
              "          dataTable['output_type'] = 'display_data';\n",
              "          await google.colab.output.renderOutput(dataTable, element);\n",
              "          const docLink = document.createElement('div');\n",
              "          docLink.innerHTML = docLinkHtml;\n",
              "          element.appendChild(docLink);\n",
              "        }\n",
              "      </script>\n",
              "    </div>\n",
              "  </div>\n",
              "  "
            ]
          },
          "metadata": {},
          "execution_count": 6
        }
      ]
    },
    {
      "cell_type": "markdown",
      "source": [
        "### Playing with the data"
      ],
      "metadata": {
        "id": "oKMXKdN-jm0r"
      }
    },
    {
      "cell_type": "code",
      "source": [
        "tweet_data_df.isnull().sum()"
      ],
      "metadata": {
        "colab": {
          "base_uri": "https://localhost:8080/"
        },
        "id": "UkT1riBtiBId",
        "outputId": "d8240bec-a5aa-433e-94a8-6ea2c038579a"
      },
      "execution_count": null,
      "outputs": [
        {
          "output_type": "execute_result",
          "data": {
            "text/plain": [
              "Text               0\n",
              "sentiment          0\n",
              "sentiment_score    0\n",
              "emotion            0\n",
              "emotion_score      0\n",
              "dtype: int64"
            ]
          },
          "metadata": {},
          "execution_count": 7
        }
      ]
    },
    {
      "cell_type": "code",
      "source": [
        "heatmap_data = tweet_data_df[\"sentiment_score\"].values\n",
        "heatmap_data = heatmap_data.reshape(-1, 1)\n",
        "plt.imshow(heatmap_data, cmap='viridis', interpolation='nearest')\n",
        "plt.colorbar()\n",
        "plt.title('Sentiment Score Heatmap')\n",
        "plt.show()"
      ],
      "metadata": {
        "colab": {
          "base_uri": "https://localhost:8080/",
          "height": 452
        },
        "id": "Y6MtZjV2iwf_",
        "outputId": "335419b9-d73a-49ae-e961-626dffe8e48e"
      },
      "execution_count": null,
      "outputs": [
        {
          "output_type": "display_data",
          "data": {
            "text/plain": [
              "<Figure size 640x480 with 2 Axes>"
            ],
            "image/png": "[encoded data removed]"
          },
          "metadata": {}
        }
      ]
    },
    {
      "cell_type": "code",
      "source": [
        "sentiment_counts = tweet_data_df['sentiment'].value_counts()\n",
        "labels = sentiment_counts.index\n",
        "sizes = sentiment_counts.values\n",
        "\n",
        "colors = [\n",
        "    '#F99C9C',  # Light Coral\n",
        "    '#F9CB9C',  # Peach\n",
        "    '#F5E5B7',  # Pale Gold\n",
        "    '#E9E1CC',  # Champagne\n",
        "    '#FFE1AB',  # Pale Yellow\n",
        "    '#E8D8B5',  # Pale Beige\n",
        "    '#FFD1B3',  # Light Salmon\n",
        "    '#E2B6AB'   # Dusty Rose\n",
        "]\n",
        "\n",
        "\n",
        "plt.pie(sizes, labels=labels, colors=colors, autopct='%1.2f%%')\n",
        "\n",
        "plt.title('Sentiment Distribution')\n",
        "plt.axis('equal')\n",
        "\n",
        "plt.show()"
      ],
      "metadata": {
        "colab": {
          "base_uri": "https://localhost:8080/",
          "height": 428
        },
        "id": "avfvd2VHkDqa",
        "outputId": "f07b8904-f8ef-4ec3-a804-595dbfc08362"
      },
      "execution_count": null,
      "outputs": [
        {
          "output_type": "display_data",
          "data": {
            "text/plain": [
              "<Figure size 640x480 with 1 Axes>"
            ],
            "image/png": "[encoded data removed]"
          },
          "metadata": {}
        }
      ]
    },
    {
      "cell_type": "code",
      "source": [
        "emotion_counts = tweet_data_df['emotion'].value_counts()\n",
        "labels = emotion_counts.index\n",
        "sizes = emotion_counts.values\n",
        "\n",
        "colors = [\n",
        "    '#F99C9C',  # Light Coral\n",
        "    '#F9CB9C',  # Peach\n",
        "    '#F5E5B7',  # Pale Gold\n",
        "    '#E9E1CC',  # Champagne\n",
        "    '#FFE1AB',  # Pale Yellow\n",
        "    '#E8D8B5',  # Pale Beige\n",
        "    '#FFD1B3',  # Light Salmon\n",
        "    '#E2B6AB'   # Dusty Rose\n",
        "]\n",
        "\n",
        "plt.pie(sizes, labels=labels, colors=colors, autopct='%1.2f%%')\n",
        "\n",
        "plt.title('Emotion Distribution')\n",
        "plt.axis('equal')\n",
        "\n",
        "plt.show()"
      ],
      "metadata": {
        "colab": {
          "base_uri": "https://localhost:8080/",
          "height": 428
        },
        "id": "vjcLq7Gsk9AC",
        "outputId": "3f51cd49-68cb-40e2-d749-d1b792ba7cc3"
      },
      "execution_count": null,
      "outputs": [
        {
          "output_type": "display_data",
          "data": {
            "text/plain": [
              "<Figure size 640x480 with 1 Axes>"
            ],
            "image/png": "[encoded data removed]"
          },
          "metadata": {}
        }
      ]
    },
    {
      "cell_type": "markdown",
      "source": [
        "### Creating word indexes"
      ],
      "metadata": {
        "id": "XDeGU-KumPSO"
      }
    },
    {
      "cell_type": "markdown",
      "source": [
        "#### Getting the text data"
      ],
      "metadata": {
        "id": "IcD8sX-Yy9Q3"
      }
    },
    {
      "cell_type": "code",
      "source": [
        "text_data = tweet_data_df[\"Text\"].tolist()\n",
        "text_data[:10]"
      ],
      "metadata": {
        "colab": {
          "base_uri": "https://localhost:8080/"
        },
        "id": "eLmTNWrxoozi",
        "outputId": "6b385faa-cf85-4d0b-a002-8ccd662272db"
      },
      "execution_count": null,
      "outputs": [
        {
          "output_type": "execute_result",
          "data": {
            "text/plain": [
              "['@Logitech @apple @Google @Microsoft @Dell @Lenovo #WhatIf QWERTY were modified for programmers so things like brackets, parens, quotes, operators, etc. moved to the middle near G-H splitting left/right brackets to separate hands, and relieving the less dextrous pinky finger?',\n",
              " \"@MK_habit_addict @official_stier @MortalKombat @newzealand She's getting a new @Dell #laptop when the one she has one only 2-3 years old.  (More than triple the price - though much higher utility). https://t.co/7WvkCw7vQf\",\n",
              " 'As\\xa0@CRN\\xa0celebrates its 40th anniversary,\\xa0Bob Faletra\\xa0and\\xa0@stevenjburke\\xa0spoke with me about the milestones, companies and personalities that helped build the channel.\\xa0https://t.co/stiuBObP1O #CRN40\\xa0#podcast\\xa0#internationalpodcastday @Cisco @Microsoft @HPE @hp @Dell @intel',\n",
              " '@dell your customer service is horrible especially agent syedfaisal who has made this experience of purchasing a new computer downright awful and I’ll reconsider ever buying a Dell in the future @DellTech',\n",
              " '@zacokalo @Dell @DellCares @Dell give the man what he paid for!',\n",
              " \"The screenshot is acting up from the website of @Google on my @Dell Latitude 5590 Laptop, it keeps frozen the last time, all the images are cut and all the videos are blind on @YouTube, it's not working, it's dead!! #DellLatitude #Laptop #Google #screenshot #actingup #frozen #RIP\",\n",
              " '@emijuju_ @Alienware @Dell @IntelGaming alien shaped omurice!?!?!',\n",
              " 'COOKING STREAM DAY!!! Ty to @Alienware for sponsoring this stream! I’ll be making a bunch of Japanese Alien themed foods hehe \\n\\nCome check it out! https://t.co/m06tJQ06zk \\n\\n#alienwarepartner #intelgaming @Dell @IntelGaming https://t.co/qOdQX2E8VD',\n",
              " '@emijuju_ @Alienware @Dell @intel Beautiful 😍❤️😻',\n",
              " \"What's your biggest data management challenge?     • Cloud complexity?   • Lengthy tech refresh cycles?   • Capital budget constraints?      Solve your challenges with as-a-Storage. Get simplicity, agility &amp; control with @Dell #APEX. https://t.co/mCblMtH931 https://t.co/eepKNZ4Ai3\"]"
            ]
          },
          "metadata": {},
          "execution_count": 11
        }
      ]
    },
    {
      "cell_type": "code",
      "source": [
        "len(text_data), len(tweet_data_df[\"Text\"].tolist())"
      ],
      "metadata": {
        "colab": {
          "base_uri": "https://localhost:8080/"
        },
        "id": "wmr6eRWDwbJj",
        "outputId": "c18e3b96-e056-46b0-a2ed-cc843bc0e7ae"
      },
      "execution_count": null,
      "outputs": [
        {
          "output_type": "execute_result",
          "data": {
            "text/plain": [
              "(24970, 24970)"
            ]
          },
          "metadata": {},
          "execution_count": 12
        }
      ]
    },
    {
      "cell_type": "markdown",
      "source": [
        "#### Creating a tokenizer and training"
      ],
      "metadata": {
        "id": "ET0LX_LozATU"
      }
    },
    {
      "cell_type": "code",
      "source": [
        "tokenizer = tf.keras.preprocessing.text.Tokenizer()"
      ],
      "metadata": {
        "id": "K2NwKx5boD0b"
      },
      "execution_count": null,
      "outputs": []
    },
    {
      "cell_type": "code",
      "source": [
        "tokenizer.fit_on_texts(text_data)"
      ],
      "metadata": {
        "id": "w0YLjUryoMyF"
      },
      "execution_count": null,
      "outputs": []
    },
    {
      "cell_type": "code",
      "source": [
        "word_indexes = tokenizer.word_index"
      ],
      "metadata": {
        "id": "6S7rihq2oSmq"
      },
      "execution_count": null,
      "outputs": []
    },
    {
      "cell_type": "code",
      "source": [
        "len(word_indexes), list(word_indexes.items())[:5]"
      ],
      "metadata": {
        "colab": {
          "base_uri": "https://localhost:8080/"
        },
        "id": "H0pAgNvzoTs1",
        "outputId": "965d8ace-0861-4eb9-9350-b7163dcba90d"
      },
      "execution_count": null,
      "outputs": [
        {
          "output_type": "execute_result",
          "data": {
            "text/plain": [
              "(48453, [('dell', 1), ('the', 2), ('to', 3), ('and', 4), ('a', 5)])"
            ]
          },
          "metadata": {},
          "execution_count": 16
        }
      ]
    },
    {
      "cell_type": "code",
      "source": [
        "vocab_size = len(tokenizer.word_index) + 1\n",
        "vocab_size"
      ],
      "metadata": {
        "colab": {
          "base_uri": "https://localhost:8080/"
        },
        "id": "1KgnyDb6pigx",
        "outputId": "bd1d3b56-6932-4b93-b108-2750b91bf922"
      },
      "execution_count": null,
      "outputs": [
        {
          "output_type": "execute_result",
          "data": {
            "text/plain": [
              "48454"
            ]
          },
          "metadata": {},
          "execution_count": 17
        }
      ]
    },
    {
      "cell_type": "markdown",
      "source": [
        "#### Converting text to sequences"
      ],
      "metadata": {
        "id": "R4072zjEzE4L"
      }
    },
    {
      "cell_type": "code",
      "source": [
        "sequences = tokenizer.texts_to_sequences(text_data)"
      ],
      "metadata": {
        "id": "_z6DAKQgprPk"
      },
      "execution_count": null,
      "outputs": []
    },
    {
      "cell_type": "code",
      "source": [
        "max(len(seq) for seq in sequences)"
      ],
      "metadata": {
        "colab": {
          "base_uri": "https://localhost:8080/"
        },
        "id": "M5pKxA5Mpsi7",
        "outputId": "9b5c6199-d07d-405a-b578-b957f3ac2c01"
      },
      "execution_count": null,
      "outputs": [
        {
          "output_type": "execute_result",
          "data": {
            "text/plain": [
              "112"
            ]
          },
          "metadata": {},
          "execution_count": 19
        }
      ]
    },
    {
      "cell_type": "code",
      "source": [
        "max_sequence_length = 128\n",
        "padded_sequences = tf.keras.preprocessing.sequence.pad_sequences(sequences, maxlen=128)\n",
        "padded_sequences[:2]"
      ],
      "metadata": {
        "colab": {
          "base_uri": "https://localhost:8080/"
        },
        "id": "nOfBpsr0pvcO",
        "outputId": "5cf65013-43ce-47cc-d3c4-2bab08b7d6c7"
      },
      "execution_count": null,
      "outputs": [
        {
          "output_type": "execute_result",
          "data": {
            "text/plain": [
              "array([[    0,     0,     0,     0,     0,     0,     0,     0,     0,\n",
              "            0,     0,     0,     0,     0,     0,     0,     0,     0,\n",
              "            0,     0,     0,     0,     0,     0,     0,     0,     0,\n",
              "            0,     0,     0,     0,     0,     0,     0,     0,     0,\n",
              "            0,     0,     0,     0,     0,     0,     0,     0,     0,\n",
              "            0,     0,     0,     0,     0,     0,     0,     0,     0,\n",
              "            0,     0,     0,     0,     0,     0,     0,     0,     0,\n",
              "            0,     0,     0,     0,     0,     0,     0,     0,     0,\n",
              "            0,     0,     0,     0,     0,     0,     0,     0,     0,\n",
              "            0,     0,     0,     0,     0,     0,   966,    95,   235,\n",
              "           85,     1,   100, 17705, 17706,   251,  7272,    11,  8344,\n",
              "           37,   395,    59,  8345, 17707,  4717,  9848,   587,  1050,\n",
              "            3,     2,  1411,  1362,  1412,  1640,  7273,   578,   202,\n",
              "         8345,     3,  2631,  1295,     4, 17708,     2,   375, 17709,\n",
              "         9849,  2632],\n",
              "       [    0,     0,     0,     0,     0,     0,     0,     0,     0,\n",
              "            0,     0,     0,     0,     0,     0,     0,     0,     0,\n",
              "            0,     0,     0,     0,     0,     0,     0,     0,     0,\n",
              "            0,     0,     0,     0,     0,     0,     0,     0,     0,\n",
              "            0,     0,     0,     0,     0,     0,     0,     0,     0,\n",
              "            0,     0,     0,     0,     0,     0,     0,     0,     0,\n",
              "            0,     0,     0,     0,     0,     0,     0,     0,     0,\n",
              "            0,     0,     0,     0,     0,     0,     0,     0,     0,\n",
              "            0,     0,     0,     0,     0,     0,     0,     0,     0,\n",
              "            0,     0,     0,     0,     0,     0,     0,     0,     0,\n",
              "            0,  9850,  5946,  9851,   513, 17710, 17711, 17712,  3574,\n",
              "          178,     5,    39,     1,    20,    73,     2,    44,   517,\n",
              "           54,    44,    96,    69,   101,   146,   166,    52,   117,\n",
              "         8346,     2,   559,   416,   185,  1490,  8347,     9,     7,\n",
              "            8, 17713]], dtype=int32)"
            ]
          },
          "metadata": {},
          "execution_count": 20
        }
      ]
    },
    {
      "cell_type": "markdown",
      "source": [
        "#### Converting emotions and sentiments to numbers"
      ],
      "metadata": {
        "id": "WzLwZxW2zKdc"
      }
    },
    {
      "cell_type": "code",
      "source": [
        "emotion_list = tweet_data_df[\"emotion\"].tolist()\n",
        "sentiment_list = tweet_data_df[\"sentiment\"].tolist()"
      ],
      "metadata": {
        "id": "xrMW3WCwxLXh"
      },
      "execution_count": null,
      "outputs": []
    },
    {
      "cell_type": "code",
      "source": [
        "emotion_map = {\n",
        "    \"anger\": 0,\n",
        "    \"anticipation\": 1,\n",
        "    \"disgust\": 2,\n",
        "    \"fear\" : 3,\n",
        "    \"joy\" : 4,\n",
        "    \"optimism\" : 5,\n",
        "    \"sadness\" : 6,\n",
        "    \"surprise\" : 7\n",
        "}\n",
        "\n",
        "sentiment_map = {\n",
        "    \"neutral\" : 0,\n",
        "    \"positive\" : 1,\n",
        "    \"negative\" : 2,\n",
        "}"
      ],
      "metadata": {
        "id": "bOnw2q0kxaTn"
      },
      "execution_count": null,
      "outputs": []
    },
    {
      "cell_type": "code",
      "source": [
        "emotion_labels = [emotion_map[label] for label in emotion_list]\n",
        "sentiment_labels = [sentiment_map[label] for label in sentiment_list]"
      ],
      "metadata": {
        "id": "gWtMZL1fx4FA"
      },
      "execution_count": null,
      "outputs": []
    },
    {
      "cell_type": "code",
      "source": [
        "emotion_labels = np.array(emotion_labels)\n",
        "sentiment_labels = np.array(sentiment_labels)"
      ],
      "metadata": {
        "id": "rl0aqKWbqIPz"
      },
      "execution_count": null,
      "outputs": []
    },
    {
      "cell_type": "code",
      "source": [
        "emotion_labels.shape"
      ],
      "metadata": {
        "colab": {
          "base_uri": "https://localhost:8080/"
        },
        "id": "6e_TgtcRqfPJ",
        "outputId": "811993f4-3469-464d-e03c-3101a50e4947"
      },
      "execution_count": null,
      "outputs": [
        {
          "output_type": "execute_result",
          "data": {
            "text/plain": [
              "(24970,)"
            ]
          },
          "metadata": {},
          "execution_count": 25
        }
      ]
    },
    {
      "cell_type": "code",
      "source": [
        "sentiment_labels.shape"
      ],
      "metadata": {
        "colab": {
          "base_uri": "https://localhost:8080/"
        },
        "id": "pnWtWf_kqqXF",
        "outputId": "08b2c18a-8e78-4044-dab7-cbe85562a638"
      },
      "execution_count": null,
      "outputs": [
        {
          "output_type": "execute_result",
          "data": {
            "text/plain": [
              "(24970,)"
            ]
          },
          "metadata": {},
          "execution_count": 26
        }
      ]
    },
    {
      "cell_type": "code",
      "source": [
        "padded_sequences.shape"
      ],
      "metadata": {
        "colab": {
          "base_uri": "https://localhost:8080/"
        },
        "id": "b15tiGpLwyXO",
        "outputId": "30ebb37c-119c-4422-ba4a-e6a9b1ff8cf7"
      },
      "execution_count": null,
      "outputs": [
        {
          "output_type": "execute_result",
          "data": {
            "text/plain": [
              "(24970, 128)"
            ]
          },
          "metadata": {},
          "execution_count": 27
        }
      ]
    },
    {
      "cell_type": "markdown",
      "source": [
        "### Decoder"
      ],
      "metadata": {
        "id": "fFV7a31zq73Y"
      }
    },
    {
      "cell_type": "code",
      "source": [
        "def tweet_decoder(encoded_tweet):\n",
        "    encoded_tweet = list(filter(lambda x: x != 0, encoded_tweet))\n",
        "    decoded_tweet = \"\"\n",
        "    index_words = {index: word for word, index in word_indexes.items()}\n",
        "    for encoded_word in encoded_tweet:\n",
        "        decoded_word = index_words.get(encoded_word)\n",
        "        if decoded_word:\n",
        "            decoded_tweet += decoded_word + \" \"\n",
        "    return decoded_tweet.strip()"
      ],
      "metadata": {
        "id": "9xDKt_J2q9F3"
      },
      "execution_count": null,
      "outputs": []
    },
    {
      "cell_type": "markdown",
      "source": [
        "### Building the model 1"
      ],
      "metadata": {
        "id": "JZhBLaZcrdHz"
      }
    },
    {
      "cell_type": "code",
      "source": [
        "input_layer = tf.keras.layers.Input(shape=max_sequence_length)\n",
        "embedding_layer = tf.keras.layers.Embedding(vocab_size, 100)(input_layer)\n",
        "dropout_layer = tf.keras.layers.Dropout(0.2)(embedding_layer)\n",
        "average_pooling_1d_layer = tf.keras.layers.GlobalAveragePooling1D()(dropout_layer)\n",
        "dense_layer_1 = tf.keras.layers.Dense(1024,activation='relu')(average_pooling_1d_layer)\n",
        "emotion_output_layer = tf.keras.layers.Dense(8, activation='softmax', name='emotion_output')(dense_layer_1)\n",
        "sentiment_output_layer = tf.keras.layers.Dense(3, activation='softmax', name='sentiment_output')(dense_layer_1)\n",
        "\n",
        "model = tf.keras.Model(inputs=input_layer, outputs=[emotion_output_layer, sentiment_output_layer])"
      ],
      "metadata": {
        "id": "1ocgnloereay"
      },
      "execution_count": null,
      "outputs": []
    },
    {
      "cell_type": "code",
      "source": [
        "model.summary()"
      ],
      "metadata": {
        "colab": {
          "base_uri": "https://localhost:8080/"
        },
        "id": "uooBA4trsWep",
        "outputId": "b911ab7f-632f-4b23-8d53-078edc0ced13"
      },
      "execution_count": null,
      "outputs": [
        {
          "output_type": "stream",
          "name": "stdout",
          "text": [
            "Model: \"model\"\n",
            "__________________________________________________________________________________________________\n",
            " Layer (type)                   Output Shape         Param #     Connected to                     \n",
            "==================================================================================================\n",
            " input_1 (InputLayer)           [(None, 128)]        0           []                               \n",
            "                                                                                                  \n",
            " embedding (Embedding)          (None, 128, 100)     4845400     ['input_1[0][0]']                \n",
            "                                                                                                  \n",
            " dropout (Dropout)              (None, 128, 100)     0           ['embedding[0][0]']              \n",
            "                                                                                                  \n",
            " global_average_pooling1d (Glob  (None, 100)         0           ['dropout[0][0]']                \n",
            " alAveragePooling1D)                                                                              \n",
            "                                                                                                  \n",
            " dense (Dense)                  (None, 1024)         103424      ['global_average_pooling1d[0][0]'\n",
            "                                                                 ]                                \n",
            "                                                                                                  \n",
            " emotion_output (Dense)         (None, 8)            8200        ['dense[0][0]']                  \n",
            "                                                                                                  \n",
            " sentiment_output (Dense)       (None, 3)            3075        ['dense[0][0]']                  \n",
            "                                                                                                  \n",
            "==================================================================================================\n",
            "Total params: 4,960,099\n",
            "Trainable params: 4,960,099\n",
            "Non-trainable params: 0\n",
            "__________________________________________________________________________________________________\n"
          ]
        }
      ]
    },
    {
      "cell_type": "code",
      "source": [
        "losses = {\n",
        "    'emotion_output': 'sparse_categorical_crossentropy',\n",
        "    'sentiment_output': 'sparse_categorical_crossentropy'\n",
        "}\n",
        "loss_weights = {\n",
        "    'emotion_output': 1.0,\n",
        "    'sentiment_output': 1.0\n",
        "}"
      ],
      "metadata": {
        "id": "e19MoIA5unwH"
      },
      "execution_count": null,
      "outputs": []
    },
    {
      "cell_type": "code",
      "source": [
        "model.compile(optimizer='adam', loss=losses, loss_weights=loss_weights, metrics=['accuracy'])"
      ],
      "metadata": {
        "id": "ohoQYKoxuqFt"
      },
      "execution_count": null,
      "outputs": []
    },
    {
      "cell_type": "code",
      "source": [
        "history = model.fit(padded_sequences, {'emotion_output': emotion_labels, 'sentiment_output': sentiment_labels},\n",
        "                    epochs=200, batch_size=2048, validation_split=0.2)"
      ],
      "metadata": {
        "colab": {
          "base_uri": "https://localhost:8080/"
        },
        "id": "3UaiKn8xutmJ",
        "outputId": "97647a2f-9b2f-4cfb-9e4a-98f0cfe2cb3a"
      },
      "execution_count": null,
      "outputs": [
        {
          "output_type": "stream",
          "name": "stdout",
          "text": [
            "Epoch 1/200\n",
            "10/10 [==============================] - 6s 259ms/step - loss: 3.0823 - emotion_output_loss: 1.9892 - sentiment_output_loss: 1.0930 - emotion_output_accuracy: 0.2849 - sentiment_output_accuracy: 0.4009 - val_loss: 2.9127 - val_emotion_output_loss: 1.8530 - val_sentiment_output_loss: 1.0597 - val_emotion_output_accuracy: 0.3632 - val_sentiment_output_accuracy: 0.4892\n",
            "Epoch 2/200\n",
            "10/10 [==============================] - 2s 206ms/step - loss: 2.8652 - emotion_output_loss: 1.7734 - sentiment_output_loss: 1.0918 - emotion_output_accuracy: 0.2856 - sentiment_output_accuracy: 0.4061 - val_loss: 2.7388 - val_emotion_output_loss: 1.6778 - val_sentiment_output_loss: 1.0610 - val_emotion_output_accuracy: 0.3632 - val_sentiment_output_accuracy: 0.4892\n",
            "Epoch 3/200\n",
            "10/10 [==============================] - 2s 232ms/step - loss: 2.7880 - emotion_output_loss: 1.6995 - sentiment_output_loss: 1.0885 - emotion_output_accuracy: 0.3246 - sentiment_output_accuracy: 0.4061 - val_loss: 2.7236 - val_emotion_output_loss: 1.6634 - val_sentiment_output_loss: 1.0603 - val_emotion_output_accuracy: 0.3632 - val_sentiment_output_accuracy: 0.4892\n",
            "Epoch 4/200\n",
            "10/10 [==============================] - 2s 202ms/step - loss: 2.7652 - emotion_output_loss: 1.6802 - sentiment_output_loss: 1.0850 - emotion_output_accuracy: 0.2856 - sentiment_output_accuracy: 0.4061 - val_loss: 2.7044 - val_emotion_output_loss: 1.6431 - val_sentiment_output_loss: 1.0613 - val_emotion_output_accuracy: 0.3632 - val_sentiment_output_accuracy: 0.4892\n",
            "Epoch 5/200\n",
            "10/10 [==============================] - 3s 297ms/step - loss: 2.7469 - emotion_output_loss: 1.6669 - sentiment_output_loss: 1.0800 - emotion_output_accuracy: 0.2857 - sentiment_output_accuracy: 0.4061 - val_loss: 2.6821 - val_emotion_output_loss: 1.6343 - val_sentiment_output_loss: 1.0478 - val_emotion_output_accuracy: 0.3652 - val_sentiment_output_accuracy: 0.4892\n",
            "Epoch 6/200\n",
            "10/10 [==============================] - 2s 183ms/step - loss: 2.7261 - emotion_output_loss: 1.6567 - sentiment_output_loss: 1.0694 - emotion_output_accuracy: 0.3343 - sentiment_output_accuracy: 0.4061 - val_loss: 2.6538 - val_emotion_output_loss: 1.6186 - val_sentiment_output_loss: 1.0352 - val_emotion_output_accuracy: 0.3945 - val_sentiment_output_accuracy: 0.4892\n",
            "Epoch 7/200\n",
            "10/10 [==============================] - 2s 206ms/step - loss: 2.6841 - emotion_output_loss: 1.6365 - sentiment_output_loss: 1.0477 - emotion_output_accuracy: 0.4238 - sentiment_output_accuracy: 0.4113 - val_loss: 2.5992 - val_emotion_output_loss: 1.5943 - val_sentiment_output_loss: 1.0049 - val_emotion_output_accuracy: 0.4650 - val_sentiment_output_accuracy: 0.5010\n",
            "Epoch 8/200\n",
            "10/10 [==============================] - 2s 233ms/step - loss: 2.6006 - emotion_output_loss: 1.5978 - sentiment_output_loss: 1.0028 - emotion_output_accuracy: 0.4504 - sentiment_output_accuracy: 0.4910 - val_loss: 2.4904 - val_emotion_output_loss: 1.5428 - val_sentiment_output_loss: 0.9477 - val_emotion_output_accuracy: 0.4594 - val_sentiment_output_accuracy: 0.5985\n",
            "Epoch 9/200\n",
            "10/10 [==============================] - 1s 139ms/step - loss: 2.4675 - emotion_output_loss: 1.5348 - sentiment_output_loss: 0.9327 - emotion_output_accuracy: 0.4530 - sentiment_output_accuracy: 0.5762 - val_loss: 2.3644 - val_emotion_output_loss: 1.4797 - val_sentiment_output_loss: 0.8848 - val_emotion_output_accuracy: 0.4545 - val_sentiment_output_accuracy: 0.5937\n",
            "Epoch 10/200\n",
            "10/10 [==============================] - 2s 201ms/step - loss: 2.3285 - emotion_output_loss: 1.4638 - sentiment_output_loss: 0.8647 - emotion_output_accuracy: 0.4571 - sentiment_output_accuracy: 0.5822 - val_loss: 2.2433 - val_emotion_output_loss: 1.4161 - val_sentiment_output_loss: 0.8272 - val_emotion_output_accuracy: 0.4718 - val_sentiment_output_accuracy: 0.6227\n",
            "Epoch 11/200\n",
            "10/10 [==============================] - 3s 314ms/step - loss: 2.2186 - emotion_output_loss: 1.4045 - sentiment_output_loss: 0.8141 - emotion_output_accuracy: 0.4684 - sentiment_output_accuracy: 0.6066 - val_loss: 2.1540 - val_emotion_output_loss: 1.3676 - val_sentiment_output_loss: 0.7864 - val_emotion_output_accuracy: 0.4890 - val_sentiment_output_accuracy: 0.6566\n",
            "Epoch 12/200\n",
            "10/10 [==============================] - 2s 203ms/step - loss: 2.1251 - emotion_output_loss: 1.3541 - sentiment_output_loss: 0.7710 - emotion_output_accuracy: 0.4847 - sentiment_output_accuracy: 0.6324 - val_loss: 2.0894 - val_emotion_output_loss: 1.3334 - val_sentiment_output_loss: 0.7559 - val_emotion_output_accuracy: 0.4946 - val_sentiment_output_accuracy: 0.6542\n",
            "Epoch 13/200\n",
            "10/10 [==============================] - 2s 224ms/step - loss: 2.0430 - emotion_output_loss: 1.3106 - sentiment_output_loss: 0.7324 - emotion_output_accuracy: 0.4973 - sentiment_output_accuracy: 0.6464 - val_loss: 2.0237 - val_emotion_output_loss: 1.2981 - val_sentiment_output_loss: 0.7256 - val_emotion_output_accuracy: 0.5108 - val_sentiment_output_accuracy: 0.6646\n",
            "Epoch 14/200\n",
            "10/10 [==============================] - 1s 134ms/step - loss: 1.9765 - emotion_output_loss: 1.2755 - sentiment_output_loss: 0.7010 - emotion_output_accuracy: 0.5067 - sentiment_output_accuracy: 0.6663 - val_loss: 1.9766 - val_emotion_output_loss: 1.2730 - val_sentiment_output_loss: 0.7036 - val_emotion_output_accuracy: 0.5200 - val_sentiment_output_accuracy: 0.6746\n",
            "Epoch 15/200\n",
            "10/10 [==============================] - 1s 111ms/step - loss: 1.9170 - emotion_output_loss: 1.2438 - sentiment_output_loss: 0.6732 - emotion_output_accuracy: 0.5137 - sentiment_output_accuracy: 0.6807 - val_loss: 1.9440 - val_emotion_output_loss: 1.2556 - val_sentiment_output_loss: 0.6884 - val_emotion_output_accuracy: 0.5230 - val_sentiment_output_accuracy: 0.6824\n",
            "Epoch 16/200\n",
            "10/10 [==============================] - 2s 157ms/step - loss: 1.8601 - emotion_output_loss: 1.2144 - sentiment_output_loss: 0.6457 - emotion_output_accuracy: 0.5212 - sentiment_output_accuracy: 0.6978 - val_loss: 1.9097 - val_emotion_output_loss: 1.2369 - val_sentiment_output_loss: 0.6728 - val_emotion_output_accuracy: 0.5308 - val_sentiment_output_accuracy: 0.6890\n",
            "Epoch 17/200\n",
            "10/10 [==============================] - 2s 222ms/step - loss: 1.8059 - emotion_output_loss: 1.1870 - sentiment_output_loss: 0.6190 - emotion_output_accuracy: 0.5278 - sentiment_output_accuracy: 0.7144 - val_loss: 1.8788 - val_emotion_output_loss: 1.2210 - val_sentiment_output_loss: 0.6578 - val_emotion_output_accuracy: 0.5421 - val_sentiment_output_accuracy: 0.6966\n",
            "Epoch 18/200\n",
            "10/10 [==============================] - 2s 215ms/step - loss: 1.7512 - emotion_output_loss: 1.1610 - sentiment_output_loss: 0.5902 - emotion_output_accuracy: 0.5494 - sentiment_output_accuracy: 0.7362 - val_loss: 1.8605 - val_emotion_output_loss: 1.2108 - val_sentiment_output_loss: 0.6497 - val_emotion_output_accuracy: 0.5511 - val_sentiment_output_accuracy: 0.7062\n",
            "Epoch 19/200\n",
            "10/10 [==============================] - 2s 178ms/step - loss: 1.6965 - emotion_output_loss: 1.1353 - sentiment_output_loss: 0.5612 - emotion_output_accuracy: 0.5625 - sentiment_output_accuracy: 0.7587 - val_loss: 1.8287 - val_emotion_output_loss: 1.1948 - val_sentiment_output_loss: 0.6339 - val_emotion_output_accuracy: 0.5627 - val_sentiment_output_accuracy: 0.7167\n",
            "Epoch 20/200\n",
            "10/10 [==============================] - 2s 158ms/step - loss: 1.6385 - emotion_output_loss: 1.1085 - sentiment_output_loss: 0.5300 - emotion_output_accuracy: 0.5790 - sentiment_output_accuracy: 0.7804 - val_loss: 1.7971 - val_emotion_output_loss: 1.1791 - val_sentiment_output_loss: 0.6180 - val_emotion_output_accuracy: 0.5733 - val_sentiment_output_accuracy: 0.7323\n",
            "Epoch 21/200\n",
            "10/10 [==============================] - 3s 260ms/step - loss: 1.5806 - emotion_output_loss: 1.0814 - sentiment_output_loss: 0.4992 - emotion_output_accuracy: 0.5965 - sentiment_output_accuracy: 0.8027 - val_loss: 1.7715 - val_emotion_output_loss: 1.1658 - val_sentiment_output_loss: 0.6057 - val_emotion_output_accuracy: 0.5777 - val_sentiment_output_accuracy: 0.7385\n",
            "Epoch 22/200\n",
            "10/10 [==============================] - 3s 313ms/step - loss: 1.5215 - emotion_output_loss: 1.0525 - sentiment_output_loss: 0.4689 - emotion_output_accuracy: 0.6099 - sentiment_output_accuracy: 0.8194 - val_loss: 1.7514 - val_emotion_output_loss: 1.1545 - val_sentiment_output_loss: 0.5969 - val_emotion_output_accuracy: 0.5803 - val_sentiment_output_accuracy: 0.7489\n",
            "Epoch 23/200\n",
            "10/10 [==============================] - 4s 351ms/step - loss: 1.4637 - emotion_output_loss: 1.0237 - sentiment_output_loss: 0.4400 - emotion_output_accuracy: 0.6210 - sentiment_output_accuracy: 0.8375 - val_loss: 1.7326 - val_emotion_output_loss: 1.1417 - val_sentiment_output_loss: 0.5909 - val_emotion_output_accuracy: 0.5903 - val_sentiment_output_accuracy: 0.7517\n",
            "Epoch 24/200\n",
            "10/10 [==============================] - 3s 276ms/step - loss: 1.4096 - emotion_output_loss: 0.9952 - sentiment_output_loss: 0.4144 - emotion_output_accuracy: 0.6301 - sentiment_output_accuracy: 0.8491 - val_loss: 1.7192 - val_emotion_output_loss: 1.1351 - val_sentiment_output_loss: 0.5841 - val_emotion_output_accuracy: 0.5883 - val_sentiment_output_accuracy: 0.7551\n",
            "Epoch 25/200\n",
            "10/10 [==============================] - 1s 159ms/step - loss: 1.3578 - emotion_output_loss: 0.9664 - sentiment_output_loss: 0.3914 - emotion_output_accuracy: 0.6406 - sentiment_output_accuracy: 0.8606 - val_loss: 1.6957 - val_emotion_output_loss: 1.1203 - val_sentiment_output_loss: 0.5754 - val_emotion_output_accuracy: 0.5917 - val_sentiment_output_accuracy: 0.7597\n",
            "Epoch 26/200\n",
            "10/10 [==============================] - 1s 136ms/step - loss: 1.3090 - emotion_output_loss: 0.9402 - sentiment_output_loss: 0.3688 - emotion_output_accuracy: 0.6442 - sentiment_output_accuracy: 0.8706 - val_loss: 1.6824 - val_emotion_output_loss: 1.1107 - val_sentiment_output_loss: 0.5717 - val_emotion_output_accuracy: 0.6061 - val_sentiment_output_accuracy: 0.7583\n",
            "Epoch 27/200\n",
            "10/10 [==============================] - 1s 158ms/step - loss: 1.2604 - emotion_output_loss: 0.9112 - sentiment_output_loss: 0.3492 - emotion_output_accuracy: 0.6582 - sentiment_output_accuracy: 0.8794 - val_loss: 1.6761 - val_emotion_output_loss: 1.1042 - val_sentiment_output_loss: 0.5719 - val_emotion_output_accuracy: 0.6091 - val_sentiment_output_accuracy: 0.7645\n",
            "Epoch 28/200\n",
            "10/10 [==============================] - 2s 209ms/step - loss: 1.2143 - emotion_output_loss: 0.8832 - sentiment_output_loss: 0.3311 - emotion_output_accuracy: 0.6703 - sentiment_output_accuracy: 0.8867 - val_loss: 1.6670 - val_emotion_output_loss: 1.0968 - val_sentiment_output_loss: 0.5702 - val_emotion_output_accuracy: 0.6177 - val_sentiment_output_accuracy: 0.7661\n",
            "Epoch 29/200\n",
            "10/10 [==============================] - 2s 266ms/step - loss: 1.1691 - emotion_output_loss: 0.8548 - sentiment_output_loss: 0.3143 - emotion_output_accuracy: 0.6777 - sentiment_output_accuracy: 0.8910 - val_loss: 1.6626 - val_emotion_output_loss: 1.0943 - val_sentiment_output_loss: 0.5683 - val_emotion_output_accuracy: 0.6131 - val_sentiment_output_accuracy: 0.7679\n",
            "Epoch 30/200\n",
            "10/10 [==============================] - 1s 137ms/step - loss: 1.1271 - emotion_output_loss: 0.8275 - sentiment_output_loss: 0.2996 - emotion_output_accuracy: 0.6915 - sentiment_output_accuracy: 0.8992 - val_loss: 1.6516 - val_emotion_output_loss: 1.0819 - val_sentiment_output_loss: 0.5697 - val_emotion_output_accuracy: 0.6201 - val_sentiment_output_accuracy: 0.7691\n",
            "Epoch 31/200\n",
            "10/10 [==============================] - 2s 202ms/step - loss: 1.0855 - emotion_output_loss: 0.7991 - sentiment_output_loss: 0.2863 - emotion_output_accuracy: 0.7002 - sentiment_output_accuracy: 0.9019 - val_loss: 1.6621 - val_emotion_output_loss: 1.0831 - val_sentiment_output_loss: 0.5790 - val_emotion_output_accuracy: 0.6169 - val_sentiment_output_accuracy: 0.7627\n",
            "Epoch 32/200\n",
            "10/10 [==============================] - 1s 91ms/step - loss: 1.0452 - emotion_output_loss: 0.7724 - sentiment_output_loss: 0.2728 - emotion_output_accuracy: 0.7120 - sentiment_output_accuracy: 0.9090 - val_loss: 1.6495 - val_emotion_output_loss: 1.0759 - val_sentiment_output_loss: 0.5737 - val_emotion_output_accuracy: 0.6207 - val_sentiment_output_accuracy: 0.7707\n",
            "Epoch 33/200\n",
            "10/10 [==============================] - 1s 137ms/step - loss: 1.0064 - emotion_output_loss: 0.7463 - sentiment_output_loss: 0.2601 - emotion_output_accuracy: 0.7212 - sentiment_output_accuracy: 0.9121 - val_loss: 1.6490 - val_emotion_output_loss: 1.0721 - val_sentiment_output_loss: 0.5769 - val_emotion_output_accuracy: 0.6207 - val_sentiment_output_accuracy: 0.7697\n",
            "Epoch 34/200\n",
            "10/10 [==============================] - 1s 114ms/step - loss: 0.9691 - emotion_output_loss: 0.7205 - sentiment_output_loss: 0.2487 - emotion_output_accuracy: 0.7305 - sentiment_output_accuracy: 0.9161 - val_loss: 1.6502 - val_emotion_output_loss: 1.0715 - val_sentiment_output_loss: 0.5786 - val_emotion_output_accuracy: 0.6205 - val_sentiment_output_accuracy: 0.7721\n",
            "Epoch 35/200\n",
            "10/10 [==============================] - 2s 157ms/step - loss: 0.9336 - emotion_output_loss: 0.6962 - sentiment_output_loss: 0.2374 - emotion_output_accuracy: 0.7412 - sentiment_output_accuracy: 0.9191 - val_loss: 1.6526 - val_emotion_output_loss: 1.0686 - val_sentiment_output_loss: 0.5840 - val_emotion_output_accuracy: 0.6239 - val_sentiment_output_accuracy: 0.7715\n",
            "Epoch 36/200\n",
            "10/10 [==============================] - 2s 203ms/step - loss: 0.8968 - emotion_output_loss: 0.6698 - sentiment_output_loss: 0.2270 - emotion_output_accuracy: 0.7522 - sentiment_output_accuracy: 0.9256 - val_loss: 1.6610 - val_emotion_output_loss: 1.0730 - val_sentiment_output_loss: 0.5881 - val_emotion_output_accuracy: 0.6237 - val_sentiment_output_accuracy: 0.7751\n",
            "Epoch 37/200\n",
            "10/10 [==============================] - 2s 138ms/step - loss: 0.8640 - emotion_output_loss: 0.6465 - sentiment_output_loss: 0.2175 - emotion_output_accuracy: 0.7613 - sentiment_output_accuracy: 0.9289 - val_loss: 1.6621 - val_emotion_output_loss: 1.0711 - val_sentiment_output_loss: 0.5910 - val_emotion_output_accuracy: 0.6235 - val_sentiment_output_accuracy: 0.7733\n",
            "Epoch 38/200\n",
            "10/10 [==============================] - 2s 166ms/step - loss: 0.8307 - emotion_output_loss: 0.6233 - sentiment_output_loss: 0.2074 - emotion_output_accuracy: 0.7707 - sentiment_output_accuracy: 0.9319 - val_loss: 1.6678 - val_emotion_output_loss: 1.0716 - val_sentiment_output_loss: 0.5962 - val_emotion_output_accuracy: 0.6241 - val_sentiment_output_accuracy: 0.7747\n",
            "Epoch 39/200\n",
            "10/10 [==============================] - 1s 159ms/step - loss: 0.7973 - emotion_output_loss: 0.5987 - sentiment_output_loss: 0.1985 - emotion_output_accuracy: 0.7848 - sentiment_output_accuracy: 0.9349 - val_loss: 1.6692 - val_emotion_output_loss: 1.0668 - val_sentiment_output_loss: 0.6025 - val_emotion_output_accuracy: 0.6292 - val_sentiment_output_accuracy: 0.7759\n",
            "Epoch 40/200\n",
            "10/10 [==============================] - 1s 92ms/step - loss: 0.7660 - emotion_output_loss: 0.5767 - sentiment_output_loss: 0.1892 - emotion_output_accuracy: 0.7909 - sentiment_output_accuracy: 0.9401 - val_loss: 1.6740 - val_emotion_output_loss: 1.0674 - val_sentiment_output_loss: 0.6066 - val_emotion_output_accuracy: 0.6252 - val_sentiment_output_accuracy: 0.7799\n",
            "Epoch 41/200\n",
            "10/10 [==============================] - 1s 158ms/step - loss: 0.7373 - emotion_output_loss: 0.5552 - sentiment_output_loss: 0.1821 - emotion_output_accuracy: 0.8008 - sentiment_output_accuracy: 0.9410 - val_loss: 1.6946 - val_emotion_output_loss: 1.0732 - val_sentiment_output_loss: 0.6214 - val_emotion_output_accuracy: 0.6258 - val_sentiment_output_accuracy: 0.7693\n",
            "Epoch 42/200\n",
            "10/10 [==============================] - 1s 113ms/step - loss: 0.7076 - emotion_output_loss: 0.5335 - sentiment_output_loss: 0.1741 - emotion_output_accuracy: 0.8093 - sentiment_output_accuracy: 0.9447 - val_loss: 1.6984 - val_emotion_output_loss: 1.0793 - val_sentiment_output_loss: 0.6191 - val_emotion_output_accuracy: 0.6233 - val_sentiment_output_accuracy: 0.7783\n",
            "Epoch 43/200\n",
            "10/10 [==============================] - 1s 135ms/step - loss: 0.6828 - emotion_output_loss: 0.5150 - sentiment_output_loss: 0.1677 - emotion_output_accuracy: 0.8198 - sentiment_output_accuracy: 0.9465 - val_loss: 1.7073 - val_emotion_output_loss: 1.0816 - val_sentiment_output_loss: 0.6258 - val_emotion_output_accuracy: 0.6241 - val_sentiment_output_accuracy: 0.7777\n",
            "Epoch 44/200\n",
            "10/10 [==============================] - 1s 114ms/step - loss: 0.6569 - emotion_output_loss: 0.4957 - sentiment_output_loss: 0.1612 - emotion_output_accuracy: 0.8262 - sentiment_output_accuracy: 0.9478 - val_loss: 1.7255 - val_emotion_output_loss: 1.0941 - val_sentiment_output_loss: 0.6314 - val_emotion_output_accuracy: 0.6215 - val_sentiment_output_accuracy: 0.7759\n",
            "Epoch 45/200\n",
            "10/10 [==============================] - 1s 91ms/step - loss: 0.6305 - emotion_output_loss: 0.4773 - sentiment_output_loss: 0.1532 - emotion_output_accuracy: 0.8356 - sentiment_output_accuracy: 0.9526 - val_loss: 1.7388 - val_emotion_output_loss: 1.1011 - val_sentiment_output_loss: 0.6377 - val_emotion_output_accuracy: 0.6189 - val_sentiment_output_accuracy: 0.7769\n",
            "Epoch 46/200\n",
            "10/10 [==============================] - 3s 309ms/step - loss: 0.6079 - emotion_output_loss: 0.4594 - sentiment_output_loss: 0.1485 - emotion_output_accuracy: 0.8424 - sentiment_output_accuracy: 0.9542 - val_loss: 1.7562 - val_emotion_output_loss: 1.1040 - val_sentiment_output_loss: 0.6521 - val_emotion_output_accuracy: 0.6258 - val_sentiment_output_accuracy: 0.7717\n",
            "Epoch 47/200\n",
            "10/10 [==============================] - 1s 114ms/step - loss: 0.5844 - emotion_output_loss: 0.4418 - sentiment_output_loss: 0.1426 - emotion_output_accuracy: 0.8483 - sentiment_output_accuracy: 0.9563 - val_loss: 1.7895 - val_emotion_output_loss: 1.1249 - val_sentiment_output_loss: 0.6646 - val_emotion_output_accuracy: 0.6183 - val_sentiment_output_accuracy: 0.7693\n",
            "Epoch 48/200\n",
            "10/10 [==============================] - 1s 136ms/step - loss: 0.5655 - emotion_output_loss: 0.4284 - sentiment_output_loss: 0.1372 - emotion_output_accuracy: 0.8560 - sentiment_output_accuracy: 0.9571 - val_loss: 1.7802 - val_emotion_output_loss: 1.1193 - val_sentiment_output_loss: 0.6610 - val_emotion_output_accuracy: 0.6260 - val_sentiment_output_accuracy: 0.7705\n",
            "Epoch 49/200\n",
            "10/10 [==============================] - 1s 115ms/step - loss: 0.5461 - emotion_output_loss: 0.4126 - sentiment_output_loss: 0.1335 - emotion_output_accuracy: 0.8622 - sentiment_output_accuracy: 0.9592 - val_loss: 1.7934 - val_emotion_output_loss: 1.1252 - val_sentiment_output_loss: 0.6683 - val_emotion_output_accuracy: 0.6292 - val_sentiment_output_accuracy: 0.7707\n",
            "Epoch 50/200\n",
            "10/10 [==============================] - 1s 158ms/step - loss: 0.5249 - emotion_output_loss: 0.3972 - sentiment_output_loss: 0.1276 - emotion_output_accuracy: 0.8692 - sentiment_output_accuracy: 0.9606 - val_loss: 1.8170 - val_emotion_output_loss: 1.1459 - val_sentiment_output_loss: 0.6712 - val_emotion_output_accuracy: 0.6221 - val_sentiment_output_accuracy: 0.7723\n",
            "Epoch 51/200\n",
            "10/10 [==============================] - 1s 91ms/step - loss: 0.5028 - emotion_output_loss: 0.3805 - sentiment_output_loss: 0.1223 - emotion_output_accuracy: 0.8749 - sentiment_output_accuracy: 0.9636 - val_loss: 1.8313 - val_emotion_output_loss: 1.1513 - val_sentiment_output_loss: 0.6800 - val_emotion_output_accuracy: 0.6227 - val_sentiment_output_accuracy: 0.7707\n",
            "Epoch 52/200\n",
            "10/10 [==============================] - 1s 135ms/step - loss: 0.4848 - emotion_output_loss: 0.3673 - sentiment_output_loss: 0.1174 - emotion_output_accuracy: 0.8828 - sentiment_output_accuracy: 0.9643 - val_loss: 1.8442 - val_emotion_output_loss: 1.1570 - val_sentiment_output_loss: 0.6872 - val_emotion_output_accuracy: 0.6256 - val_sentiment_output_accuracy: 0.7725\n",
            "Epoch 53/200\n",
            "10/10 [==============================] - 2s 159ms/step - loss: 0.4688 - emotion_output_loss: 0.3552 - sentiment_output_loss: 0.1135 - emotion_output_accuracy: 0.8846 - sentiment_output_accuracy: 0.9663 - val_loss: 1.8702 - val_emotion_output_loss: 1.1764 - val_sentiment_output_loss: 0.6938 - val_emotion_output_accuracy: 0.6205 - val_sentiment_output_accuracy: 0.7709\n",
            "Epoch 54/200\n",
            "10/10 [==============================] - 1s 69ms/step - loss: 0.4533 - emotion_output_loss: 0.3434 - sentiment_output_loss: 0.1099 - emotion_output_accuracy: 0.8917 - sentiment_output_accuracy: 0.9673 - val_loss: 1.8940 - val_emotion_output_loss: 1.1931 - val_sentiment_output_loss: 0.7009 - val_emotion_output_accuracy: 0.6195 - val_sentiment_output_accuracy: 0.7729\n",
            "Epoch 55/200\n",
            "10/10 [==============================] - 2s 201ms/step - loss: 0.4362 - emotion_output_loss: 0.3297 - sentiment_output_loss: 0.1065 - emotion_output_accuracy: 0.8983 - sentiment_output_accuracy: 0.9680 - val_loss: 1.9050 - val_emotion_output_loss: 1.1951 - val_sentiment_output_loss: 0.7099 - val_emotion_output_accuracy: 0.6249 - val_sentiment_output_accuracy: 0.7717\n",
            "Epoch 56/200\n",
            "10/10 [==============================] - 1s 159ms/step - loss: 0.4247 - emotion_output_loss: 0.3222 - sentiment_output_loss: 0.1024 - emotion_output_accuracy: 0.8988 - sentiment_output_accuracy: 0.9691 - val_loss: 1.9322 - val_emotion_output_loss: 1.2159 - val_sentiment_output_loss: 0.7163 - val_emotion_output_accuracy: 0.6179 - val_sentiment_output_accuracy: 0.7727\n",
            "Epoch 57/200\n",
            "10/10 [==============================] - 1s 91ms/step - loss: 0.4085 - emotion_output_loss: 0.3094 - sentiment_output_loss: 0.0991 - emotion_output_accuracy: 0.9035 - sentiment_output_accuracy: 0.9715 - val_loss: 1.9575 - val_emotion_output_loss: 1.2327 - val_sentiment_output_loss: 0.7247 - val_emotion_output_accuracy: 0.6117 - val_sentiment_output_accuracy: 0.7739\n",
            "Epoch 58/200\n",
            "10/10 [==============================] - 1s 136ms/step - loss: 0.3950 - emotion_output_loss: 0.2988 - sentiment_output_loss: 0.0962 - emotion_output_accuracy: 0.9075 - sentiment_output_accuracy: 0.9731 - val_loss: 1.9739 - val_emotion_output_loss: 1.2325 - val_sentiment_output_loss: 0.7415 - val_emotion_output_accuracy: 0.6205 - val_sentiment_output_accuracy: 0.7689\n",
            "Epoch 59/200\n",
            "10/10 [==============================] - 1s 161ms/step - loss: 0.3822 - emotion_output_loss: 0.2887 - sentiment_output_loss: 0.0935 - emotion_output_accuracy: 0.9135 - sentiment_output_accuracy: 0.9732 - val_loss: 1.9969 - val_emotion_output_loss: 1.2562 - val_sentiment_output_loss: 0.7407 - val_emotion_output_accuracy: 0.6163 - val_sentiment_output_accuracy: 0.7739\n",
            "Epoch 60/200\n",
            "10/10 [==============================] - 2s 173ms/step - loss: 0.3678 - emotion_output_loss: 0.2790 - sentiment_output_loss: 0.0888 - emotion_output_accuracy: 0.9166 - sentiment_output_accuracy: 0.9751 - val_loss: 2.0047 - val_emotion_output_loss: 1.2562 - val_sentiment_output_loss: 0.7484 - val_emotion_output_accuracy: 0.6187 - val_sentiment_output_accuracy: 0.7727\n",
            "Epoch 61/200\n",
            "10/10 [==============================] - 1s 70ms/step - loss: 0.3550 - emotion_output_loss: 0.2679 - sentiment_output_loss: 0.0870 - emotion_output_accuracy: 0.9196 - sentiment_output_accuracy: 0.9750 - val_loss: 2.0318 - val_emotion_output_loss: 1.2739 - val_sentiment_output_loss: 0.7578 - val_emotion_output_accuracy: 0.6173 - val_sentiment_output_accuracy: 0.7723\n",
            "Epoch 62/200\n",
            "10/10 [==============================] - 1s 135ms/step - loss: 0.3453 - emotion_output_loss: 0.2602 - sentiment_output_loss: 0.0851 - emotion_output_accuracy: 0.9225 - sentiment_output_accuracy: 0.9757 - val_loss: 2.0515 - val_emotion_output_loss: 1.2891 - val_sentiment_output_loss: 0.7624 - val_emotion_output_accuracy: 0.6195 - val_sentiment_output_accuracy: 0.7715\n",
            "Epoch 63/200\n",
            "10/10 [==============================] - 1s 113ms/step - loss: 0.3316 - emotion_output_loss: 0.2497 - sentiment_output_loss: 0.0819 - emotion_output_accuracy: 0.9272 - sentiment_output_accuracy: 0.9772 - val_loss: 2.0700 - val_emotion_output_loss: 1.3007 - val_sentiment_output_loss: 0.7693 - val_emotion_output_accuracy: 0.6171 - val_sentiment_output_accuracy: 0.7707\n",
            "Epoch 64/200\n",
            "10/10 [==============================] - 1s 161ms/step - loss: 0.3203 - emotion_output_loss: 0.2414 - sentiment_output_loss: 0.0789 - emotion_output_accuracy: 0.9311 - sentiment_output_accuracy: 0.9786 - val_loss: 2.0993 - val_emotion_output_loss: 1.3228 - val_sentiment_output_loss: 0.7765 - val_emotion_output_accuracy: 0.6161 - val_sentiment_output_accuracy: 0.7697\n",
            "Epoch 65/200\n",
            "10/10 [==============================] - 1s 101ms/step - loss: 0.3115 - emotion_output_loss: 0.2348 - sentiment_output_loss: 0.0767 - emotion_output_accuracy: 0.9319 - sentiment_output_accuracy: 0.9797 - val_loss: 2.1095 - val_emotion_output_loss: 1.3249 - val_sentiment_output_loss: 0.7846 - val_emotion_output_accuracy: 0.6227 - val_sentiment_output_accuracy: 0.7687\n",
            "Epoch 66/200\n",
            "10/10 [==============================] - 1s 141ms/step - loss: 0.3008 - emotion_output_loss: 0.2265 - sentiment_output_loss: 0.0743 - emotion_output_accuracy: 0.9355 - sentiment_output_accuracy: 0.9798 - val_loss: 2.1362 - val_emotion_output_loss: 1.3430 - val_sentiment_output_loss: 0.7932 - val_emotion_output_accuracy: 0.6159 - val_sentiment_output_accuracy: 0.7681\n",
            "Epoch 67/200\n",
            "10/10 [==============================] - 1s 71ms/step - loss: 0.2919 - emotion_output_loss: 0.2196 - sentiment_output_loss: 0.0723 - emotion_output_accuracy: 0.9373 - sentiment_output_accuracy: 0.9813 - val_loss: 2.1666 - val_emotion_output_loss: 1.3651 - val_sentiment_output_loss: 0.8015 - val_emotion_output_accuracy: 0.6119 - val_sentiment_output_accuracy: 0.7681\n",
            "Epoch 68/200\n",
            "10/10 [==============================] - 1s 137ms/step - loss: 0.2832 - emotion_output_loss: 0.2122 - sentiment_output_loss: 0.0710 - emotion_output_accuracy: 0.9405 - sentiment_output_accuracy: 0.9810 - val_loss: 2.1803 - val_emotion_output_loss: 1.3677 - val_sentiment_output_loss: 0.8126 - val_emotion_output_accuracy: 0.6171 - val_sentiment_output_accuracy: 0.7675\n",
            "Epoch 69/200\n",
            "10/10 [==============================] - 1s 114ms/step - loss: 0.2726 - emotion_output_loss: 0.2041 - sentiment_output_loss: 0.0685 - emotion_output_accuracy: 0.9438 - sentiment_output_accuracy: 0.9815 - val_loss: 2.2027 - val_emotion_output_loss: 1.3865 - val_sentiment_output_loss: 0.8162 - val_emotion_output_accuracy: 0.6151 - val_sentiment_output_accuracy: 0.7705\n",
            "Epoch 70/200\n",
            "10/10 [==============================] - 1s 69ms/step - loss: 0.2646 - emotion_output_loss: 0.1973 - sentiment_output_loss: 0.0673 - emotion_output_accuracy: 0.9457 - sentiment_output_accuracy: 0.9826 - val_loss: 2.2403 - val_emotion_output_loss: 1.4150 - val_sentiment_output_loss: 0.8253 - val_emotion_output_accuracy: 0.6113 - val_sentiment_output_accuracy: 0.7661\n",
            "Epoch 71/200\n",
            "10/10 [==============================] - 1s 113ms/step - loss: 0.2565 - emotion_output_loss: 0.1904 - sentiment_output_loss: 0.0661 - emotion_output_accuracy: 0.9490 - sentiment_output_accuracy: 0.9822 - val_loss: 2.2554 - val_emotion_output_loss: 1.4231 - val_sentiment_output_loss: 0.8323 - val_emotion_output_accuracy: 0.6157 - val_sentiment_output_accuracy: 0.7677\n",
            "Epoch 72/200\n",
            "10/10 [==============================] - 0s 25ms/step - loss: 0.2489 - emotion_output_loss: 0.1866 - sentiment_output_loss: 0.0623 - emotion_output_accuracy: 0.9474 - sentiment_output_accuracy: 0.9836 - val_loss: 2.2643 - val_emotion_output_loss: 1.4234 - val_sentiment_output_loss: 0.8410 - val_emotion_output_accuracy: 0.6153 - val_sentiment_output_accuracy: 0.7681\n",
            "Epoch 73/200\n",
            "10/10 [==============================] - 1s 135ms/step - loss: 0.2431 - emotion_output_loss: 0.1824 - sentiment_output_loss: 0.0608 - emotion_output_accuracy: 0.9478 - sentiment_output_accuracy: 0.9836 - val_loss: 2.3095 - val_emotion_output_loss: 1.4582 - val_sentiment_output_loss: 0.8513 - val_emotion_output_accuracy: 0.6081 - val_sentiment_output_accuracy: 0.7637\n",
            "Epoch 74/200\n",
            "10/10 [==============================] - 0s 45ms/step - loss: 0.2342 - emotion_output_loss: 0.1749 - sentiment_output_loss: 0.0593 - emotion_output_accuracy: 0.9531 - sentiment_output_accuracy: 0.9852 - val_loss: 2.3153 - val_emotion_output_loss: 1.4574 - val_sentiment_output_loss: 0.8579 - val_emotion_output_accuracy: 0.6139 - val_sentiment_output_accuracy: 0.7633\n",
            "Epoch 75/200\n",
            "10/10 [==============================] - 1s 113ms/step - loss: 0.2254 - emotion_output_loss: 0.1682 - sentiment_output_loss: 0.0572 - emotion_output_accuracy: 0.9539 - sentiment_output_accuracy: 0.9855 - val_loss: 2.3326 - val_emotion_output_loss: 1.4701 - val_sentiment_output_loss: 0.8625 - val_emotion_output_accuracy: 0.6131 - val_sentiment_output_accuracy: 0.7649\n",
            "Epoch 76/200\n",
            "10/10 [==============================] - 1s 69ms/step - loss: 0.2197 - emotion_output_loss: 0.1638 - sentiment_output_loss: 0.0559 - emotion_output_accuracy: 0.9569 - sentiment_output_accuracy: 0.9854 - val_loss: 2.3576 - val_emotion_output_loss: 1.4880 - val_sentiment_output_loss: 0.8696 - val_emotion_output_accuracy: 0.6123 - val_sentiment_output_accuracy: 0.7641\n",
            "Epoch 77/200\n",
            "10/10 [==============================] - 1s 134ms/step - loss: 0.2117 - emotion_output_loss: 0.1576 - sentiment_output_loss: 0.0542 - emotion_output_accuracy: 0.9576 - sentiment_output_accuracy: 0.9864 - val_loss: 2.3859 - val_emotion_output_loss: 1.5092 - val_sentiment_output_loss: 0.8768 - val_emotion_output_accuracy: 0.6081 - val_sentiment_output_accuracy: 0.7635\n",
            "Epoch 78/200\n",
            "10/10 [==============================] - 2s 207ms/step - loss: 0.2052 - emotion_output_loss: 0.1530 - sentiment_output_loss: 0.0522 - emotion_output_accuracy: 0.9603 - sentiment_output_accuracy: 0.9869 - val_loss: 2.4022 - val_emotion_output_loss: 1.5187 - val_sentiment_output_loss: 0.8835 - val_emotion_output_accuracy: 0.6111 - val_sentiment_output_accuracy: 0.7643\n",
            "Epoch 79/200\n",
            "10/10 [==============================] - 1s 91ms/step - loss: 0.2001 - emotion_output_loss: 0.1487 - sentiment_output_loss: 0.0514 - emotion_output_accuracy: 0.9611 - sentiment_output_accuracy: 0.9873 - val_loss: 2.4215 - val_emotion_output_loss: 1.5277 - val_sentiment_output_loss: 0.8938 - val_emotion_output_accuracy: 0.6121 - val_sentiment_output_accuracy: 0.7613\n",
            "Epoch 80/200\n",
            "10/10 [==============================] - 1s 136ms/step - loss: 0.1964 - emotion_output_loss: 0.1460 - sentiment_output_loss: 0.0503 - emotion_output_accuracy: 0.9613 - sentiment_output_accuracy: 0.9875 - val_loss: 2.4413 - val_emotion_output_loss: 1.5413 - val_sentiment_output_loss: 0.9000 - val_emotion_output_accuracy: 0.6111 - val_sentiment_output_accuracy: 0.7641\n",
            "Epoch 81/200\n",
            "10/10 [==============================] - 1s 69ms/step - loss: 0.1909 - emotion_output_loss: 0.1410 - sentiment_output_loss: 0.0499 - emotion_output_accuracy: 0.9635 - sentiment_output_accuracy: 0.9878 - val_loss: 2.4875 - val_emotion_output_loss: 1.5755 - val_sentiment_output_loss: 0.9120 - val_emotion_output_accuracy: 0.6067 - val_sentiment_output_accuracy: 0.7625\n",
            "Epoch 82/200\n",
            "10/10 [==============================] - 1s 68ms/step - loss: 0.1866 - emotion_output_loss: 0.1385 - sentiment_output_loss: 0.0481 - emotion_output_accuracy: 0.9634 - sentiment_output_accuracy: 0.9875 - val_loss: 2.4887 - val_emotion_output_loss: 1.5767 - val_sentiment_output_loss: 0.9120 - val_emotion_output_accuracy: 0.6113 - val_sentiment_output_accuracy: 0.7627\n",
            "Epoch 83/200\n",
            "10/10 [==============================] - 1s 68ms/step - loss: 0.1786 - emotion_output_loss: 0.1332 - sentiment_output_loss: 0.0454 - emotion_output_accuracy: 0.9667 - sentiment_output_accuracy: 0.9894 - val_loss: 2.5152 - val_emotion_output_loss: 1.5886 - val_sentiment_output_loss: 0.9266 - val_emotion_output_accuracy: 0.6077 - val_sentiment_output_accuracy: 0.7619\n",
            "Epoch 84/200\n",
            "10/10 [==============================] - 1s 90ms/step - loss: 0.1728 - emotion_output_loss: 0.1292 - sentiment_output_loss: 0.0436 - emotion_output_accuracy: 0.9669 - sentiment_output_accuracy: 0.9906 - val_loss: 2.5293 - val_emotion_output_loss: 1.6013 - val_sentiment_output_loss: 0.9280 - val_emotion_output_accuracy: 0.6109 - val_sentiment_output_accuracy: 0.7603\n",
            "Epoch 85/200\n",
            "10/10 [==============================] - 1s 92ms/step - loss: 0.1699 - emotion_output_loss: 0.1252 - sentiment_output_loss: 0.0447 - emotion_output_accuracy: 0.9682 - sentiment_output_accuracy: 0.9901 - val_loss: 2.5481 - val_emotion_output_loss: 1.6136 - val_sentiment_output_loss: 0.9345 - val_emotion_output_accuracy: 0.6069 - val_sentiment_output_accuracy: 0.7609\n",
            "Epoch 86/200\n",
            "10/10 [==============================] - 1s 47ms/step - loss: 0.1658 - emotion_output_loss: 0.1232 - sentiment_output_loss: 0.0427 - emotion_output_accuracy: 0.9691 - sentiment_output_accuracy: 0.9908 - val_loss: 2.6005 - val_emotion_output_loss: 1.6567 - val_sentiment_output_loss: 0.9438 - val_emotion_output_accuracy: 0.6025 - val_sentiment_output_accuracy: 0.7607\n",
            "Epoch 87/200\n",
            "10/10 [==============================] - 1s 90ms/step - loss: 0.1606 - emotion_output_loss: 0.1189 - sentiment_output_loss: 0.0417 - emotion_output_accuracy: 0.9700 - sentiment_output_accuracy: 0.9903 - val_loss: 2.5971 - val_emotion_output_loss: 1.6464 - val_sentiment_output_loss: 0.9506 - val_emotion_output_accuracy: 0.6117 - val_sentiment_output_accuracy: 0.7607\n",
            "Epoch 88/200\n",
            "10/10 [==============================] - 1s 110ms/step - loss: 0.1550 - emotion_output_loss: 0.1155 - sentiment_output_loss: 0.0395 - emotion_output_accuracy: 0.9709 - sentiment_output_accuracy: 0.9915 - val_loss: 2.6407 - val_emotion_output_loss: 1.6846 - val_sentiment_output_loss: 0.9562 - val_emotion_output_accuracy: 0.6021 - val_sentiment_output_accuracy: 0.7593\n",
            "Epoch 89/200\n",
            "10/10 [==============================] - 1s 94ms/step - loss: 0.1519 - emotion_output_loss: 0.1125 - sentiment_output_loss: 0.0394 - emotion_output_accuracy: 0.9724 - sentiment_output_accuracy: 0.9915 - val_loss: 2.6442 - val_emotion_output_loss: 1.6800 - val_sentiment_output_loss: 0.9642 - val_emotion_output_accuracy: 0.6087 - val_sentiment_output_accuracy: 0.7597\n",
            "Epoch 90/200\n",
            "10/10 [==============================] - 1s 69ms/step - loss: 0.1495 - emotion_output_loss: 0.1102 - sentiment_output_loss: 0.0392 - emotion_output_accuracy: 0.9720 - sentiment_output_accuracy: 0.9917 - val_loss: 2.6697 - val_emotion_output_loss: 1.6979 - val_sentiment_output_loss: 0.9718 - val_emotion_output_accuracy: 0.6053 - val_sentiment_output_accuracy: 0.7607\n",
            "Epoch 91/200\n",
            "10/10 [==============================] - 1s 127ms/step - loss: 0.1435 - emotion_output_loss: 0.1059 - sentiment_output_loss: 0.0376 - emotion_output_accuracy: 0.9733 - sentiment_output_accuracy: 0.9912 - val_loss: 2.6807 - val_emotion_output_loss: 1.7035 - val_sentiment_output_loss: 0.9772 - val_emotion_output_accuracy: 0.6061 - val_sentiment_output_accuracy: 0.7593\n",
            "Epoch 92/200\n",
            "10/10 [==============================] - 1s 65ms/step - loss: 0.1414 - emotion_output_loss: 0.1044 - sentiment_output_loss: 0.0369 - emotion_output_accuracy: 0.9746 - sentiment_output_accuracy: 0.9913 - val_loss: 2.7128 - val_emotion_output_loss: 1.7277 - val_sentiment_output_loss: 0.9851 - val_emotion_output_accuracy: 0.6047 - val_sentiment_output_accuracy: 0.7611\n",
            "Epoch 93/200\n",
            "10/10 [==============================] - 1s 64ms/step - loss: 0.1362 - emotion_output_loss: 0.1015 - sentiment_output_loss: 0.0346 - emotion_output_accuracy: 0.9748 - sentiment_output_accuracy: 0.9926 - val_loss: 2.7284 - val_emotion_output_loss: 1.7408 - val_sentiment_output_loss: 0.9875 - val_emotion_output_accuracy: 0.6039 - val_sentiment_output_accuracy: 0.7593\n",
            "Epoch 94/200\n",
            "10/10 [==============================] - 1s 91ms/step - loss: 0.1336 - emotion_output_loss: 0.0987 - sentiment_output_loss: 0.0348 - emotion_output_accuracy: 0.9752 - sentiment_output_accuracy: 0.9918 - val_loss: 2.7448 - val_emotion_output_loss: 1.7466 - val_sentiment_output_loss: 0.9983 - val_emotion_output_accuracy: 0.6045 - val_sentiment_output_accuracy: 0.7607\n",
            "Epoch 95/200\n",
            "10/10 [==============================] - 1s 70ms/step - loss: 0.1291 - emotion_output_loss: 0.0951 - sentiment_output_loss: 0.0340 - emotion_output_accuracy: 0.9773 - sentiment_output_accuracy: 0.9926 - val_loss: 2.7647 - val_emotion_output_loss: 1.7605 - val_sentiment_output_loss: 1.0042 - val_emotion_output_accuracy: 0.6031 - val_sentiment_output_accuracy: 0.7601\n",
            "Epoch 96/200\n",
            "10/10 [==============================] - 1s 91ms/step - loss: 0.1250 - emotion_output_loss: 0.0922 - sentiment_output_loss: 0.0328 - emotion_output_accuracy: 0.9776 - sentiment_output_accuracy: 0.9928 - val_loss: 2.7975 - val_emotion_output_loss: 1.7831 - val_sentiment_output_loss: 1.0144 - val_emotion_output_accuracy: 0.6077 - val_sentiment_output_accuracy: 0.7593\n",
            "Epoch 97/200\n",
            "10/10 [==============================] - 1s 158ms/step - loss: 0.1232 - emotion_output_loss: 0.0910 - sentiment_output_loss: 0.0321 - emotion_output_accuracy: 0.9778 - sentiment_output_accuracy: 0.9929 - val_loss: 2.8098 - val_emotion_output_loss: 1.7890 - val_sentiment_output_loss: 1.0207 - val_emotion_output_accuracy: 0.6057 - val_sentiment_output_accuracy: 0.7587\n",
            "Epoch 98/200\n",
            "10/10 [==============================] - 1s 69ms/step - loss: 0.1199 - emotion_output_loss: 0.0886 - sentiment_output_loss: 0.0314 - emotion_output_accuracy: 0.9783 - sentiment_output_accuracy: 0.9935 - val_loss: 2.8466 - val_emotion_output_loss: 1.8156 - val_sentiment_output_loss: 1.0310 - val_emotion_output_accuracy: 0.6069 - val_sentiment_output_accuracy: 0.7617\n",
            "Epoch 99/200\n",
            "10/10 [==============================] - 1s 66ms/step - loss: 0.1177 - emotion_output_loss: 0.0869 - sentiment_output_loss: 0.0308 - emotion_output_accuracy: 0.9789 - sentiment_output_accuracy: 0.9936 - val_loss: 2.8553 - val_emotion_output_loss: 1.8236 - val_sentiment_output_loss: 1.0317 - val_emotion_output_accuracy: 0.6037 - val_sentiment_output_accuracy: 0.7591\n",
            "Epoch 100/200\n",
            "10/10 [==============================] - 1s 94ms/step - loss: 0.1164 - emotion_output_loss: 0.0861 - sentiment_output_loss: 0.0303 - emotion_output_accuracy: 0.9795 - sentiment_output_accuracy: 0.9935 - val_loss: 2.9167 - val_emotion_output_loss: 1.8637 - val_sentiment_output_loss: 1.0531 - val_emotion_output_accuracy: 0.5985 - val_sentiment_output_accuracy: 0.7583\n",
            "Epoch 101/200\n",
            "10/10 [==============================] - 0s 24ms/step - loss: 0.1148 - emotion_output_loss: 0.0850 - sentiment_output_loss: 0.0299 - emotion_output_accuracy: 0.9799 - sentiment_output_accuracy: 0.9940 - val_loss: 2.8925 - val_emotion_output_loss: 1.8440 - val_sentiment_output_loss: 1.0484 - val_emotion_output_accuracy: 0.6051 - val_sentiment_output_accuracy: 0.7579\n",
            "Epoch 102/200\n",
            "10/10 [==============================] - 1s 66ms/step - loss: 0.1115 - emotion_output_loss: 0.0823 - sentiment_output_loss: 0.0292 - emotion_output_accuracy: 0.9806 - sentiment_output_accuracy: 0.9938 - val_loss: 2.9288 - val_emotion_output_loss: 1.8688 - val_sentiment_output_loss: 1.0601 - val_emotion_output_accuracy: 0.6079 - val_sentiment_output_accuracy: 0.7625\n",
            "Epoch 103/200\n",
            "10/10 [==============================] - 1s 92ms/step - loss: 0.1077 - emotion_output_loss: 0.0788 - sentiment_output_loss: 0.0289 - emotion_output_accuracy: 0.9815 - sentiment_output_accuracy: 0.9937 - val_loss: 2.9464 - val_emotion_output_loss: 1.8790 - val_sentiment_output_loss: 1.0673 - val_emotion_output_accuracy: 0.6021 - val_sentiment_output_accuracy: 0.7591\n",
            "Epoch 104/200\n",
            "10/10 [==============================] - 1s 93ms/step - loss: 0.1047 - emotion_output_loss: 0.0772 - sentiment_output_loss: 0.0276 - emotion_output_accuracy: 0.9814 - sentiment_output_accuracy: 0.9944 - val_loss: 2.9629 - val_emotion_output_loss: 1.8940 - val_sentiment_output_loss: 1.0690 - val_emotion_output_accuracy: 0.6011 - val_sentiment_output_accuracy: 0.7579\n",
            "Epoch 105/200\n",
            "10/10 [==============================] - 0s 47ms/step - loss: 0.1024 - emotion_output_loss: 0.0758 - sentiment_output_loss: 0.0266 - emotion_output_accuracy: 0.9824 - sentiment_output_accuracy: 0.9950 - val_loss: 2.9869 - val_emotion_output_loss: 1.9122 - val_sentiment_output_loss: 1.0747 - val_emotion_output_accuracy: 0.5997 - val_sentiment_output_accuracy: 0.7589\n",
            "Epoch 106/200\n",
            "10/10 [==============================] - 1s 82ms/step - loss: 0.1005 - emotion_output_loss: 0.0737 - sentiment_output_loss: 0.0269 - emotion_output_accuracy: 0.9831 - sentiment_output_accuracy: 0.9950 - val_loss: 2.9996 - val_emotion_output_loss: 1.9212 - val_sentiment_output_loss: 1.0785 - val_emotion_output_accuracy: 0.5999 - val_sentiment_output_accuracy: 0.7587\n",
            "Epoch 107/200\n",
            "10/10 [==============================] - 2s 176ms/step - loss: 0.0975 - emotion_output_loss: 0.0717 - sentiment_output_loss: 0.0258 - emotion_output_accuracy: 0.9837 - sentiment_output_accuracy: 0.9950 - val_loss: 3.0223 - val_emotion_output_loss: 1.9280 - val_sentiment_output_loss: 1.0943 - val_emotion_output_accuracy: 0.6061 - val_sentiment_output_accuracy: 0.7575\n",
            "Epoch 108/200\n",
            "10/10 [==============================] - 1s 69ms/step - loss: 0.0949 - emotion_output_loss: 0.0700 - sentiment_output_loss: 0.0249 - emotion_output_accuracy: 0.9840 - sentiment_output_accuracy: 0.9955 - val_loss: 3.0427 - val_emotion_output_loss: 1.9419 - val_sentiment_output_loss: 1.1008 - val_emotion_output_accuracy: 0.6045 - val_sentiment_output_accuracy: 0.7581\n",
            "Epoch 109/200\n",
            "10/10 [==============================] - 1s 95ms/step - loss: 0.0945 - emotion_output_loss: 0.0701 - sentiment_output_loss: 0.0243 - emotion_output_accuracy: 0.9840 - sentiment_output_accuracy: 0.9952 - val_loss: 3.0702 - val_emotion_output_loss: 1.9678 - val_sentiment_output_loss: 1.1025 - val_emotion_output_accuracy: 0.6029 - val_sentiment_output_accuracy: 0.7597\n",
            "Epoch 110/200\n",
            "10/10 [==============================] - 1s 90ms/step - loss: 0.0906 - emotion_output_loss: 0.0670 - sentiment_output_loss: 0.0237 - emotion_output_accuracy: 0.9851 - sentiment_output_accuracy: 0.9958 - val_loss: 3.0896 - val_emotion_output_loss: 1.9738 - val_sentiment_output_loss: 1.1158 - val_emotion_output_accuracy: 0.6033 - val_sentiment_output_accuracy: 0.7573\n",
            "Epoch 111/200\n",
            "10/10 [==============================] - 0s 48ms/step - loss: 0.0899 - emotion_output_loss: 0.0656 - sentiment_output_loss: 0.0243 - emotion_output_accuracy: 0.9850 - sentiment_output_accuracy: 0.9955 - val_loss: 3.1219 - val_emotion_output_loss: 2.0033 - val_sentiment_output_loss: 1.1187 - val_emotion_output_accuracy: 0.5979 - val_sentiment_output_accuracy: 0.7581\n",
            "Epoch 112/200\n",
            "10/10 [==============================] - 1s 68ms/step - loss: 0.0876 - emotion_output_loss: 0.0650 - sentiment_output_loss: 0.0227 - emotion_output_accuracy: 0.9855 - sentiment_output_accuracy: 0.9963 - val_loss: 3.1278 - val_emotion_output_loss: 2.0048 - val_sentiment_output_loss: 1.1230 - val_emotion_output_accuracy: 0.5961 - val_sentiment_output_accuracy: 0.7565\n",
            "Epoch 113/200\n",
            "10/10 [==============================] - 1s 46ms/step - loss: 0.0855 - emotion_output_loss: 0.0632 - sentiment_output_loss: 0.0223 - emotion_output_accuracy: 0.9863 - sentiment_output_accuracy: 0.9963 - val_loss: 3.1480 - val_emotion_output_loss: 2.0200 - val_sentiment_output_loss: 1.1280 - val_emotion_output_accuracy: 0.5997 - val_sentiment_output_accuracy: 0.7583\n",
            "Epoch 114/200\n",
            "10/10 [==============================] - 0s 45ms/step - loss: 0.0841 - emotion_output_loss: 0.0622 - sentiment_output_loss: 0.0219 - emotion_output_accuracy: 0.9856 - sentiment_output_accuracy: 0.9965 - val_loss: 3.1742 - val_emotion_output_loss: 2.0301 - val_sentiment_output_loss: 1.1441 - val_emotion_output_accuracy: 0.6049 - val_sentiment_output_accuracy: 0.7565\n",
            "Epoch 115/200\n",
            "10/10 [==============================] - 1s 89ms/step - loss: 0.0834 - emotion_output_loss: 0.0613 - sentiment_output_loss: 0.0221 - emotion_output_accuracy: 0.9863 - sentiment_output_accuracy: 0.9957 - val_loss: 3.1877 - val_emotion_output_loss: 2.0482 - val_sentiment_output_loss: 1.1395 - val_emotion_output_accuracy: 0.6009 - val_sentiment_output_accuracy: 0.7571\n",
            "Epoch 116/200\n",
            "10/10 [==============================] - 1s 68ms/step - loss: 0.0813 - emotion_output_loss: 0.0598 - sentiment_output_loss: 0.0216 - emotion_output_accuracy: 0.9855 - sentiment_output_accuracy: 0.9964 - val_loss: 3.2342 - val_emotion_output_loss: 2.0712 - val_sentiment_output_loss: 1.1630 - val_emotion_output_accuracy: 0.5993 - val_sentiment_output_accuracy: 0.7553\n",
            "Epoch 117/200\n",
            "10/10 [==============================] - 1s 69ms/step - loss: 0.0792 - emotion_output_loss: 0.0575 - sentiment_output_loss: 0.0217 - emotion_output_accuracy: 0.9869 - sentiment_output_accuracy: 0.9961 - val_loss: 3.2372 - val_emotion_output_loss: 2.0816 - val_sentiment_output_loss: 1.1555 - val_emotion_output_accuracy: 0.6003 - val_sentiment_output_accuracy: 0.7597\n",
            "Epoch 118/200\n",
            "10/10 [==============================] - 1s 67ms/step - loss: 0.0779 - emotion_output_loss: 0.0574 - sentiment_output_loss: 0.0205 - emotion_output_accuracy: 0.9868 - sentiment_output_accuracy: 0.9966 - val_loss: 3.2607 - val_emotion_output_loss: 2.0969 - val_sentiment_output_loss: 1.1638 - val_emotion_output_accuracy: 0.5969 - val_sentiment_output_accuracy: 0.7583\n",
            "Epoch 119/200\n",
            "10/10 [==============================] - 1s 133ms/step - loss: 0.0757 - emotion_output_loss: 0.0556 - sentiment_output_loss: 0.0202 - emotion_output_accuracy: 0.9873 - sentiment_output_accuracy: 0.9964 - val_loss: 3.2772 - val_emotion_output_loss: 2.1054 - val_sentiment_output_loss: 1.1717 - val_emotion_output_accuracy: 0.5967 - val_sentiment_output_accuracy: 0.7569\n",
            "Epoch 120/200\n",
            "10/10 [==============================] - 1s 69ms/step - loss: 0.0740 - emotion_output_loss: 0.0542 - sentiment_output_loss: 0.0198 - emotion_output_accuracy: 0.9880 - sentiment_output_accuracy: 0.9963 - val_loss: 3.2938 - val_emotion_output_loss: 2.1202 - val_sentiment_output_loss: 1.1737 - val_emotion_output_accuracy: 0.5987 - val_sentiment_output_accuracy: 0.7577\n",
            "Epoch 121/200\n",
            "10/10 [==============================] - 0s 24ms/step - loss: 0.0728 - emotion_output_loss: 0.0535 - sentiment_output_loss: 0.0193 - emotion_output_accuracy: 0.9879 - sentiment_output_accuracy: 0.9967 - val_loss: 3.3122 - val_emotion_output_loss: 2.1285 - val_sentiment_output_loss: 1.1837 - val_emotion_output_accuracy: 0.5993 - val_sentiment_output_accuracy: 0.7575\n",
            "Epoch 122/200\n",
            "10/10 [==============================] - 0s 48ms/step - loss: 0.0727 - emotion_output_loss: 0.0537 - sentiment_output_loss: 0.0190 - emotion_output_accuracy: 0.9880 - sentiment_output_accuracy: 0.9965 - val_loss: 3.3422 - val_emotion_output_loss: 2.1476 - val_sentiment_output_loss: 1.1946 - val_emotion_output_accuracy: 0.5943 - val_sentiment_output_accuracy: 0.7541\n",
            "Epoch 123/200\n",
            "10/10 [==============================] - 1s 61ms/step - loss: 0.0700 - emotion_output_loss: 0.0515 - sentiment_output_loss: 0.0184 - emotion_output_accuracy: 0.9881 - sentiment_output_accuracy: 0.9969 - val_loss: 3.3721 - val_emotion_output_loss: 2.1770 - val_sentiment_output_loss: 1.1951 - val_emotion_output_accuracy: 0.5933 - val_sentiment_output_accuracy: 0.7561\n",
            "Epoch 124/200\n",
            "10/10 [==============================] - 1s 65ms/step - loss: 0.0697 - emotion_output_loss: 0.0517 - sentiment_output_loss: 0.0180 - emotion_output_accuracy: 0.9879 - sentiment_output_accuracy: 0.9972 - val_loss: 3.3769 - val_emotion_output_loss: 2.1754 - val_sentiment_output_loss: 1.2016 - val_emotion_output_accuracy: 0.5935 - val_sentiment_output_accuracy: 0.7561\n",
            "Epoch 125/200\n",
            "10/10 [==============================] - 1s 63ms/step - loss: 0.0679 - emotion_output_loss: 0.0500 - sentiment_output_loss: 0.0179 - emotion_output_accuracy: 0.9886 - sentiment_output_accuracy: 0.9968 - val_loss: 3.4010 - val_emotion_output_loss: 2.1903 - val_sentiment_output_loss: 1.2107 - val_emotion_output_accuracy: 0.5941 - val_sentiment_output_accuracy: 0.7577\n",
            "Epoch 126/200\n",
            "10/10 [==============================] - 1s 81ms/step - loss: 0.0683 - emotion_output_loss: 0.0497 - sentiment_output_loss: 0.0186 - emotion_output_accuracy: 0.9891 - sentiment_output_accuracy: 0.9963 - val_loss: 3.4180 - val_emotion_output_loss: 2.2016 - val_sentiment_output_loss: 1.2165 - val_emotion_output_accuracy: 0.5969 - val_sentiment_output_accuracy: 0.7583\n",
            "Epoch 127/200\n",
            "10/10 [==============================] - 1s 67ms/step - loss: 0.0646 - emotion_output_loss: 0.0469 - sentiment_output_loss: 0.0177 - emotion_output_accuracy: 0.9904 - sentiment_output_accuracy: 0.9966 - val_loss: 3.4301 - val_emotion_output_loss: 2.2108 - val_sentiment_output_loss: 1.2192 - val_emotion_output_accuracy: 0.5959 - val_sentiment_output_accuracy: 0.7587\n",
            "Epoch 128/200\n",
            "10/10 [==============================] - 0s 46ms/step - loss: 0.0657 - emotion_output_loss: 0.0481 - sentiment_output_loss: 0.0176 - emotion_output_accuracy: 0.9889 - sentiment_output_accuracy: 0.9968 - val_loss: 3.4467 - val_emotion_output_loss: 2.2191 - val_sentiment_output_loss: 1.2276 - val_emotion_output_accuracy: 0.5995 - val_sentiment_output_accuracy: 0.7563\n",
            "Epoch 129/200\n",
            "10/10 [==============================] - 1s 68ms/step - loss: 0.0634 - emotion_output_loss: 0.0471 - sentiment_output_loss: 0.0163 - emotion_output_accuracy: 0.9898 - sentiment_output_accuracy: 0.9973 - val_loss: 3.4763 - val_emotion_output_loss: 2.2401 - val_sentiment_output_loss: 1.2362 - val_emotion_output_accuracy: 0.5963 - val_sentiment_output_accuracy: 0.7577\n",
            "Epoch 130/200\n",
            "10/10 [==============================] - 1s 68ms/step - loss: 0.0621 - emotion_output_loss: 0.0459 - sentiment_output_loss: 0.0162 - emotion_output_accuracy: 0.9898 - sentiment_output_accuracy: 0.9976 - val_loss: 3.4951 - val_emotion_output_loss: 2.2542 - val_sentiment_output_loss: 1.2409 - val_emotion_output_accuracy: 0.5961 - val_sentiment_output_accuracy: 0.7547\n",
            "Epoch 131/200\n",
            "10/10 [==============================] - 1s 90ms/step - loss: 0.0603 - emotion_output_loss: 0.0439 - sentiment_output_loss: 0.0164 - emotion_output_accuracy: 0.9913 - sentiment_output_accuracy: 0.9975 - val_loss: 3.5104 - val_emotion_output_loss: 2.2576 - val_sentiment_output_loss: 1.2528 - val_emotion_output_accuracy: 0.5939 - val_sentiment_output_accuracy: 0.7555\n",
            "Epoch 132/200\n",
            "10/10 [==============================] - 0s 44ms/step - loss: 0.0599 - emotion_output_loss: 0.0436 - sentiment_output_loss: 0.0163 - emotion_output_accuracy: 0.9908 - sentiment_output_accuracy: 0.9971 - val_loss: 3.5451 - val_emotion_output_loss: 2.2854 - val_sentiment_output_loss: 1.2598 - val_emotion_output_accuracy: 0.5959 - val_sentiment_output_accuracy: 0.7537\n",
            "Epoch 133/200\n",
            "10/10 [==============================] - 0s 45ms/step - loss: 0.0586 - emotion_output_loss: 0.0432 - sentiment_output_loss: 0.0154 - emotion_output_accuracy: 0.9909 - sentiment_output_accuracy: 0.9975 - val_loss: 3.5529 - val_emotion_output_loss: 2.2932 - val_sentiment_output_loss: 1.2597 - val_emotion_output_accuracy: 0.5991 - val_sentiment_output_accuracy: 0.7553\n",
            "Epoch 134/200\n",
            "10/10 [==============================] - 0s 44ms/step - loss: 0.0579 - emotion_output_loss: 0.0421 - sentiment_output_loss: 0.0158 - emotion_output_accuracy: 0.9908 - sentiment_output_accuracy: 0.9969 - val_loss: 3.5710 - val_emotion_output_loss: 2.2973 - val_sentiment_output_loss: 1.2737 - val_emotion_output_accuracy: 0.5963 - val_sentiment_output_accuracy: 0.7531\n",
            "Epoch 135/200\n",
            "10/10 [==============================] - 1s 46ms/step - loss: 0.0576 - emotion_output_loss: 0.0419 - sentiment_output_loss: 0.0157 - emotion_output_accuracy: 0.9912 - sentiment_output_accuracy: 0.9972 - val_loss: 3.6144 - val_emotion_output_loss: 2.3439 - val_sentiment_output_loss: 1.2705 - val_emotion_output_accuracy: 0.5931 - val_sentiment_output_accuracy: 0.7551\n",
            "Epoch 136/200\n",
            "10/10 [==============================] - 1s 67ms/step - loss: 0.0569 - emotion_output_loss: 0.0414 - sentiment_output_loss: 0.0155 - emotion_output_accuracy: 0.9910 - sentiment_output_accuracy: 0.9970 - val_loss: 3.6172 - val_emotion_output_loss: 2.3343 - val_sentiment_output_loss: 1.2830 - val_emotion_output_accuracy: 0.5935 - val_sentiment_output_accuracy: 0.7523\n",
            "Epoch 137/200\n",
            "10/10 [==============================] - 1s 135ms/step - loss: 0.0552 - emotion_output_loss: 0.0402 - sentiment_output_loss: 0.0150 - emotion_output_accuracy: 0.9917 - sentiment_output_accuracy: 0.9976 - val_loss: 3.6337 - val_emotion_output_loss: 2.3504 - val_sentiment_output_loss: 1.2833 - val_emotion_output_accuracy: 0.5895 - val_sentiment_output_accuracy: 0.7537\n",
            "Epoch 138/200\n",
            "10/10 [==============================] - 0s 45ms/step - loss: 0.0543 - emotion_output_loss: 0.0396 - sentiment_output_loss: 0.0148 - emotion_output_accuracy: 0.9917 - sentiment_output_accuracy: 0.9973 - val_loss: 3.6512 - val_emotion_output_loss: 2.3560 - val_sentiment_output_loss: 1.2952 - val_emotion_output_accuracy: 0.5969 - val_sentiment_output_accuracy: 0.7541\n",
            "Epoch 139/200\n",
            "10/10 [==============================] - 0s 24ms/step - loss: 0.0525 - emotion_output_loss: 0.0385 - sentiment_output_loss: 0.0140 - emotion_output_accuracy: 0.9921 - sentiment_output_accuracy: 0.9979 - val_loss: 3.6668 - val_emotion_output_loss: 2.3653 - val_sentiment_output_loss: 1.3016 - val_emotion_output_accuracy: 0.5971 - val_sentiment_output_accuracy: 0.7523\n",
            "Epoch 140/200\n",
            "10/10 [==============================] - 1s 92ms/step - loss: 0.0520 - emotion_output_loss: 0.0382 - sentiment_output_loss: 0.0138 - emotion_output_accuracy: 0.9922 - sentiment_output_accuracy: 0.9978 - val_loss: 3.6933 - val_emotion_output_loss: 2.3892 - val_sentiment_output_loss: 1.3042 - val_emotion_output_accuracy: 0.5963 - val_sentiment_output_accuracy: 0.7545\n",
            "Epoch 141/200\n",
            "10/10 [==============================] - 0s 45ms/step - loss: 0.0513 - emotion_output_loss: 0.0372 - sentiment_output_loss: 0.0142 - emotion_output_accuracy: 0.9926 - sentiment_output_accuracy: 0.9972 - val_loss: 3.7091 - val_emotion_output_loss: 2.3873 - val_sentiment_output_loss: 1.3218 - val_emotion_output_accuracy: 0.5989 - val_sentiment_output_accuracy: 0.7537\n",
            "Epoch 142/200\n",
            "10/10 [==============================] - 1s 94ms/step - loss: 0.0508 - emotion_output_loss: 0.0367 - sentiment_output_loss: 0.0140 - emotion_output_accuracy: 0.9925 - sentiment_output_accuracy: 0.9972 - val_loss: 3.7288 - val_emotion_output_loss: 2.4109 - val_sentiment_output_loss: 1.3179 - val_emotion_output_accuracy: 0.5963 - val_sentiment_output_accuracy: 0.7545\n",
            "Epoch 143/200\n",
            "10/10 [==============================] - 1s 62ms/step - loss: 0.0499 - emotion_output_loss: 0.0363 - sentiment_output_loss: 0.0135 - emotion_output_accuracy: 0.9928 - sentiment_output_accuracy: 0.9979 - val_loss: 3.7500 - val_emotion_output_loss: 2.4229 - val_sentiment_output_loss: 1.3271 - val_emotion_output_accuracy: 0.5965 - val_sentiment_output_accuracy: 0.7555\n",
            "Epoch 144/200\n",
            "10/10 [==============================] - 2s 169ms/step - loss: 0.0487 - emotion_output_loss: 0.0356 - sentiment_output_loss: 0.0131 - emotion_output_accuracy: 0.9924 - sentiment_output_accuracy: 0.9978 - val_loss: 3.7663 - val_emotion_output_loss: 2.4326 - val_sentiment_output_loss: 1.3337 - val_emotion_output_accuracy: 0.5971 - val_sentiment_output_accuracy: 0.7547\n",
            "Epoch 145/200\n",
            "10/10 [==============================] - 1s 48ms/step - loss: 0.0482 - emotion_output_loss: 0.0349 - sentiment_output_loss: 0.0134 - emotion_output_accuracy: 0.9932 - sentiment_output_accuracy: 0.9977 - val_loss: 3.7828 - val_emotion_output_loss: 2.4444 - val_sentiment_output_loss: 1.3384 - val_emotion_output_accuracy: 0.5945 - val_sentiment_output_accuracy: 0.7521\n",
            "Epoch 146/200\n",
            "10/10 [==============================] - 0s 45ms/step - loss: 0.0462 - emotion_output_loss: 0.0336 - sentiment_output_loss: 0.0126 - emotion_output_accuracy: 0.9934 - sentiment_output_accuracy: 0.9984 - val_loss: 3.8036 - val_emotion_output_loss: 2.4634 - val_sentiment_output_loss: 1.3402 - val_emotion_output_accuracy: 0.5927 - val_sentiment_output_accuracy: 0.7531\n",
            "Epoch 147/200\n",
            "10/10 [==============================] - 0s 45ms/step - loss: 0.0470 - emotion_output_loss: 0.0342 - sentiment_output_loss: 0.0128 - emotion_output_accuracy: 0.9934 - sentiment_output_accuracy: 0.9982 - val_loss: 3.8236 - val_emotion_output_loss: 2.4771 - val_sentiment_output_loss: 1.3465 - val_emotion_output_accuracy: 0.5903 - val_sentiment_output_accuracy: 0.7521\n",
            "Epoch 148/200\n",
            "10/10 [==============================] - 2s 156ms/step - loss: 0.0460 - emotion_output_loss: 0.0338 - sentiment_output_loss: 0.0122 - emotion_output_accuracy: 0.9930 - sentiment_output_accuracy: 0.9982 - val_loss: 3.8439 - val_emotion_output_loss: 2.4912 - val_sentiment_output_loss: 1.3527 - val_emotion_output_accuracy: 0.5929 - val_sentiment_output_accuracy: 0.7525\n",
            "Epoch 149/200\n",
            "10/10 [==============================] - 1s 88ms/step - loss: 0.0443 - emotion_output_loss: 0.0323 - sentiment_output_loss: 0.0120 - emotion_output_accuracy: 0.9940 - sentiment_output_accuracy: 0.9981 - val_loss: 3.8622 - val_emotion_output_loss: 2.5012 - val_sentiment_output_loss: 1.3610 - val_emotion_output_accuracy: 0.5939 - val_sentiment_output_accuracy: 0.7515\n",
            "Epoch 150/200\n",
            "10/10 [==============================] - 1s 45ms/step - loss: 0.0436 - emotion_output_loss: 0.0319 - sentiment_output_loss: 0.0116 - emotion_output_accuracy: 0.9941 - sentiment_output_accuracy: 0.9980 - val_loss: 3.8761 - val_emotion_output_loss: 2.5088 - val_sentiment_output_loss: 1.3673 - val_emotion_output_accuracy: 0.5943 - val_sentiment_output_accuracy: 0.7545\n",
            "Epoch 151/200\n",
            "10/10 [==============================] - 0s 23ms/step - loss: 0.0427 - emotion_output_loss: 0.0310 - sentiment_output_loss: 0.0117 - emotion_output_accuracy: 0.9941 - sentiment_output_accuracy: 0.9982 - val_loss: 3.8887 - val_emotion_output_loss: 2.5172 - val_sentiment_output_loss: 1.3715 - val_emotion_output_accuracy: 0.5955 - val_sentiment_output_accuracy: 0.7521\n",
            "Epoch 152/200\n",
            "10/10 [==============================] - 0s 22ms/step - loss: 0.0423 - emotion_output_loss: 0.0309 - sentiment_output_loss: 0.0114 - emotion_output_accuracy: 0.9942 - sentiment_output_accuracy: 0.9985 - val_loss: 3.9142 - val_emotion_output_loss: 2.5316 - val_sentiment_output_loss: 1.3827 - val_emotion_output_accuracy: 0.5947 - val_sentiment_output_accuracy: 0.7537\n",
            "Epoch 153/200\n",
            "10/10 [==============================] - 0s 44ms/step - loss: 0.0426 - emotion_output_loss: 0.0308 - sentiment_output_loss: 0.0119 - emotion_output_accuracy: 0.9939 - sentiment_output_accuracy: 0.9980 - val_loss: 3.9525 - val_emotion_output_loss: 2.5662 - val_sentiment_output_loss: 1.3862 - val_emotion_output_accuracy: 0.5945 - val_sentiment_output_accuracy: 0.7535\n",
            "Epoch 154/200\n",
            "10/10 [==============================] - 0s 20ms/step - loss: 0.0416 - emotion_output_loss: 0.0299 - sentiment_output_loss: 0.0117 - emotion_output_accuracy: 0.9946 - sentiment_output_accuracy: 0.9981 - val_loss: 3.9477 - val_emotion_output_loss: 2.5529 - val_sentiment_output_loss: 1.3949 - val_emotion_output_accuracy: 0.5977 - val_sentiment_output_accuracy: 0.7499\n",
            "Epoch 155/200\n",
            "10/10 [==============================] - 0s 45ms/step - loss: 0.0414 - emotion_output_loss: 0.0302 - sentiment_output_loss: 0.0112 - emotion_output_accuracy: 0.9943 - sentiment_output_accuracy: 0.9983 - val_loss: 3.9793 - val_emotion_output_loss: 2.5785 - val_sentiment_output_loss: 1.4008 - val_emotion_output_accuracy: 0.5941 - val_sentiment_output_accuracy: 0.7551\n",
            "Epoch 156/200\n",
            "10/10 [==============================] - 1s 67ms/step - loss: 0.0414 - emotion_output_loss: 0.0300 - sentiment_output_loss: 0.0114 - emotion_output_accuracy: 0.9939 - sentiment_output_accuracy: 0.9980 - val_loss: 3.9874 - val_emotion_output_loss: 2.5813 - val_sentiment_output_loss: 1.4061 - val_emotion_output_accuracy: 0.5977 - val_sentiment_output_accuracy: 0.7511\n",
            "Epoch 157/200\n",
            "10/10 [==============================] - 0s 45ms/step - loss: 0.0397 - emotion_output_loss: 0.0284 - sentiment_output_loss: 0.0113 - emotion_output_accuracy: 0.9947 - sentiment_output_accuracy: 0.9979 - val_loss: 3.9984 - val_emotion_output_loss: 2.5945 - val_sentiment_output_loss: 1.4039 - val_emotion_output_accuracy: 0.5937 - val_sentiment_output_accuracy: 0.7535\n",
            "Epoch 158/200\n",
            "10/10 [==============================] - 1s 69ms/step - loss: 0.0392 - emotion_output_loss: 0.0285 - sentiment_output_loss: 0.0107 - emotion_output_accuracy: 0.9945 - sentiment_output_accuracy: 0.9984 - val_loss: 4.0158 - val_emotion_output_loss: 2.6000 - val_sentiment_output_loss: 1.4158 - val_emotion_output_accuracy: 0.5935 - val_sentiment_output_accuracy: 0.7519\n",
            "Epoch 159/200\n",
            "10/10 [==============================] - 0s 47ms/step - loss: 0.0386 - emotion_output_loss: 0.0280 - sentiment_output_loss: 0.0106 - emotion_output_accuracy: 0.9948 - sentiment_output_accuracy: 0.9984 - val_loss: 4.0356 - val_emotion_output_loss: 2.6123 - val_sentiment_output_loss: 1.4233 - val_emotion_output_accuracy: 0.5949 - val_sentiment_output_accuracy: 0.7507\n",
            "Epoch 160/200\n",
            "10/10 [==============================] - 0s 45ms/step - loss: 0.0366 - emotion_output_loss: 0.0271 - sentiment_output_loss: 0.0094 - emotion_output_accuracy: 0.9953 - sentiment_output_accuracy: 0.9986 - val_loss: 4.0500 - val_emotion_output_loss: 2.6232 - val_sentiment_output_loss: 1.4268 - val_emotion_output_accuracy: 0.5971 - val_sentiment_output_accuracy: 0.7509\n",
            "Epoch 161/200\n",
            "10/10 [==============================] - 1s 66ms/step - loss: 0.0368 - emotion_output_loss: 0.0268 - sentiment_output_loss: 0.0100 - emotion_output_accuracy: 0.9947 - sentiment_output_accuracy: 0.9987 - val_loss: 4.0762 - val_emotion_output_loss: 2.6418 - val_sentiment_output_loss: 1.4344 - val_emotion_output_accuracy: 0.5967 - val_sentiment_output_accuracy: 0.7515\n",
            "Epoch 162/200\n",
            "10/10 [==============================] - 1s 75ms/step - loss: 0.0368 - emotion_output_loss: 0.0266 - sentiment_output_loss: 0.0102 - emotion_output_accuracy: 0.9945 - sentiment_output_accuracy: 0.9984 - val_loss: 4.0797 - val_emotion_output_loss: 2.6488 - val_sentiment_output_loss: 1.4309 - val_emotion_output_accuracy: 0.5967 - val_sentiment_output_accuracy: 0.7527\n",
            "Epoch 163/200\n",
            "10/10 [==============================] - 1s 62ms/step - loss: 0.0358 - emotion_output_loss: 0.0264 - sentiment_output_loss: 0.0094 - emotion_output_accuracy: 0.9950 - sentiment_output_accuracy: 0.9985 - val_loss: 4.1034 - val_emotion_output_loss: 2.6537 - val_sentiment_output_loss: 1.4497 - val_emotion_output_accuracy: 0.5951 - val_sentiment_output_accuracy: 0.7491\n",
            "Epoch 164/200\n",
            "10/10 [==============================] - 1s 61ms/step - loss: 0.0354 - emotion_output_loss: 0.0255 - sentiment_output_loss: 0.0099 - emotion_output_accuracy: 0.9951 - sentiment_output_accuracy: 0.9983 - val_loss: 4.1150 - val_emotion_output_loss: 2.6658 - val_sentiment_output_loss: 1.4491 - val_emotion_output_accuracy: 0.5955 - val_sentiment_output_accuracy: 0.7523\n",
            "Epoch 165/200\n",
            "10/10 [==============================] - 1s 27ms/step - loss: 0.0350 - emotion_output_loss: 0.0252 - sentiment_output_loss: 0.0098 - emotion_output_accuracy: 0.9955 - sentiment_output_accuracy: 0.9986 - val_loss: 4.1544 - val_emotion_output_loss: 2.7000 - val_sentiment_output_loss: 1.4544 - val_emotion_output_accuracy: 0.5905 - val_sentiment_output_accuracy: 0.7541\n",
            "Epoch 166/200\n",
            "10/10 [==============================] - 1s 111ms/step - loss: 0.0349 - emotion_output_loss: 0.0252 - sentiment_output_loss: 0.0097 - emotion_output_accuracy: 0.9953 - sentiment_output_accuracy: 0.9987 - val_loss: 4.1723 - val_emotion_output_loss: 2.7044 - val_sentiment_output_loss: 1.4679 - val_emotion_output_accuracy: 0.5933 - val_sentiment_output_accuracy: 0.7503\n",
            "Epoch 167/200\n",
            "10/10 [==============================] - 1s 93ms/step - loss: 0.0345 - emotion_output_loss: 0.0244 - sentiment_output_loss: 0.0101 - emotion_output_accuracy: 0.9959 - sentiment_output_accuracy: 0.9986 - val_loss: 4.1776 - val_emotion_output_loss: 2.7158 - val_sentiment_output_loss: 1.4619 - val_emotion_output_accuracy: 0.5903 - val_sentiment_output_accuracy: 0.7521\n",
            "Epoch 168/200\n",
            "10/10 [==============================] - 0s 44ms/step - loss: 0.0334 - emotion_output_loss: 0.0241 - sentiment_output_loss: 0.0093 - emotion_output_accuracy: 0.9954 - sentiment_output_accuracy: 0.9986 - val_loss: 4.2038 - val_emotion_output_loss: 2.7352 - val_sentiment_output_loss: 1.4686 - val_emotion_output_accuracy: 0.5935 - val_sentiment_output_accuracy: 0.7509\n",
            "Epoch 169/200\n",
            "10/10 [==============================] - 0s 45ms/step - loss: 0.0328 - emotion_output_loss: 0.0240 - sentiment_output_loss: 0.0088 - emotion_output_accuracy: 0.9954 - sentiment_output_accuracy: 0.9987 - val_loss: 4.2038 - val_emotion_output_loss: 2.7275 - val_sentiment_output_loss: 1.4763 - val_emotion_output_accuracy: 0.5937 - val_sentiment_output_accuracy: 0.7507\n",
            "Epoch 170/200\n",
            "10/10 [==============================] - 0s 44ms/step - loss: 0.0329 - emotion_output_loss: 0.0238 - sentiment_output_loss: 0.0091 - emotion_output_accuracy: 0.9958 - sentiment_output_accuracy: 0.9986 - val_loss: 4.2249 - val_emotion_output_loss: 2.7442 - val_sentiment_output_loss: 1.4807 - val_emotion_output_accuracy: 0.5925 - val_sentiment_output_accuracy: 0.7517\n",
            "Epoch 171/200\n",
            "10/10 [==============================] - 0s 24ms/step - loss: 0.0323 - emotion_output_loss: 0.0232 - sentiment_output_loss: 0.0091 - emotion_output_accuracy: 0.9959 - sentiment_output_accuracy: 0.9987 - val_loss: 4.2306 - val_emotion_output_loss: 2.7434 - val_sentiment_output_loss: 1.4872 - val_emotion_output_accuracy: 0.5925 - val_sentiment_output_accuracy: 0.7521\n",
            "Epoch 172/200\n",
            "10/10 [==============================] - 1s 112ms/step - loss: 0.0318 - emotion_output_loss: 0.0232 - sentiment_output_loss: 0.0086 - emotion_output_accuracy: 0.9958 - sentiment_output_accuracy: 0.9988 - val_loss: 4.2636 - val_emotion_output_loss: 2.7663 - val_sentiment_output_loss: 1.4973 - val_emotion_output_accuracy: 0.5949 - val_sentiment_output_accuracy: 0.7525\n",
            "Epoch 173/200\n",
            "10/10 [==============================] - 0s 47ms/step - loss: 0.0312 - emotion_output_loss: 0.0224 - sentiment_output_loss: 0.0088 - emotion_output_accuracy: 0.9959 - sentiment_output_accuracy: 0.9987 - val_loss: 4.3041 - val_emotion_output_loss: 2.7931 - val_sentiment_output_loss: 1.5110 - val_emotion_output_accuracy: 0.5903 - val_sentiment_output_accuracy: 0.7521\n",
            "Epoch 174/200\n",
            "10/10 [==============================] - 1s 69ms/step - loss: 0.0311 - emotion_output_loss: 0.0226 - sentiment_output_loss: 0.0084 - emotion_output_accuracy: 0.9959 - sentiment_output_accuracy: 0.9985 - val_loss: 4.2870 - val_emotion_output_loss: 2.7861 - val_sentiment_output_loss: 1.5009 - val_emotion_output_accuracy: 0.5907 - val_sentiment_output_accuracy: 0.7519\n",
            "Epoch 175/200\n",
            "10/10 [==============================] - 0s 43ms/step - loss: 0.0312 - emotion_output_loss: 0.0229 - sentiment_output_loss: 0.0083 - emotion_output_accuracy: 0.9958 - sentiment_output_accuracy: 0.9989 - val_loss: 4.3043 - val_emotion_output_loss: 2.7937 - val_sentiment_output_loss: 1.5105 - val_emotion_output_accuracy: 0.5925 - val_sentiment_output_accuracy: 0.7515\n",
            "Epoch 176/200\n",
            "10/10 [==============================] - 1s 66ms/step - loss: 0.0305 - emotion_output_loss: 0.0223 - sentiment_output_loss: 0.0081 - emotion_output_accuracy: 0.9958 - sentiment_output_accuracy: 0.9989 - val_loss: 4.3442 - val_emotion_output_loss: 2.8223 - val_sentiment_output_loss: 1.5218 - val_emotion_output_accuracy: 0.5937 - val_sentiment_output_accuracy: 0.7511\n",
            "Epoch 177/200\n",
            "10/10 [==============================] - 0s 45ms/step - loss: 0.0297 - emotion_output_loss: 0.0215 - sentiment_output_loss: 0.0082 - emotion_output_accuracy: 0.9962 - sentiment_output_accuracy: 0.9987 - val_loss: 4.3673 - val_emotion_output_loss: 2.8474 - val_sentiment_output_loss: 1.5199 - val_emotion_output_accuracy: 0.5903 - val_sentiment_output_accuracy: 0.7489\n",
            "Epoch 178/200\n",
            "10/10 [==============================] - 0s 44ms/step - loss: 0.0291 - emotion_output_loss: 0.0209 - sentiment_output_loss: 0.0082 - emotion_output_accuracy: 0.9966 - sentiment_output_accuracy: 0.9989 - val_loss: 4.3653 - val_emotion_output_loss: 2.8341 - val_sentiment_output_loss: 1.5312 - val_emotion_output_accuracy: 0.5923 - val_sentiment_output_accuracy: 0.7483\n",
            "Epoch 179/200\n",
            "10/10 [==============================] - 0s 44ms/step - loss: 0.0293 - emotion_output_loss: 0.0209 - sentiment_output_loss: 0.0084 - emotion_output_accuracy: 0.9961 - sentiment_output_accuracy: 0.9989 - val_loss: 4.3765 - val_emotion_output_loss: 2.8461 - val_sentiment_output_loss: 1.5304 - val_emotion_output_accuracy: 0.5939 - val_sentiment_output_accuracy: 0.7511\n",
            "Epoch 180/200\n",
            "10/10 [==============================] - 0s 22ms/step - loss: 0.0283 - emotion_output_loss: 0.0204 - sentiment_output_loss: 0.0079 - emotion_output_accuracy: 0.9965 - sentiment_output_accuracy: 0.9986 - val_loss: 4.3926 - val_emotion_output_loss: 2.8573 - val_sentiment_output_loss: 1.5353 - val_emotion_output_accuracy: 0.5885 - val_sentiment_output_accuracy: 0.7513\n",
            "Epoch 181/200\n",
            "10/10 [==============================] - 0s 21ms/step - loss: 0.0281 - emotion_output_loss: 0.0200 - sentiment_output_loss: 0.0081 - emotion_output_accuracy: 0.9968 - sentiment_output_accuracy: 0.9987 - val_loss: 4.4146 - val_emotion_output_loss: 2.8752 - val_sentiment_output_loss: 1.5394 - val_emotion_output_accuracy: 0.5903 - val_sentiment_output_accuracy: 0.7497\n",
            "Epoch 182/200\n",
            "10/10 [==============================] - 0s 45ms/step - loss: 0.0275 - emotion_output_loss: 0.0201 - sentiment_output_loss: 0.0074 - emotion_output_accuracy: 0.9965 - sentiment_output_accuracy: 0.9990 - val_loss: 4.4285 - val_emotion_output_loss: 2.8819 - val_sentiment_output_loss: 1.5466 - val_emotion_output_accuracy: 0.5911 - val_sentiment_output_accuracy: 0.7521\n",
            "Epoch 183/200\n",
            "10/10 [==============================] - 0s 46ms/step - loss: 0.0265 - emotion_output_loss: 0.0190 - sentiment_output_loss: 0.0075 - emotion_output_accuracy: 0.9971 - sentiment_output_accuracy: 0.9990 - val_loss: 4.4338 - val_emotion_output_loss: 2.8770 - val_sentiment_output_loss: 1.5568 - val_emotion_output_accuracy: 0.5935 - val_sentiment_output_accuracy: 0.7483\n",
            "Epoch 184/200\n",
            "10/10 [==============================] - 0s 22ms/step - loss: 0.0268 - emotion_output_loss: 0.0189 - sentiment_output_loss: 0.0079 - emotion_output_accuracy: 0.9968 - sentiment_output_accuracy: 0.9990 - val_loss: 4.4498 - val_emotion_output_loss: 2.8900 - val_sentiment_output_loss: 1.5597 - val_emotion_output_accuracy: 0.5935 - val_sentiment_output_accuracy: 0.7489\n",
            "Epoch 185/200\n",
            "10/10 [==============================] - 0s 21ms/step - loss: 0.0272 - emotion_output_loss: 0.0200 - sentiment_output_loss: 0.0072 - emotion_output_accuracy: 0.9962 - sentiment_output_accuracy: 0.9990 - val_loss: 4.4621 - val_emotion_output_loss: 2.9049 - val_sentiment_output_loss: 1.5573 - val_emotion_output_accuracy: 0.5907 - val_sentiment_output_accuracy: 0.7507\n",
            "Epoch 186/200\n",
            "10/10 [==============================] - 1s 69ms/step - loss: 0.0267 - emotion_output_loss: 0.0192 - sentiment_output_loss: 0.0074 - emotion_output_accuracy: 0.9966 - sentiment_output_accuracy: 0.9989 - val_loss: 4.4936 - val_emotion_output_loss: 2.9246 - val_sentiment_output_loss: 1.5690 - val_emotion_output_accuracy: 0.5915 - val_sentiment_output_accuracy: 0.7487\n",
            "Epoch 187/200\n",
            "10/10 [==============================] - 1s 90ms/step - loss: 0.0261 - emotion_output_loss: 0.0187 - sentiment_output_loss: 0.0074 - emotion_output_accuracy: 0.9967 - sentiment_output_accuracy: 0.9989 - val_loss: 4.5150 - val_emotion_output_loss: 2.9439 - val_sentiment_output_loss: 1.5711 - val_emotion_output_accuracy: 0.5919 - val_sentiment_output_accuracy: 0.7501\n",
            "Epoch 188/200\n",
            "10/10 [==============================] - 0s 25ms/step - loss: 0.0255 - emotion_output_loss: 0.0182 - sentiment_output_loss: 0.0073 - emotion_output_accuracy: 0.9969 - sentiment_output_accuracy: 0.9987 - val_loss: 4.5331 - val_emotion_output_loss: 2.9508 - val_sentiment_output_loss: 1.5823 - val_emotion_output_accuracy: 0.5931 - val_sentiment_output_accuracy: 0.7467\n",
            "Epoch 189/200\n",
            "10/10 [==============================] - 1s 101ms/step - loss: 0.0250 - emotion_output_loss: 0.0179 - sentiment_output_loss: 0.0071 - emotion_output_accuracy: 0.9970 - sentiment_output_accuracy: 0.9988 - val_loss: 4.5462 - val_emotion_output_loss: 2.9643 - val_sentiment_output_loss: 1.5818 - val_emotion_output_accuracy: 0.5885 - val_sentiment_output_accuracy: 0.7503\n",
            "Epoch 190/200\n",
            "10/10 [==============================] - 1s 59ms/step - loss: 0.0252 - emotion_output_loss: 0.0180 - sentiment_output_loss: 0.0072 - emotion_output_accuracy: 0.9968 - sentiment_output_accuracy: 0.9987 - val_loss: 4.5539 - val_emotion_output_loss: 2.9667 - val_sentiment_output_loss: 1.5872 - val_emotion_output_accuracy: 0.5867 - val_sentiment_output_accuracy: 0.7495\n",
            "Epoch 191/200\n",
            "10/10 [==============================] - 1s 72ms/step - loss: 0.0251 - emotion_output_loss: 0.0174 - sentiment_output_loss: 0.0076 - emotion_output_accuracy: 0.9969 - sentiment_output_accuracy: 0.9988 - val_loss: 4.5690 - val_emotion_output_loss: 2.9711 - val_sentiment_output_loss: 1.5979 - val_emotion_output_accuracy: 0.5899 - val_sentiment_output_accuracy: 0.7473\n",
            "Epoch 192/200\n",
            "10/10 [==============================] - 0s 47ms/step - loss: 0.0246 - emotion_output_loss: 0.0175 - sentiment_output_loss: 0.0070 - emotion_output_accuracy: 0.9970 - sentiment_output_accuracy: 0.9988 - val_loss: 4.5948 - val_emotion_output_loss: 2.9929 - val_sentiment_output_loss: 1.6020 - val_emotion_output_accuracy: 0.5923 - val_sentiment_output_accuracy: 0.7475\n",
            "Epoch 193/200\n",
            "10/10 [==============================] - 1s 91ms/step - loss: 0.0245 - emotion_output_loss: 0.0177 - sentiment_output_loss: 0.0068 - emotion_output_accuracy: 0.9968 - sentiment_output_accuracy: 0.9991 - val_loss: 4.5919 - val_emotion_output_loss: 2.9867 - val_sentiment_output_loss: 1.6053 - val_emotion_output_accuracy: 0.5925 - val_sentiment_output_accuracy: 0.7503\n",
            "Epoch 194/200\n",
            "10/10 [==============================] - 0s 47ms/step - loss: 0.0251 - emotion_output_loss: 0.0180 - sentiment_output_loss: 0.0070 - emotion_output_accuracy: 0.9968 - sentiment_output_accuracy: 0.9991 - val_loss: 4.6063 - val_emotion_output_loss: 2.9906 - val_sentiment_output_loss: 1.6157 - val_emotion_output_accuracy: 0.5931 - val_sentiment_output_accuracy: 0.7485\n",
            "Epoch 195/200\n",
            "10/10 [==============================] - 0s 45ms/step - loss: 0.0237 - emotion_output_loss: 0.0169 - sentiment_output_loss: 0.0068 - emotion_output_accuracy: 0.9971 - sentiment_output_accuracy: 0.9988 - val_loss: 4.6509 - val_emotion_output_loss: 3.0205 - val_sentiment_output_loss: 1.6304 - val_emotion_output_accuracy: 0.5935 - val_sentiment_output_accuracy: 0.7479\n",
            "Epoch 196/200\n",
            "10/10 [==============================] - 0s 21ms/step - loss: 0.0242 - emotion_output_loss: 0.0172 - sentiment_output_loss: 0.0070 - emotion_output_accuracy: 0.9969 - sentiment_output_accuracy: 0.9989 - val_loss: 4.6726 - val_emotion_output_loss: 3.0311 - val_sentiment_output_loss: 1.6415 - val_emotion_output_accuracy: 0.5911 - val_sentiment_output_accuracy: 0.7491\n",
            "Epoch 197/200\n",
            "10/10 [==============================] - 0s 46ms/step - loss: 0.0233 - emotion_output_loss: 0.0166 - sentiment_output_loss: 0.0067 - emotion_output_accuracy: 0.9972 - sentiment_output_accuracy: 0.9991 - val_loss: 4.6647 - val_emotion_output_loss: 3.0356 - val_sentiment_output_loss: 1.6290 - val_emotion_output_accuracy: 0.5891 - val_sentiment_output_accuracy: 0.7501\n",
            "Epoch 198/200\n",
            "10/10 [==============================] - 1s 68ms/step - loss: 0.0228 - emotion_output_loss: 0.0165 - sentiment_output_loss: 0.0062 - emotion_output_accuracy: 0.9969 - sentiment_output_accuracy: 0.9991 - val_loss: 4.6708 - val_emotion_output_loss: 3.0438 - val_sentiment_output_loss: 1.6270 - val_emotion_output_accuracy: 0.5899 - val_sentiment_output_accuracy: 0.7501\n",
            "Epoch 199/200\n",
            "10/10 [==============================] - 1s 67ms/step - loss: 0.0227 - emotion_output_loss: 0.0163 - sentiment_output_loss: 0.0064 - emotion_output_accuracy: 0.9974 - sentiment_output_accuracy: 0.9992 - val_loss: 4.6824 - val_emotion_output_loss: 3.0478 - val_sentiment_output_loss: 1.6346 - val_emotion_output_accuracy: 0.5925 - val_sentiment_output_accuracy: 0.7481\n",
            "Epoch 200/200\n",
            "10/10 [==============================] - 1s 68ms/step - loss: 0.0224 - emotion_output_loss: 0.0158 - sentiment_output_loss: 0.0066 - emotion_output_accuracy: 0.9974 - sentiment_output_accuracy: 0.9990 - val_loss: 4.7057 - val_emotion_output_loss: 3.0604 - val_sentiment_output_loss: 1.6452 - val_emotion_output_accuracy: 0.5891 - val_sentiment_output_accuracy: 0.7479\n"
          ]
        }
      ]
    },
    {
      "cell_type": "markdown",
      "source": [
        "#### Testing"
      ],
      "metadata": {
        "id": "Ea-hLCZ812Xf"
      }
    },
    {
      "cell_type": "code",
      "source": [
        "X_test = padded_sequences\n",
        "y_emotion_test = emotion_labels\n",
        "y_sentiment_test = sentiment_labels"
      ],
      "metadata": {
        "id": "Q6owHt980tlw"
      },
      "execution_count": null,
      "outputs": []
    },
    {
      "cell_type": "code",
      "source": [
        "emotion_predictions, sentiment_predictions = model.predict(X_test)"
      ],
      "metadata": {
        "colab": {
          "base_uri": "https://localhost:8080/"
        },
        "id": "6pRjT3hf2Anx",
        "outputId": "bb19e8f6-f5a9-456d-94c1-9ed645fb166a"
      },
      "execution_count": null,
      "outputs": [
        {
          "output_type": "stream",
          "name": "stdout",
          "text": [
            "781/781 [==============================] - 2s 2ms/step\n"
          ]
        }
      ]
    },
    {
      "cell_type": "code",
      "source": [
        "emotion_predictions_labels = emotion_predictions.argmax(axis=1)\n",
        "emotion_accuracy = (emotion_predictions_labels == y_emotion_test).mean()\n",
        "\n",
        "sentiment_predictions_labels = sentiment_predictions.argmax(axis=1)\n",
        "sentiment_accuracy = (sentiment_predictions_labels == y_sentiment_test).mean()"
      ],
      "metadata": {
        "id": "ctNLF83-2QHU"
      },
      "execution_count": null,
      "outputs": []
    },
    {
      "cell_type": "code",
      "source": [
        "print(f'Emotion Accuracy: {emotion_accuracy:.4f}')\n",
        "print(f'Sentiment Accuracy: {sentiment_accuracy:.4f}')"
      ],
      "metadata": {
        "colab": {
          "base_uri": "https://localhost:8080/"
        },
        "id": "bAI1hQoB2Sb_",
        "outputId": "db031e61-9a99-4463-f4d8-fefbe90ee8c8"
      },
      "execution_count": null,
      "outputs": [
        {
          "output_type": "stream",
          "name": "stdout",
          "text": [
            "Emotion Accuracy: 0.9163\n",
            "Sentiment Accuracy: 0.9491\n"
          ]
        }
      ]
    },
    {
      "cell_type": "markdown",
      "source": [
        "### Building the model 2"
      ],
      "metadata": {
        "id": "q7VLWdwC2nWI"
      }
    },
    {
      "cell_type": "code",
      "source": [
        "input_layer = tf.keras.layers.Input(shape=max_sequence_length)\n",
        "\n",
        "embedding_layer = tf.keras.layers.Embedding(vocab_size, 100)(input_layer)\n",
        "dropout_layer = tf.keras.layers.Dropout(0.2)(embedding_layer)\n",
        "\n",
        "lstm_layer = tf.keras.layers.LSTM(512)(dropout_layer)\n",
        "\n",
        "reshape_layer = tf.keras.layers.Reshape((-1, 512))(lstm_layer)\n",
        "\n",
        "average_pooling_1d_layer = tf.keras.layers.GlobalAveragePooling1D()(reshape_layer)\n",
        "\n",
        "dense_layer_1 = tf.keras.layers.Dense(2048,activation='relu')(average_pooling_1d_layer)\n",
        "dense_layer_2 = tf.keras.layers.Dense(2048,activation='relu')(dense_layer_1)\n",
        "dense_layer_3 = tf.keras.layers.Dense(2048,activation='relu')(dense_layer_2)\n",
        "dense_layer_4 = tf.keras.layers.Dense(1024,activation='relu')(dense_layer_3)\n",
        "\n",
        "emotion_output_layer = tf.keras.layers.Dense(8, activation='softmax', name='emotion_output')(dense_layer_4)\n",
        "sentiment_output_layer = tf.keras.layers.Dense(3, activation='softmax', name='sentiment_output')(dense_layer_4)\n",
        "\n",
        "model = tf.keras.Model(inputs=input_layer, outputs=[emotion_output_layer, sentiment_output_layer])"
      ],
      "metadata": {
        "id": "V9fMIkxY2o8s"
      },
      "execution_count": null,
      "outputs": []
    },
    {
      "cell_type": "code",
      "source": [
        "model.summary()"
      ],
      "metadata": {
        "colab": {
          "base_uri": "https://localhost:8080/"
        },
        "id": "_ul4uBfE2y7d",
        "outputId": "9fa8e784-ca2d-44eb-d8b0-d2c632b270ed"
      },
      "execution_count": null,
      "outputs": [
        {
          "output_type": "stream",
          "name": "stdout",
          "text": [
            "Model: \"model\"\n",
            "__________________________________________________________________________________________________\n",
            " Layer (type)                   Output Shape         Param #     Connected to                     \n",
            "==================================================================================================\n",
            " input_1 (InputLayer)           [(None, 128)]        0           []                               \n",
            "                                                                                                  \n",
            " embedding (Embedding)          (None, 128, 100)     4845400     ['input_1[0][0]']                \n",
            "                                                                                                  \n",
            " dropout (Dropout)              (None, 128, 100)     0           ['embedding[0][0]']              \n",
            "                                                                                                  \n",
            " lstm (LSTM)                    (None, 512)          1255424     ['dropout[0][0]']                \n",
            "                                                                                                  \n",
            " reshape (Reshape)              (None, 1, 512)       0           ['lstm[0][0]']                   \n",
            "                                                                                                  \n",
            " global_average_pooling1d (Glob  (None, 512)         0           ['reshape[0][0]']                \n",
            " alAveragePooling1D)                                                                              \n",
            "                                                                                                  \n",
            " dense (Dense)                  (None, 2048)         1050624     ['global_average_pooling1d[0][0]'\n",
            "                                                                 ]                                \n",
            "                                                                                                  \n",
            " dense_1 (Dense)                (None, 2048)         4196352     ['dense[0][0]']                  \n",
            "                                                                                                  \n",
            " dense_2 (Dense)                (None, 2048)         4196352     ['dense_1[0][0]']                \n",
            "                                                                                                  \n",
            " dense_3 (Dense)                (None, 1024)         2098176     ['dense_2[0][0]']                \n",
            "                                                                                                  \n",
            " emotion_output (Dense)         (None, 8)            8200        ['dense_3[0][0]']                \n",
            "                                                                                                  \n",
            " sentiment_output (Dense)       (None, 3)            3075        ['dense_3[0][0]']                \n",
            "                                                                                                  \n",
            "==================================================================================================\n",
            "Total params: 17,653,603\n",
            "Trainable params: 17,653,603\n",
            "Non-trainable params: 0\n",
            "__________________________________________________________________________________________________\n"
          ]
        }
      ]
    },
    {
      "cell_type": "code",
      "source": [
        "losses = {\n",
        "    'emotion_output': 'sparse_categorical_crossentropy',\n",
        "    'sentiment_output': 'sparse_categorical_crossentropy'\n",
        "}\n",
        "loss_weights = {\n",
        "    'emotion_output': 1.0,\n",
        "    'sentiment_output': 1.0\n",
        "}"
      ],
      "metadata": {
        "id": "Y7hyNWd72z4q"
      },
      "execution_count": null,
      "outputs": []
    },
    {
      "cell_type": "code",
      "source": [
        "model.compile(optimizer='adam', loss=losses, loss_weights=loss_weights, metrics=['accuracy'])"
      ],
      "metadata": {
        "id": "uhyvfrR42105"
      },
      "execution_count": null,
      "outputs": []
    },
    {
      "cell_type": "code",
      "source": [
        "history = model.fit(padded_sequences, {'emotion_output': emotion_labels, 'sentiment_output': sentiment_labels},\n",
        "                    epochs=100, batch_size=2048, validation_split=0.2)"
      ],
      "metadata": {
        "colab": {
          "base_uri": "https://localhost:8080/"
        },
        "id": "jBXtJ4Ht22jW",
        "outputId": "f96ac630-3586-45c4-c9b0-f518239aebbf"
      },
      "execution_count": null,
      "outputs": [
        {
          "output_type": "stream",
          "name": "stdout",
          "text": [
            "Epoch 1/100\n",
            "10/10 [==============================] - 14s 797ms/step - loss: 3.0567 - emotion_output_loss: 1.9108 - sentiment_output_loss: 1.1460 - emotion_output_accuracy: 0.2146 - sentiment_output_accuracy: 0.3417 - val_loss: 2.8135 - val_emotion_output_loss: 1.6930 - val_sentiment_output_loss: 1.1205 - val_emotion_output_accuracy: 0.3548 - val_sentiment_output_accuracy: 0.2589\n",
            "Epoch 2/100\n",
            "10/10 [==============================] - 8s 815ms/step - loss: 2.6621 - emotion_output_loss: 1.6388 - sentiment_output_loss: 1.0234 - emotion_output_accuracy: 0.3578 - sentiment_output_accuracy: 0.4840 - val_loss: 2.3110 - val_emotion_output_loss: 1.4494 - val_sentiment_output_loss: 0.8616 - val_emotion_output_accuracy: 0.4732 - val_sentiment_output_accuracy: 0.6043\n",
            "Epoch 3/100\n",
            "10/10 [==============================] - 8s 765ms/step - loss: 2.2077 - emotion_output_loss: 1.3926 - sentiment_output_loss: 0.8151 - emotion_output_accuracy: 0.4729 - sentiment_output_accuracy: 0.6091 - val_loss: 2.0801 - val_emotion_output_loss: 1.3341 - val_sentiment_output_loss: 0.7460 - val_emotion_output_accuracy: 0.5156 - val_sentiment_output_accuracy: 0.6566\n",
            "Epoch 4/100\n",
            "10/10 [==============================] - 9s 856ms/step - loss: 1.8938 - emotion_output_loss: 1.2062 - sentiment_output_loss: 0.6876 - emotion_output_accuracy: 0.5264 - sentiment_output_accuracy: 0.6607 - val_loss: 1.9403 - val_emotion_output_loss: 1.2443 - val_sentiment_output_loss: 0.6960 - val_emotion_output_accuracy: 0.5374 - val_sentiment_output_accuracy: 0.6880\n",
            "Epoch 5/100\n",
            "10/10 [==============================] - 8s 837ms/step - loss: 1.6449 - emotion_output_loss: 1.0733 - sentiment_output_loss: 0.5716 - emotion_output_accuracy: 0.5712 - sentiment_output_accuracy: 0.7428 - val_loss: 1.9161 - val_emotion_output_loss: 1.2209 - val_sentiment_output_loss: 0.6952 - val_emotion_output_accuracy: 0.5481 - val_sentiment_output_accuracy: 0.6972\n",
            "Epoch 6/100\n",
            "10/10 [==============================] - 8s 825ms/step - loss: 1.4247 - emotion_output_loss: 0.9530 - sentiment_output_loss: 0.4717 - emotion_output_accuracy: 0.6329 - sentiment_output_accuracy: 0.7988 - val_loss: 2.0259 - val_emotion_output_loss: 1.2950 - val_sentiment_output_loss: 0.7309 - val_emotion_output_accuracy: 0.5286 - val_sentiment_output_accuracy: 0.6772\n",
            "Epoch 7/100\n",
            "10/10 [==============================] - 8s 805ms/step - loss: 1.2648 - emotion_output_loss: 0.8649 - sentiment_output_loss: 0.3999 - emotion_output_accuracy: 0.6653 - sentiment_output_accuracy: 0.8326 - val_loss: 2.0332 - val_emotion_output_loss: 1.3015 - val_sentiment_output_loss: 0.7317 - val_emotion_output_accuracy: 0.5435 - val_sentiment_output_accuracy: 0.6972\n",
            "Epoch 8/100\n",
            "10/10 [==============================] - 9s 867ms/step - loss: 1.3011 - emotion_output_loss: 0.8751 - sentiment_output_loss: 0.4260 - emotion_output_accuracy: 0.6694 - sentiment_output_accuracy: 0.8190 - val_loss: 2.1805 - val_emotion_output_loss: 1.4023 - val_sentiment_output_loss: 0.7782 - val_emotion_output_accuracy: 0.5427 - val_sentiment_output_accuracy: 0.6892\n",
            "Epoch 9/100\n",
            "10/10 [==============================] - 8s 803ms/step - loss: 1.2856 - emotion_output_loss: 0.8647 - sentiment_output_loss: 0.4209 - emotion_output_accuracy: 0.6710 - sentiment_output_accuracy: 0.8273 - val_loss: 2.0736 - val_emotion_output_loss: 1.3153 - val_sentiment_output_loss: 0.7583 - val_emotion_output_accuracy: 0.5617 - val_sentiment_output_accuracy: 0.7099\n",
            "Epoch 10/100\n",
            "10/10 [==============================] - 8s 805ms/step - loss: 1.0886 - emotion_output_loss: 0.7318 - sentiment_output_loss: 0.3569 - emotion_output_accuracy: 0.7106 - sentiment_output_accuracy: 0.8517 - val_loss: 2.2046 - val_emotion_output_loss: 1.3917 - val_sentiment_output_loss: 0.8129 - val_emotion_output_accuracy: 0.5322 - val_sentiment_output_accuracy: 0.6954\n",
            "Epoch 11/100\n",
            "10/10 [==============================] - 8s 849ms/step - loss: 0.9565 - emotion_output_loss: 0.6468 - sentiment_output_loss: 0.3097 - emotion_output_accuracy: 0.7357 - sentiment_output_accuracy: 0.8682 - val_loss: 2.2606 - val_emotion_output_loss: 1.4458 - val_sentiment_output_loss: 0.8149 - val_emotion_output_accuracy: 0.5348 - val_sentiment_output_accuracy: 0.7215\n",
            "Epoch 12/100\n",
            "10/10 [==============================] - 8s 783ms/step - loss: 0.8623 - emotion_output_loss: 0.5787 - sentiment_output_loss: 0.2836 - emotion_output_accuracy: 0.7567 - sentiment_output_accuracy: 0.8733 - val_loss: 2.4165 - val_emotion_output_loss: 1.5520 - val_sentiment_output_loss: 0.8645 - val_emotion_output_accuracy: 0.5366 - val_sentiment_output_accuracy: 0.7319\n",
            "Epoch 13/100\n",
            "10/10 [==============================] - 8s 763ms/step - loss: 0.7720 - emotion_output_loss: 0.5155 - sentiment_output_loss: 0.2566 - emotion_output_accuracy: 0.7887 - sentiment_output_accuracy: 0.8843 - val_loss: 2.6171 - val_emotion_output_loss: 1.6682 - val_sentiment_output_loss: 0.9489 - val_emotion_output_accuracy: 0.5176 - val_sentiment_output_accuracy: 0.7157\n",
            "Epoch 14/100\n",
            "10/10 [==============================] - 8s 803ms/step - loss: 0.6705 - emotion_output_loss: 0.4458 - sentiment_output_loss: 0.2247 - emotion_output_accuracy: 0.8290 - sentiment_output_accuracy: 0.9074 - val_loss: 2.7991 - val_emotion_output_loss: 1.7819 - val_sentiment_output_loss: 1.0172 - val_emotion_output_accuracy: 0.5186 - val_sentiment_output_accuracy: 0.7002\n",
            "Epoch 15/100\n",
            "10/10 [==============================] - 8s 789ms/step - loss: 0.5845 - emotion_output_loss: 0.3938 - sentiment_output_loss: 0.1907 - emotion_output_accuracy: 0.8530 - sentiment_output_accuracy: 0.9188 - val_loss: 3.1232 - val_emotion_output_loss: 1.9839 - val_sentiment_output_loss: 1.1393 - val_emotion_output_accuracy: 0.5064 - val_sentiment_output_accuracy: 0.7085\n",
            "Epoch 16/100\n",
            "10/10 [==============================] - 8s 801ms/step - loss: 0.5183 - emotion_output_loss: 0.3530 - sentiment_output_loss: 0.1653 - emotion_output_accuracy: 0.8664 - sentiment_output_accuracy: 0.9329 - val_loss: 3.3272 - val_emotion_output_loss: 2.0873 - val_sentiment_output_loss: 1.2399 - val_emotion_output_accuracy: 0.5040 - val_sentiment_output_accuracy: 0.6810\n",
            "Epoch 17/100\n",
            "10/10 [==============================] - 8s 823ms/step - loss: 0.4671 - emotion_output_loss: 0.3212 - sentiment_output_loss: 0.1459 - emotion_output_accuracy: 0.8794 - sentiment_output_accuracy: 0.9405 - val_loss: 3.2010 - val_emotion_output_loss: 2.0461 - val_sentiment_output_loss: 1.1550 - val_emotion_output_accuracy: 0.4982 - val_sentiment_output_accuracy: 0.6968\n",
            "Epoch 18/100\n",
            "10/10 [==============================] - 8s 822ms/step - loss: 0.4188 - emotion_output_loss: 0.2850 - sentiment_output_loss: 0.1337 - emotion_output_accuracy: 0.8949 - sentiment_output_accuracy: 0.9467 - val_loss: 3.6145 - val_emotion_output_loss: 2.2947 - val_sentiment_output_loss: 1.3198 - val_emotion_output_accuracy: 0.5064 - val_sentiment_output_accuracy: 0.7070\n",
            "Epoch 19/100\n",
            "10/10 [==============================] - 9s 913ms/step - loss: 0.3768 - emotion_output_loss: 0.2593 - sentiment_output_loss: 0.1175 - emotion_output_accuracy: 0.9039 - sentiment_output_accuracy: 0.9517 - val_loss: 3.7565 - val_emotion_output_loss: 2.3708 - val_sentiment_output_loss: 1.3857 - val_emotion_output_accuracy: 0.4844 - val_sentiment_output_accuracy: 0.6980\n",
            "Epoch 20/100\n",
            "10/10 [==============================] - 8s 865ms/step - loss: 0.3338 - emotion_output_loss: 0.2316 - sentiment_output_loss: 0.1022 - emotion_output_accuracy: 0.9162 - sentiment_output_accuracy: 0.9605 - val_loss: 3.8619 - val_emotion_output_loss: 2.3475 - val_sentiment_output_loss: 1.5144 - val_emotion_output_accuracy: 0.4906 - val_sentiment_output_accuracy: 0.6924\n",
            "Epoch 21/100\n",
            "10/10 [==============================] - 8s 810ms/step - loss: 0.2907 - emotion_output_loss: 0.1974 - sentiment_output_loss: 0.0933 - emotion_output_accuracy: 0.9306 - sentiment_output_accuracy: 0.9632 - val_loss: 4.0346 - val_emotion_output_loss: 2.5559 - val_sentiment_output_loss: 1.4787 - val_emotion_output_accuracy: 0.5080 - val_sentiment_output_accuracy: 0.7038\n",
            "Epoch 22/100\n",
            "10/10 [==============================] - 8s 826ms/step - loss: 0.2547 - emotion_output_loss: 0.1754 - sentiment_output_loss: 0.0793 - emotion_output_accuracy: 0.9393 - sentiment_output_accuracy: 0.9680 - val_loss: 4.3375 - val_emotion_output_loss: 2.7750 - val_sentiment_output_loss: 1.5625 - val_emotion_output_accuracy: 0.5234 - val_sentiment_output_accuracy: 0.7072\n",
            "Epoch 23/100\n",
            "10/10 [==============================] - 9s 874ms/step - loss: 0.2237 - emotion_output_loss: 0.1511 - sentiment_output_loss: 0.0726 - emotion_output_accuracy: 0.9459 - sentiment_output_accuracy: 0.9718 - val_loss: 4.4600 - val_emotion_output_loss: 2.7673 - val_sentiment_output_loss: 1.6927 - val_emotion_output_accuracy: 0.5188 - val_sentiment_output_accuracy: 0.6960\n",
            "Epoch 24/100\n",
            "10/10 [==============================] - 8s 842ms/step - loss: 0.2118 - emotion_output_loss: 0.1434 - sentiment_output_loss: 0.0683 - emotion_output_accuracy: 0.9483 - sentiment_output_accuracy: 0.9730 - val_loss: 4.8601 - val_emotion_output_loss: 3.0178 - val_sentiment_output_loss: 1.8422 - val_emotion_output_accuracy: 0.5194 - val_sentiment_output_accuracy: 0.6886\n",
            "Epoch 25/100\n",
            "10/10 [==============================] - 8s 787ms/step - loss: 0.2027 - emotion_output_loss: 0.1392 - sentiment_output_loss: 0.0635 - emotion_output_accuracy: 0.9518 - sentiment_output_accuracy: 0.9770 - val_loss: 4.5631 - val_emotion_output_loss: 2.8927 - val_sentiment_output_loss: 1.6704 - val_emotion_output_accuracy: 0.5236 - val_sentiment_output_accuracy: 0.7070\n",
            "Epoch 26/100\n",
            "10/10 [==============================] - 8s 846ms/step - loss: 0.2224 - emotion_output_loss: 0.1471 - sentiment_output_loss: 0.0754 - emotion_output_accuracy: 0.9495 - sentiment_output_accuracy: 0.9710 - val_loss: 4.5163 - val_emotion_output_loss: 2.8279 - val_sentiment_output_loss: 1.6883 - val_emotion_output_accuracy: 0.5040 - val_sentiment_output_accuracy: 0.7066\n",
            "Epoch 27/100\n",
            "10/10 [==============================] - 8s 787ms/step - loss: 0.1829 - emotion_output_loss: 0.1159 - sentiment_output_loss: 0.0670 - emotion_output_accuracy: 0.9596 - sentiment_output_accuracy: 0.9755 - val_loss: 4.5274 - val_emotion_output_loss: 2.8220 - val_sentiment_output_loss: 1.7054 - val_emotion_output_accuracy: 0.4902 - val_sentiment_output_accuracy: 0.6952\n",
            "Epoch 28/100\n",
            "10/10 [==============================] - 8s 780ms/step - loss: 0.1479 - emotion_output_loss: 0.0972 - sentiment_output_loss: 0.0507 - emotion_output_accuracy: 0.9669 - sentiment_output_accuracy: 0.9811 - val_loss: 4.6502 - val_emotion_output_loss: 2.9427 - val_sentiment_output_loss: 1.7075 - val_emotion_output_accuracy: 0.5264 - val_sentiment_output_accuracy: 0.7074\n",
            "Epoch 29/100\n",
            "10/10 [==============================] - 8s 821ms/step - loss: 0.1265 - emotion_output_loss: 0.0829 - sentiment_output_loss: 0.0437 - emotion_output_accuracy: 0.9713 - sentiment_output_accuracy: 0.9839 - val_loss: 5.0025 - val_emotion_output_loss: 3.1578 - val_sentiment_output_loss: 1.8448 - val_emotion_output_accuracy: 0.5108 - val_sentiment_output_accuracy: 0.7103\n",
            "Epoch 30/100\n",
            "10/10 [==============================] - 8s 792ms/step - loss: 0.1051 - emotion_output_loss: 0.0683 - sentiment_output_loss: 0.0368 - emotion_output_accuracy: 0.9765 - sentiment_output_accuracy: 0.9861 - val_loss: 5.3006 - val_emotion_output_loss: 3.2351 - val_sentiment_output_loss: 2.0654 - val_emotion_output_accuracy: 0.5022 - val_sentiment_output_accuracy: 0.6938\n",
            "Epoch 31/100\n",
            "10/10 [==============================] - 8s 788ms/step - loss: 0.0931 - emotion_output_loss: 0.0626 - sentiment_output_loss: 0.0305 - emotion_output_accuracy: 0.9785 - sentiment_output_accuracy: 0.9885 - val_loss: 5.4163 - val_emotion_output_loss: 3.4068 - val_sentiment_output_loss: 2.0094 - val_emotion_output_accuracy: 0.5100 - val_sentiment_output_accuracy: 0.7030\n",
            "Epoch 32/100\n",
            "10/10 [==============================] - 8s 816ms/step - loss: 0.0845 - emotion_output_loss: 0.0558 - sentiment_output_loss: 0.0288 - emotion_output_accuracy: 0.9813 - sentiment_output_accuracy: 0.9906 - val_loss: 5.6887 - val_emotion_output_loss: 3.5566 - val_sentiment_output_loss: 2.1321 - val_emotion_output_accuracy: 0.5114 - val_sentiment_output_accuracy: 0.7080\n",
            "Epoch 33/100\n",
            "10/10 [==============================] - 8s 787ms/step - loss: 0.0721 - emotion_output_loss: 0.0481 - sentiment_output_loss: 0.0239 - emotion_output_accuracy: 0.9835 - sentiment_output_accuracy: 0.9917 - val_loss: 5.8838 - val_emotion_output_loss: 3.7427 - val_sentiment_output_loss: 2.1411 - val_emotion_output_accuracy: 0.5088 - val_sentiment_output_accuracy: 0.7093\n",
            "Epoch 34/100\n",
            "10/10 [==============================] - 8s 813ms/step - loss: 0.0726 - emotion_output_loss: 0.0491 - sentiment_output_loss: 0.0235 - emotion_output_accuracy: 0.9837 - sentiment_output_accuracy: 0.9915 - val_loss: 6.2615 - val_emotion_output_loss: 3.8542 - val_sentiment_output_loss: 2.4073 - val_emotion_output_accuracy: 0.5200 - val_sentiment_output_accuracy: 0.6978\n",
            "Epoch 35/100\n",
            "10/10 [==============================] - 8s 824ms/step - loss: 0.0681 - emotion_output_loss: 0.0454 - sentiment_output_loss: 0.0226 - emotion_output_accuracy: 0.9841 - sentiment_output_accuracy: 0.9916 - val_loss: 6.0820 - val_emotion_output_loss: 3.7021 - val_sentiment_output_loss: 2.3798 - val_emotion_output_accuracy: 0.5058 - val_sentiment_output_accuracy: 0.7002\n",
            "Epoch 36/100\n",
            "10/10 [==============================] - 8s 789ms/step - loss: 0.0659 - emotion_output_loss: 0.0407 - sentiment_output_loss: 0.0252 - emotion_output_accuracy: 0.9860 - sentiment_output_accuracy: 0.9909 - val_loss: 6.0061 - val_emotion_output_loss: 3.6987 - val_sentiment_output_loss: 2.3073 - val_emotion_output_accuracy: 0.5180 - val_sentiment_output_accuracy: 0.7076\n",
            "Epoch 37/100\n",
            "10/10 [==============================] - 8s 830ms/step - loss: 0.0576 - emotion_output_loss: 0.0386 - sentiment_output_loss: 0.0190 - emotion_output_accuracy: 0.9874 - sentiment_output_accuracy: 0.9926 - val_loss: 6.1928 - val_emotion_output_loss: 3.8548 - val_sentiment_output_loss: 2.3380 - val_emotion_output_accuracy: 0.5224 - val_sentiment_output_accuracy: 0.7056\n",
            "Epoch 38/100\n",
            "10/10 [==============================] - 8s 828ms/step - loss: 0.0646 - emotion_output_loss: 0.0417 - sentiment_output_loss: 0.0229 - emotion_output_accuracy: 0.9860 - sentiment_output_accuracy: 0.9917 - val_loss: 6.0989 - val_emotion_output_loss: 3.9498 - val_sentiment_output_loss: 2.1491 - val_emotion_output_accuracy: 0.5036 - val_sentiment_output_accuracy: 0.7074\n",
            "Epoch 39/100\n",
            "10/10 [==============================] - 8s 789ms/step - loss: 0.0698 - emotion_output_loss: 0.0464 - sentiment_output_loss: 0.0234 - emotion_output_accuracy: 0.9836 - sentiment_output_accuracy: 0.9922 - val_loss: 6.0296 - val_emotion_output_loss: 3.7484 - val_sentiment_output_loss: 2.2812 - val_emotion_output_accuracy: 0.5216 - val_sentiment_output_accuracy: 0.7131\n",
            "Epoch 40/100\n",
            "10/10 [==============================] - 8s 866ms/step - loss: 0.0640 - emotion_output_loss: 0.0415 - sentiment_output_loss: 0.0225 - emotion_output_accuracy: 0.9861 - sentiment_output_accuracy: 0.9926 - val_loss: 6.1263 - val_emotion_output_loss: 3.8311 - val_sentiment_output_loss: 2.2952 - val_emotion_output_accuracy: 0.4934 - val_sentiment_output_accuracy: 0.7066\n",
            "Epoch 41/100\n",
            "10/10 [==============================] - 8s 797ms/step - loss: 0.0573 - emotion_output_loss: 0.0394 - sentiment_output_loss: 0.0178 - emotion_output_accuracy: 0.9869 - sentiment_output_accuracy: 0.9943 - val_loss: 6.0381 - val_emotion_output_loss: 3.7645 - val_sentiment_output_loss: 2.2735 - val_emotion_output_accuracy: 0.5184 - val_sentiment_output_accuracy: 0.7101\n",
            "Epoch 42/100\n",
            "10/10 [==============================] - 8s 787ms/step - loss: 0.0566 - emotion_output_loss: 0.0353 - sentiment_output_loss: 0.0213 - emotion_output_accuracy: 0.9868 - sentiment_output_accuracy: 0.9928 - val_loss: 6.2111 - val_emotion_output_loss: 3.8290 - val_sentiment_output_loss: 2.3821 - val_emotion_output_accuracy: 0.5136 - val_sentiment_output_accuracy: 0.7014\n",
            "Epoch 43/100\n",
            "10/10 [==============================] - 8s 828ms/step - loss: 0.0494 - emotion_output_loss: 0.0329 - sentiment_output_loss: 0.0165 - emotion_output_accuracy: 0.9881 - sentiment_output_accuracy: 0.9940 - val_loss: 6.2738 - val_emotion_output_loss: 3.9470 - val_sentiment_output_loss: 2.3268 - val_emotion_output_accuracy: 0.5044 - val_sentiment_output_accuracy: 0.7125\n",
            "Epoch 44/100\n",
            "10/10 [==============================] - 8s 853ms/step - loss: 0.0411 - emotion_output_loss: 0.0267 - sentiment_output_loss: 0.0144 - emotion_output_accuracy: 0.9916 - sentiment_output_accuracy: 0.9950 - val_loss: 6.5010 - val_emotion_output_loss: 4.0468 - val_sentiment_output_loss: 2.4542 - val_emotion_output_accuracy: 0.5160 - val_sentiment_output_accuracy: 0.7008\n",
            "Epoch 45/100\n",
            "10/10 [==============================] - 8s 800ms/step - loss: 0.0411 - emotion_output_loss: 0.0277 - sentiment_output_loss: 0.0133 - emotion_output_accuracy: 0.9918 - sentiment_output_accuracy: 0.9954 - val_loss: 6.4752 - val_emotion_output_loss: 4.0158 - val_sentiment_output_loss: 2.4593 - val_emotion_output_accuracy: 0.5212 - val_sentiment_output_accuracy: 0.7062\n",
            "Epoch 46/100\n",
            "10/10 [==============================] - 8s 786ms/step - loss: 0.0349 - emotion_output_loss: 0.0231 - sentiment_output_loss: 0.0118 - emotion_output_accuracy: 0.9927 - sentiment_output_accuracy: 0.9959 - val_loss: 6.5855 - val_emotion_output_loss: 4.1118 - val_sentiment_output_loss: 2.4736 - val_emotion_output_accuracy: 0.5272 - val_sentiment_output_accuracy: 0.7143\n",
            "Epoch 47/100\n",
            "10/10 [==============================] - 8s 846ms/step - loss: 0.0374 - emotion_output_loss: 0.0224 - sentiment_output_loss: 0.0150 - emotion_output_accuracy: 0.9924 - sentiment_output_accuracy: 0.9944 - val_loss: 6.7232 - val_emotion_output_loss: 4.1893 - val_sentiment_output_loss: 2.5338 - val_emotion_output_accuracy: 0.5230 - val_sentiment_output_accuracy: 0.7107\n",
            "Epoch 48/100\n",
            "10/10 [==============================] - 8s 802ms/step - loss: 0.0347 - emotion_output_loss: 0.0226 - sentiment_output_loss: 0.0121 - emotion_output_accuracy: 0.9922 - sentiment_output_accuracy: 0.9957 - val_loss: 6.8472 - val_emotion_output_loss: 4.1978 - val_sentiment_output_loss: 2.6494 - val_emotion_output_accuracy: 0.5154 - val_sentiment_output_accuracy: 0.7111\n",
            "Epoch 49/100\n",
            "10/10 [==============================] - 8s 789ms/step - loss: 0.0350 - emotion_output_loss: 0.0197 - sentiment_output_loss: 0.0153 - emotion_output_accuracy: 0.9933 - sentiment_output_accuracy: 0.9947 - val_loss: 6.4667 - val_emotion_output_loss: 4.1349 - val_sentiment_output_loss: 2.3318 - val_emotion_output_accuracy: 0.5160 - val_sentiment_output_accuracy: 0.7149\n",
            "Epoch 50/100\n",
            "10/10 [==============================] - 8s 828ms/step - loss: 0.0316 - emotion_output_loss: 0.0196 - sentiment_output_loss: 0.0120 - emotion_output_accuracy: 0.9937 - sentiment_output_accuracy: 0.9958 - val_loss: 6.7322 - val_emotion_output_loss: 4.0749 - val_sentiment_output_loss: 2.6573 - val_emotion_output_accuracy: 0.5086 - val_sentiment_output_accuracy: 0.7087\n",
            "Epoch 51/100\n",
            "10/10 [==============================] - 8s 798ms/step - loss: 0.0326 - emotion_output_loss: 0.0218 - sentiment_output_loss: 0.0108 - emotion_output_accuracy: 0.9923 - sentiment_output_accuracy: 0.9966 - val_loss: 6.8144 - val_emotion_output_loss: 4.2110 - val_sentiment_output_loss: 2.6034 - val_emotion_output_accuracy: 0.5400 - val_sentiment_output_accuracy: 0.7181\n",
            "Epoch 52/100\n",
            "10/10 [==============================] - 8s 811ms/step - loss: 0.0296 - emotion_output_loss: 0.0192 - sentiment_output_loss: 0.0104 - emotion_output_accuracy: 0.9939 - sentiment_output_accuracy: 0.9967 - val_loss: 6.8745 - val_emotion_output_loss: 4.3306 - val_sentiment_output_loss: 2.5439 - val_emotion_output_accuracy: 0.5222 - val_sentiment_output_accuracy: 0.7082\n",
            "Epoch 53/100\n",
            "10/10 [==============================] - 8s 823ms/step - loss: 0.0329 - emotion_output_loss: 0.0225 - sentiment_output_loss: 0.0105 - emotion_output_accuracy: 0.9930 - sentiment_output_accuracy: 0.9968 - val_loss: 7.0936 - val_emotion_output_loss: 4.4209 - val_sentiment_output_loss: 2.6728 - val_emotion_output_accuracy: 0.5224 - val_sentiment_output_accuracy: 0.7074\n",
            "Epoch 54/100\n",
            "10/10 [==============================] - 8s 782ms/step - loss: 0.0288 - emotion_output_loss: 0.0210 - sentiment_output_loss: 0.0077 - emotion_output_accuracy: 0.9934 - sentiment_output_accuracy: 0.9974 - val_loss: 7.0155 - val_emotion_output_loss: 4.4257 - val_sentiment_output_loss: 2.5898 - val_emotion_output_accuracy: 0.5018 - val_sentiment_output_accuracy: 0.7074\n",
            "Epoch 55/100\n",
            "10/10 [==============================] - 8s 845ms/step - loss: 0.0307 - emotion_output_loss: 0.0229 - sentiment_output_loss: 0.0078 - emotion_output_accuracy: 0.9932 - sentiment_output_accuracy: 0.9971 - val_loss: 7.0151 - val_emotion_output_loss: 4.2629 - val_sentiment_output_loss: 2.7522 - val_emotion_output_accuracy: 0.5178 - val_sentiment_output_accuracy: 0.7010\n",
            "Epoch 56/100\n",
            "10/10 [==============================] - 8s 791ms/step - loss: 0.0283 - emotion_output_loss: 0.0209 - sentiment_output_loss: 0.0074 - emotion_output_accuracy: 0.9933 - sentiment_output_accuracy: 0.9973 - val_loss: 6.9114 - val_emotion_output_loss: 4.2372 - val_sentiment_output_loss: 2.6742 - val_emotion_output_accuracy: 0.5108 - val_sentiment_output_accuracy: 0.7105\n",
            "Epoch 57/100\n",
            "10/10 [==============================] - 8s 774ms/step - loss: 0.0273 - emotion_output_loss: 0.0187 - sentiment_output_loss: 0.0086 - emotion_output_accuracy: 0.9941 - sentiment_output_accuracy: 0.9969 - val_loss: 7.0126 - val_emotion_output_loss: 4.3560 - val_sentiment_output_loss: 2.6566 - val_emotion_output_accuracy: 0.5144 - val_sentiment_output_accuracy: 0.7143\n",
            "Epoch 58/100\n",
            "10/10 [==============================] - 8s 776ms/step - loss: 0.0288 - emotion_output_loss: 0.0176 - sentiment_output_loss: 0.0113 - emotion_output_accuracy: 0.9940 - sentiment_output_accuracy: 0.9965 - val_loss: 6.8801 - val_emotion_output_loss: 4.2842 - val_sentiment_output_loss: 2.5959 - val_emotion_output_accuracy: 0.5312 - val_sentiment_output_accuracy: 0.7093\n",
            "Epoch 59/100\n",
            "10/10 [==============================] - 8s 790ms/step - loss: 0.0289 - emotion_output_loss: 0.0176 - sentiment_output_loss: 0.0113 - emotion_output_accuracy: 0.9943 - sentiment_output_accuracy: 0.9963 - val_loss: 6.8961 - val_emotion_output_loss: 4.2124 - val_sentiment_output_loss: 2.6837 - val_emotion_output_accuracy: 0.5156 - val_sentiment_output_accuracy: 0.6984\n",
            "Epoch 60/100\n",
            "10/10 [==============================] - 8s 811ms/step - loss: 0.0229 - emotion_output_loss: 0.0158 - sentiment_output_loss: 0.0071 - emotion_output_accuracy: 0.9953 - sentiment_output_accuracy: 0.9975 - val_loss: 6.9665 - val_emotion_output_loss: 4.3639 - val_sentiment_output_loss: 2.6026 - val_emotion_output_accuracy: 0.5140 - val_sentiment_output_accuracy: 0.7048\n",
            "Epoch 61/100\n",
            "10/10 [==============================] - 8s 839ms/step - loss: 0.0205 - emotion_output_loss: 0.0133 - sentiment_output_loss: 0.0072 - emotion_output_accuracy: 0.9958 - sentiment_output_accuracy: 0.9974 - val_loss: 7.2300 - val_emotion_output_loss: 4.4100 - val_sentiment_output_loss: 2.8200 - val_emotion_output_accuracy: 0.5216 - val_sentiment_output_accuracy: 0.7056\n",
            "Epoch 62/100\n",
            "10/10 [==============================] - 8s 788ms/step - loss: 0.0209 - emotion_output_loss: 0.0137 - sentiment_output_loss: 0.0072 - emotion_output_accuracy: 0.9954 - sentiment_output_accuracy: 0.9974 - val_loss: 7.1045 - val_emotion_output_loss: 4.4520 - val_sentiment_output_loss: 2.6524 - val_emotion_output_accuracy: 0.5108 - val_sentiment_output_accuracy: 0.7121\n",
            "Epoch 63/100\n",
            "10/10 [==============================] - 8s 788ms/step - loss: 0.0194 - emotion_output_loss: 0.0138 - sentiment_output_loss: 0.0055 - emotion_output_accuracy: 0.9957 - sentiment_output_accuracy: 0.9979 - val_loss: 7.3502 - val_emotion_output_loss: 4.5509 - val_sentiment_output_loss: 2.7993 - val_emotion_output_accuracy: 0.5112 - val_sentiment_output_accuracy: 0.7113\n",
            "Epoch 64/100\n",
            "10/10 [==============================] - 8s 844ms/step - loss: 0.0192 - emotion_output_loss: 0.0124 - sentiment_output_loss: 0.0068 - emotion_output_accuracy: 0.9957 - sentiment_output_accuracy: 0.9980 - val_loss: 7.1086 - val_emotion_output_loss: 4.5261 - val_sentiment_output_loss: 2.5825 - val_emotion_output_accuracy: 0.5154 - val_sentiment_output_accuracy: 0.7165\n",
            "Epoch 65/100\n",
            "10/10 [==============================] - 8s 802ms/step - loss: 0.0182 - emotion_output_loss: 0.0122 - sentiment_output_loss: 0.0059 - emotion_output_accuracy: 0.9961 - sentiment_output_accuracy: 0.9979 - val_loss: 7.4251 - val_emotion_output_loss: 4.6189 - val_sentiment_output_loss: 2.8062 - val_emotion_output_accuracy: 0.5112 - val_sentiment_output_accuracy: 0.7137\n",
            "Epoch 66/100\n",
            "10/10 [==============================] - 8s 779ms/step - loss: 0.0207 - emotion_output_loss: 0.0130 - sentiment_output_loss: 0.0077 - emotion_output_accuracy: 0.9954 - sentiment_output_accuracy: 0.9972 - val_loss: 7.6464 - val_emotion_output_loss: 4.7784 - val_sentiment_output_loss: 2.8680 - val_emotion_output_accuracy: 0.5242 - val_sentiment_output_accuracy: 0.7221\n",
            "Epoch 67/100\n",
            "10/10 [==============================] - 8s 798ms/step - loss: 0.0242 - emotion_output_loss: 0.0154 - sentiment_output_loss: 0.0088 - emotion_output_accuracy: 0.9955 - sentiment_output_accuracy: 0.9968 - val_loss: 7.2667 - val_emotion_output_loss: 4.6366 - val_sentiment_output_loss: 2.6301 - val_emotion_output_accuracy: 0.5284 - val_sentiment_output_accuracy: 0.7221\n",
            "Epoch 68/100\n",
            "10/10 [==============================] - 8s 812ms/step - loss: 0.0241 - emotion_output_loss: 0.0134 - sentiment_output_loss: 0.0107 - emotion_output_accuracy: 0.9948 - sentiment_output_accuracy: 0.9969 - val_loss: 7.5396 - val_emotion_output_loss: 4.5714 - val_sentiment_output_loss: 2.9682 - val_emotion_output_accuracy: 0.4982 - val_sentiment_output_accuracy: 0.6946\n",
            "Epoch 69/100\n",
            "10/10 [==============================] - 9s 870ms/step - loss: 0.0321 - emotion_output_loss: 0.0212 - sentiment_output_loss: 0.0109 - emotion_output_accuracy: 0.9937 - sentiment_output_accuracy: 0.9964 - val_loss: 6.7927 - val_emotion_output_loss: 4.2379 - val_sentiment_output_loss: 2.5548 - val_emotion_output_accuracy: 0.5300 - val_sentiment_output_accuracy: 0.7149\n",
            "Epoch 70/100\n",
            "10/10 [==============================] - 8s 812ms/step - loss: 0.0270 - emotion_output_loss: 0.0182 - sentiment_output_loss: 0.0087 - emotion_output_accuracy: 0.9939 - sentiment_output_accuracy: 0.9975 - val_loss: 6.9541 - val_emotion_output_loss: 4.2476 - val_sentiment_output_loss: 2.7065 - val_emotion_output_accuracy: 0.5238 - val_sentiment_output_accuracy: 0.7062\n",
            "Epoch 71/100\n",
            "10/10 [==============================] - 8s 774ms/step - loss: 0.0264 - emotion_output_loss: 0.0173 - sentiment_output_loss: 0.0091 - emotion_output_accuracy: 0.9940 - sentiment_output_accuracy: 0.9968 - val_loss: 6.7228 - val_emotion_output_loss: 4.1360 - val_sentiment_output_loss: 2.5868 - val_emotion_output_accuracy: 0.5324 - val_sentiment_output_accuracy: 0.7034\n",
            "Epoch 72/100\n",
            "10/10 [==============================] - 8s 776ms/step - loss: 0.0218 - emotion_output_loss: 0.0148 - sentiment_output_loss: 0.0070 - emotion_output_accuracy: 0.9956 - sentiment_output_accuracy: 0.9980 - val_loss: 6.6033 - val_emotion_output_loss: 4.0040 - val_sentiment_output_loss: 2.5993 - val_emotion_output_accuracy: 0.5298 - val_sentiment_output_accuracy: 0.7024\n",
            "Epoch 73/100\n",
            "10/10 [==============================] - 8s 803ms/step - loss: 0.0177 - emotion_output_loss: 0.0120 - sentiment_output_loss: 0.0058 - emotion_output_accuracy: 0.9954 - sentiment_output_accuracy: 0.9979 - val_loss: 7.0748 - val_emotion_output_loss: 4.3329 - val_sentiment_output_loss: 2.7419 - val_emotion_output_accuracy: 0.5288 - val_sentiment_output_accuracy: 0.7109\n",
            "Epoch 74/100\n",
            "10/10 [==============================] - 8s 776ms/step - loss: 0.0165 - emotion_output_loss: 0.0106 - sentiment_output_loss: 0.0059 - emotion_output_accuracy: 0.9962 - sentiment_output_accuracy: 0.9980 - val_loss: 7.3069 - val_emotion_output_loss: 4.6059 - val_sentiment_output_loss: 2.7010 - val_emotion_output_accuracy: 0.5256 - val_sentiment_output_accuracy: 0.7131\n",
            "Epoch 75/100\n",
            "10/10 [==============================] - 8s 776ms/step - loss: 0.0159 - emotion_output_loss: 0.0102 - sentiment_output_loss: 0.0056 - emotion_output_accuracy: 0.9968 - sentiment_output_accuracy: 0.9985 - val_loss: 7.4061 - val_emotion_output_loss: 4.7403 - val_sentiment_output_loss: 2.6658 - val_emotion_output_accuracy: 0.5142 - val_sentiment_output_accuracy: 0.7209\n",
            "Epoch 76/100\n",
            "10/10 [==============================] - 8s 789ms/step - loss: 0.0155 - emotion_output_loss: 0.0092 - sentiment_output_loss: 0.0063 - emotion_output_accuracy: 0.9970 - sentiment_output_accuracy: 0.9979 - val_loss: 7.3261 - val_emotion_output_loss: 4.5341 - val_sentiment_output_loss: 2.7921 - val_emotion_output_accuracy: 0.5178 - val_sentiment_output_accuracy: 0.7018\n",
            "Epoch 77/100\n",
            "10/10 [==============================] - 8s 790ms/step - loss: 0.0186 - emotion_output_loss: 0.0115 - sentiment_output_loss: 0.0071 - emotion_output_accuracy: 0.9965 - sentiment_output_accuracy: 0.9977 - val_loss: 7.4791 - val_emotion_output_loss: 4.5806 - val_sentiment_output_loss: 2.8985 - val_emotion_output_accuracy: 0.5280 - val_sentiment_output_accuracy: 0.7127\n",
            "Epoch 78/100\n",
            "10/10 [==============================] - 8s 803ms/step - loss: 0.0167 - emotion_output_loss: 0.0098 - sentiment_output_loss: 0.0069 - emotion_output_accuracy: 0.9969 - sentiment_output_accuracy: 0.9976 - val_loss: 7.3864 - val_emotion_output_loss: 4.6124 - val_sentiment_output_loss: 2.7740 - val_emotion_output_accuracy: 0.5156 - val_sentiment_output_accuracy: 0.7068\n",
            "Epoch 79/100\n",
            "10/10 [==============================] - 8s 850ms/step - loss: 0.0159 - emotion_output_loss: 0.0102 - sentiment_output_loss: 0.0057 - emotion_output_accuracy: 0.9969 - sentiment_output_accuracy: 0.9983 - val_loss: 7.5897 - val_emotion_output_loss: 4.8153 - val_sentiment_output_loss: 2.7744 - val_emotion_output_accuracy: 0.5232 - val_sentiment_output_accuracy: 0.7175\n",
            "Epoch 80/100\n",
            "10/10 [==============================] - 8s 814ms/step - loss: 0.0154 - emotion_output_loss: 0.0108 - sentiment_output_loss: 0.0046 - emotion_output_accuracy: 0.9966 - sentiment_output_accuracy: 0.9987 - val_loss: 7.4518 - val_emotion_output_loss: 4.6079 - val_sentiment_output_loss: 2.8439 - val_emotion_output_accuracy: 0.5148 - val_sentiment_output_accuracy: 0.7131\n",
            "Epoch 81/100\n",
            "10/10 [==============================] - 8s 836ms/step - loss: 0.0140 - emotion_output_loss: 0.0098 - sentiment_output_loss: 0.0042 - emotion_output_accuracy: 0.9969 - sentiment_output_accuracy: 0.9987 - val_loss: 7.3143 - val_emotion_output_loss: 4.5897 - val_sentiment_output_loss: 2.7247 - val_emotion_output_accuracy: 0.5352 - val_sentiment_output_accuracy: 0.7179\n",
            "Epoch 82/100\n",
            "10/10 [==============================] - 8s 813ms/step - loss: 0.0131 - emotion_output_loss: 0.0090 - sentiment_output_loss: 0.0042 - emotion_output_accuracy: 0.9966 - sentiment_output_accuracy: 0.9984 - val_loss: 7.7546 - val_emotion_output_loss: 4.7338 - val_sentiment_output_loss: 3.0209 - val_emotion_output_accuracy: 0.5034 - val_sentiment_output_accuracy: 0.7028\n",
            "Epoch 83/100\n",
            "10/10 [==============================] - 8s 786ms/step - loss: 0.0142 - emotion_output_loss: 0.0088 - sentiment_output_loss: 0.0053 - emotion_output_accuracy: 0.9970 - sentiment_output_accuracy: 0.9986 - val_loss: 7.6574 - val_emotion_output_loss: 4.7348 - val_sentiment_output_loss: 2.9226 - val_emotion_output_accuracy: 0.5206 - val_sentiment_output_accuracy: 0.7080\n",
            "Epoch 84/100\n",
            "10/10 [==============================] - 8s 813ms/step - loss: 0.0132 - emotion_output_loss: 0.0079 - sentiment_output_loss: 0.0053 - emotion_output_accuracy: 0.9974 - sentiment_output_accuracy: 0.9983 - val_loss: 7.6947 - val_emotion_output_loss: 4.7829 - val_sentiment_output_loss: 2.9118 - val_emotion_output_accuracy: 0.5126 - val_sentiment_output_accuracy: 0.7087\n",
            "Epoch 85/100\n",
            "10/10 [==============================] - 8s 777ms/step - loss: 0.0143 - emotion_output_loss: 0.0102 - sentiment_output_loss: 0.0041 - emotion_output_accuracy: 0.9969 - sentiment_output_accuracy: 0.9987 - val_loss: 7.5804 - val_emotion_output_loss: 4.8236 - val_sentiment_output_loss: 2.7568 - val_emotion_output_accuracy: 0.5202 - val_sentiment_output_accuracy: 0.7225\n",
            "Epoch 86/100\n",
            "10/10 [==============================] - 8s 786ms/step - loss: 0.0194 - emotion_output_loss: 0.0128 - sentiment_output_loss: 0.0066 - emotion_output_accuracy: 0.9958 - sentiment_output_accuracy: 0.9981 - val_loss: 7.3256 - val_emotion_output_loss: 4.5802 - val_sentiment_output_loss: 2.7453 - val_emotion_output_accuracy: 0.5244 - val_sentiment_output_accuracy: 0.7163\n",
            "Epoch 87/100\n",
            "10/10 [==============================] - 8s 802ms/step - loss: 0.0196 - emotion_output_loss: 0.0142 - sentiment_output_loss: 0.0054 - emotion_output_accuracy: 0.9957 - sentiment_output_accuracy: 0.9986 - val_loss: 7.6366 - val_emotion_output_loss: 4.7396 - val_sentiment_output_loss: 2.8970 - val_emotion_output_accuracy: 0.5523 - val_sentiment_output_accuracy: 0.7119\n",
            "Epoch 88/100\n",
            "10/10 [==============================] - 8s 778ms/step - loss: 0.0289 - emotion_output_loss: 0.0228 - sentiment_output_loss: 0.0061 - emotion_output_accuracy: 0.9922 - sentiment_output_accuracy: 0.9982 - val_loss: 6.8217 - val_emotion_output_loss: 4.2661 - val_sentiment_output_loss: 2.5556 - val_emotion_output_accuracy: 0.5445 - val_sentiment_output_accuracy: 0.7213\n",
            "Epoch 89/100\n",
            "10/10 [==============================] - 8s 846ms/step - loss: 0.0222 - emotion_output_loss: 0.0139 - sentiment_output_loss: 0.0084 - emotion_output_accuracy: 0.9953 - sentiment_output_accuracy: 0.9975 - val_loss: 6.8756 - val_emotion_output_loss: 4.2788 - val_sentiment_output_loss: 2.5968 - val_emotion_output_accuracy: 0.5194 - val_sentiment_output_accuracy: 0.7028\n",
            "Epoch 90/100\n",
            "10/10 [==============================] - 8s 791ms/step - loss: 0.0173 - emotion_output_loss: 0.0102 - sentiment_output_loss: 0.0071 - emotion_output_accuracy: 0.9965 - sentiment_output_accuracy: 0.9974 - val_loss: 6.9902 - val_emotion_output_loss: 4.2849 - val_sentiment_output_loss: 2.7052 - val_emotion_output_accuracy: 0.5210 - val_sentiment_output_accuracy: 0.7163\n",
            "Epoch 91/100\n",
            "10/10 [==============================] - 8s 780ms/step - loss: 0.0136 - emotion_output_loss: 0.0088 - sentiment_output_loss: 0.0048 - emotion_output_accuracy: 0.9968 - sentiment_output_accuracy: 0.9983 - val_loss: 7.1194 - val_emotion_output_loss: 4.3561 - val_sentiment_output_loss: 2.7633 - val_emotion_output_accuracy: 0.5278 - val_sentiment_output_accuracy: 0.6964\n",
            "Epoch 92/100\n",
            "10/10 [==============================] - 8s 787ms/step - loss: 0.0154 - emotion_output_loss: 0.0092 - sentiment_output_loss: 0.0062 - emotion_output_accuracy: 0.9969 - sentiment_output_accuracy: 0.9979 - val_loss: 7.3040 - val_emotion_output_loss: 4.5811 - val_sentiment_output_loss: 2.7229 - val_emotion_output_accuracy: 0.5208 - val_sentiment_output_accuracy: 0.7056\n",
            "Epoch 93/100\n",
            "10/10 [==============================] - 8s 811ms/step - loss: 0.0142 - emotion_output_loss: 0.0095 - sentiment_output_loss: 0.0047 - emotion_output_accuracy: 0.9969 - sentiment_output_accuracy: 0.9983 - val_loss: 7.2332 - val_emotion_output_loss: 4.5317 - val_sentiment_output_loss: 2.7015 - val_emotion_output_accuracy: 0.5148 - val_sentiment_output_accuracy: 0.7024\n",
            "Epoch 94/100\n",
            "10/10 [==============================] - 8s 786ms/step - loss: 0.0138 - emotion_output_loss: 0.0090 - sentiment_output_loss: 0.0048 - emotion_output_accuracy: 0.9967 - sentiment_output_accuracy: 0.9985 - val_loss: 7.4985 - val_emotion_output_loss: 4.5817 - val_sentiment_output_loss: 2.9169 - val_emotion_output_accuracy: 0.5262 - val_sentiment_output_accuracy: 0.6984\n",
            "Epoch 95/100\n",
            "10/10 [==============================] - 8s 780ms/step - loss: 0.0147 - emotion_output_loss: 0.0085 - sentiment_output_loss: 0.0062 - emotion_output_accuracy: 0.9974 - sentiment_output_accuracy: 0.9978 - val_loss: 7.4090 - val_emotion_output_loss: 4.4591 - val_sentiment_output_loss: 2.9498 - val_emotion_output_accuracy: 0.5465 - val_sentiment_output_accuracy: 0.7046\n",
            "Epoch 96/100\n",
            "10/10 [==============================] - 8s 816ms/step - loss: 0.0135 - emotion_output_loss: 0.0069 - sentiment_output_loss: 0.0065 - emotion_output_accuracy: 0.9980 - sentiment_output_accuracy: 0.9979 - val_loss: 7.4125 - val_emotion_output_loss: 4.5919 - val_sentiment_output_loss: 2.8206 - val_emotion_output_accuracy: 0.5280 - val_sentiment_output_accuracy: 0.7127\n",
            "Epoch 97/100\n",
            "10/10 [==============================] - 8s 788ms/step - loss: 0.0129 - emotion_output_loss: 0.0068 - sentiment_output_loss: 0.0061 - emotion_output_accuracy: 0.9977 - sentiment_output_accuracy: 0.9982 - val_loss: 7.5289 - val_emotion_output_loss: 4.7329 - val_sentiment_output_loss: 2.7960 - val_emotion_output_accuracy: 0.5304 - val_sentiment_output_accuracy: 0.7006\n",
            "Epoch 98/100\n",
            "10/10 [==============================] - 8s 825ms/step - loss: 0.0170 - emotion_output_loss: 0.0119 - sentiment_output_loss: 0.0051 - emotion_output_accuracy: 0.9959 - sentiment_output_accuracy: 0.9982 - val_loss: 7.5366 - val_emotion_output_loss: 4.9005 - val_sentiment_output_loss: 2.6361 - val_emotion_output_accuracy: 0.5226 - val_sentiment_output_accuracy: 0.7091\n",
            "Epoch 99/100\n",
            "10/10 [==============================] - 8s 847ms/step - loss: 0.0114 - emotion_output_loss: 0.0080 - sentiment_output_loss: 0.0034 - emotion_output_accuracy: 0.9974 - sentiment_output_accuracy: 0.9988 - val_loss: 7.4382 - val_emotion_output_loss: 4.6313 - val_sentiment_output_loss: 2.8069 - val_emotion_output_accuracy: 0.5142 - val_sentiment_output_accuracy: 0.7050\n",
            "Epoch 100/100\n",
            "10/10 [==============================] - 8s 780ms/step - loss: 0.0134 - emotion_output_loss: 0.0083 - sentiment_output_loss: 0.0051 - emotion_output_accuracy: 0.9974 - sentiment_output_accuracy: 0.9989 - val_loss: 7.4932 - val_emotion_output_loss: 4.6729 - val_sentiment_output_loss: 2.8203 - val_emotion_output_accuracy: 0.5132 - val_sentiment_output_accuracy: 0.7103\n"
          ]
        }
      ]
    }
  ]
}